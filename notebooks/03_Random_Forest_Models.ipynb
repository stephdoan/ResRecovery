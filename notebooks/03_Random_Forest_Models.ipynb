{
 "cells": [
  {
   "cell_type": "code",
   "execution_count": 1,
   "metadata": {},
   "outputs": [],
   "source": [
    "import os\n",
    "import sys\n",
    "import re\n",
    "\n",
    "import numpy as np\n",
    "import pandas as pd\n",
    "import scipy as sp\n",
    "import matplotlib.pyplot as plt\n",
    "import seaborn as sns\n",
    "from scipy import signal\n",
    "\n",
    "from sklearn.ensemble import RandomForestClassifier\n",
    "from sklearn.tree import DecisionTreeClassifier, export_graphviz\n",
    "from sklearn.model_selection import train_test_split, GridSearchCV, cross_val_score\n",
    "from sklearn.preprocessing import StandardScaler\n",
    "from sklearn.metrics import confusion_matrix, f1_score, accuracy_score, make_scorer\n",
    "\n",
    "import warnings\n",
    "warnings.filterwarnings('ignore')\n",
    "\n",
    "%matplotlib inline"
   ]
  },
  {
   "cell_type": "code",
   "execution_count": 2,
   "metadata": {},
   "outputs": [],
   "source": [
    "sys.path.insert(0, '../src')\n",
    "\n",
    "from features import *"
   ]
  },
  {
   "cell_type": "code",
   "execution_count": 3,
   "metadata": {},
   "outputs": [],
   "source": [
    "features = [\n",
    "  \"download_avg\", \n",
    "  \"download_std\",\n",
    "  \"diff_pkts\",\n",
    "  \"peak_avg\",\n",
    "  \"peak_std\",\n",
    "  \"peak_amount\", \n",
    "  \"seconds_per_peak\", \n",
    "  \"psd_std\", \n",
    "  \"prominence_std\",\n",
    "  \"max_prominence\",\n",
    "  \"download_cv\",\n",
    "  \"upload_cv\",\n",
    "  \"rolling_cv\" \n",
    "]\n",
    "\n",
    "size = 300"
   ]
  },
  {
   "cell_type": "code",
   "execution_count": 4,
   "metadata": {},
   "outputs": [],
   "source": [
    "two_four_dir = ['../data/240p/' + fp for fp in os.listdir('../data/240p')]\n",
    "three_six_dir = ['../data/360p/' + fp for fp in os.listdir('../data/360p')]\n",
    "four_eight_dir = ['../data/480p/' + fp for fp in os.listdir('../data/480p')]\n",
    "seven_two_dir = ['../data/720p/' + fp for fp in os.listdir('../data/720p')]\n",
    "ten_eight_dir = ['../data/1080p/' + fp for fp in os.listdir('../data/1080p')]\n",
    "\n",
    "feat_240 = np.vstack(([create_features(fp, size, 5, 1, .5) for fp in two_four_dir]))\n",
    "feat_360 = np.vstack(([create_features(fp, size, 5, 1, .5) for fp in three_six_dir]))\n",
    "feat_480 = np.vstack(([create_features(fp, size, 5, 1, .5) for fp in four_eight_dir]))\n",
    "feat_720 = np.vstack(([create_features(fp, size, 5, 1, .5) for fp in seven_two_dir]))\n",
    "feat_1080 = np.vstack(([create_features(fp, size, 5, 1, .5) for fp in ten_eight_dir]))\n",
    "\n",
    "feat_df_240 = pd.DataFrame(columns=features, data=feat_240)\n",
    "feat_df_240['resolution'] = 1\n",
    "\n",
    "feat_df_360 = pd.DataFrame(columns=features, data=feat_360)\n",
    "feat_df_360['resolution'] = 2\n",
    "\n",
    "feat_df_480 = pd.DataFrame(columns=features, data=feat_480)\n",
    "feat_df_480['resolution'] = 3\n",
    "\n",
    "feat_df_720 = pd.DataFrame(columns=features, data=feat_720)\n",
    "feat_df_720['resolution'] = 4\n",
    "\n",
    "feat_df_1080 = pd.DataFrame(columns=features, data=feat_1080)\n",
    "feat_df_1080['resolution'] = 5"
   ]
  },
  {
   "cell_type": "markdown",
   "metadata": {},
   "source": [
    "## Baseline Model - 3 Resolutions\n",
    "\n",
    "We started with a basic model with 3 even spaced resolutions: 240p, 480p, and 1080p. Our intention was to ensure that our features were sufficient enough to define distinctions between fairly spaced classes before attempting more defined predictions. Through some experimentation, we decided to move forward with a Random Forest model. Random Forest is better attuned for multiclassification situations like ours and its inherent randomness of feature selection will overcome so the correlation within our features. Random Forest is also an ideal algorithm since we don't need to scale (standardize or normalize) our data due to its "
   ]
  },
  {
   "cell_type": "code",
   "execution_count": 5,
   "metadata": {},
   "outputs": [
    {
     "data": {
      "text/plain": [
       "(217, 14)"
      ]
     },
     "execution_count": 5,
     "metadata": {},
     "output_type": "execute_result"
    }
   ],
   "source": [
    "training = pd.concat((\n",
    "  feat_df_240,\n",
    "  feat_df_480,\n",
    "  feat_df_1080\n",
    "))\n",
    "\n",
    "training.shape"
   ]
  },
  {
   "cell_type": "code",
   "execution_count": 6,
   "metadata": {},
   "outputs": [
    {
     "name": "stdout",
     "output_type": "stream",
     "text": [
      "Random Forest - Baseline Accuracy: 0.9545454545454546\n"
     ]
    },
    {
     "data": {
      "text/html": [
       "<div>\n",
       "<style scoped>\n",
       "    .dataframe tbody tr th:only-of-type {\n",
       "        vertical-align: middle;\n",
       "    }\n",
       "\n",
       "    .dataframe tbody tr th {\n",
       "        vertical-align: top;\n",
       "    }\n",
       "\n",
       "    .dataframe thead th {\n",
       "        text-align: right;\n",
       "    }\n",
       "</style>\n",
       "<table border=\"1\" class=\"dataframe\">\n",
       "  <thead>\n",
       "    <tr style=\"text-align: right;\">\n",
       "      <th>Predicted Resolution</th>\n",
       "      <th>1</th>\n",
       "      <th>3</th>\n",
       "      <th>5</th>\n",
       "    </tr>\n",
       "    <tr>\n",
       "      <th>Actual Resolution</th>\n",
       "      <th></th>\n",
       "      <th></th>\n",
       "      <th></th>\n",
       "    </tr>\n",
       "  </thead>\n",
       "  <tbody>\n",
       "    <tr>\n",
       "      <th>1</th>\n",
       "      <td>22</td>\n",
       "      <td>0</td>\n",
       "      <td>0</td>\n",
       "    </tr>\n",
       "    <tr>\n",
       "      <th>3</th>\n",
       "      <td>0</td>\n",
       "      <td>20</td>\n",
       "      <td>2</td>\n",
       "    </tr>\n",
       "    <tr>\n",
       "      <th>5</th>\n",
       "      <td>1</td>\n",
       "      <td>0</td>\n",
       "      <td>21</td>\n",
       "    </tr>\n",
       "  </tbody>\n",
       "</table>\n",
       "</div>"
      ],
      "text/plain": [
       "Predicted Resolution   1   3   5\n",
       "Actual Resolution               \n",
       "1                     22   0   0\n",
       "3                      0  20   2\n",
       "5                      1   0  21"
      ]
     },
     "execution_count": 6,
     "metadata": {},
     "output_type": "execute_result"
    }
   ],
   "source": [
    "X, y = training.drop(columns=['resolution']), training['resolution']\n",
    "X_train, X_test, y_train, y_test = train_test_split(X, y, test_size = 0.3, random_state = 42,  stratify=training['resolution'])\n",
    "\n",
    "clf = RandomForestClassifier(n_estimators = 100, max_depth = 10, criterion = 'entropy', min_samples_split = 2, random_state = 42)\n",
    "clf.fit(X_train, y_train)\n",
    "y_pred = clf.predict(X_test)\n",
    "\n",
    "print('Random Forest - Baseline Accuracy: ' + str(accuracy_score(y_test, y_pred)))\n",
    "(pd.crosstab(y_test, y_pred, rownames=['Actual Resolution'], colnames=['Predicted Resolution']))"
   ]
  },
  {
   "cell_type": "code",
   "execution_count": 7,
   "metadata": {},
   "outputs": [
    {
     "data": {
      "text/plain": [
       "Text(0, 0.5, 'Features')"
      ]
     },
     "execution_count": 7,
     "metadata": {},
     "output_type": "execute_result"
    },
    {
     "data": {
      "image/png": "[encoded data removed]",
      "text/plain": [
       "<Figure size 720x504 with 1 Axes>"
      ]
     },
     "metadata": {},
     "output_type": "display_data"
    }
   ],
   "source": [
    "importances = clf.feature_importances_\n",
    "indices = np.argsort(importances)[::-1]\n",
    "\n",
    "sns.set(rc={'figure.figsize':(10,7)})\n",
    "plt.barh(np.array(features)[indices],importances[indices])\n",
    "plt.title('Baseline Model: Feature Importances')\n",
    "plt.xlabel('Importance')\n",
    "plt.ylabel('Features')"
   ]
  },
  {
   "cell_type": "markdown",
   "metadata": {},
   "source": [
    "## Expanded Model - 5 Resolutions"
   ]
  },
  {
   "cell_type": "code",
   "execution_count": 8,
   "metadata": {},
   "outputs": [
    {
     "data": {
      "text/plain": [
       "(361, 14)"
      ]
     },
     "execution_count": 8,
     "metadata": {},
     "output_type": "execute_result"
    }
   ],
   "source": [
    "training = pd.concat((\n",
    "  feat_df_240,\n",
    "  feat_df_360,\n",
    "  feat_df_480,\n",
    "  feat_df_720,\n",
    "  feat_df_1080\n",
    "))\n",
    "\n",
    "training.shape"
   ]
  },
  {
   "cell_type": "code",
   "execution_count": 9,
   "metadata": {},
   "outputs": [
    {
     "name": "stdout",
     "output_type": "stream",
     "text": [
      "Random Forest - Expanded Model Accuracy: 0.6301369863013698\n"
     ]
    },
    {
     "data": {
      "text/html": [
       "<div>\n",
       "<style scoped>\n",
       "    .dataframe tbody tr th:only-of-type {\n",
       "        vertical-align: middle;\n",
       "    }\n",
       "\n",
       "    .dataframe tbody tr th {\n",
       "        vertical-align: top;\n",
       "    }\n",
       "\n",
       "    .dataframe thead th {\n",
       "        text-align: right;\n",
       "    }\n",
       "</style>\n",
       "<table border=\"1\" class=\"dataframe\">\n",
       "  <thead>\n",
       "    <tr style=\"text-align: right;\">\n",
       "      <th>Predicted Resolution</th>\n",
       "      <th>1</th>\n",
       "      <th>2</th>\n",
       "      <th>3</th>\n",
       "      <th>4</th>\n",
       "      <th>5</th>\n",
       "    </tr>\n",
       "    <tr>\n",
       "      <th>Actual Resolution</th>\n",
       "      <th></th>\n",
       "      <th></th>\n",
       "      <th></th>\n",
       "      <th></th>\n",
       "      <th></th>\n",
       "    </tr>\n",
       "  </thead>\n",
       "  <tbody>\n",
       "    <tr>\n",
       "      <th>1</th>\n",
       "      <td>12</td>\n",
       "      <td>3</td>\n",
       "      <td>0</td>\n",
       "      <td>0</td>\n",
       "      <td>0</td>\n",
       "    </tr>\n",
       "    <tr>\n",
       "      <th>2</th>\n",
       "      <td>2</td>\n",
       "      <td>8</td>\n",
       "      <td>3</td>\n",
       "      <td>1</td>\n",
       "      <td>0</td>\n",
       "    </tr>\n",
       "    <tr>\n",
       "      <th>3</th>\n",
       "      <td>1</td>\n",
       "      <td>2</td>\n",
       "      <td>9</td>\n",
       "      <td>3</td>\n",
       "      <td>0</td>\n",
       "    </tr>\n",
       "    <tr>\n",
       "      <th>4</th>\n",
       "      <td>0</td>\n",
       "      <td>0</td>\n",
       "      <td>2</td>\n",
       "      <td>10</td>\n",
       "      <td>2</td>\n",
       "    </tr>\n",
       "    <tr>\n",
       "      <th>5</th>\n",
       "      <td>0</td>\n",
       "      <td>0</td>\n",
       "      <td>1</td>\n",
       "      <td>7</td>\n",
       "      <td>7</td>\n",
       "    </tr>\n",
       "  </tbody>\n",
       "</table>\n",
       "</div>"
      ],
      "text/plain": [
       "Predicted Resolution   1  2  3   4  5\n",
       "Actual Resolution                    \n",
       "1                     12  3  0   0  0\n",
       "2                      2  8  3   1  0\n",
       "3                      1  2  9   3  0\n",
       "4                      0  0  2  10  2\n",
       "5                      0  0  1   7  7"
      ]
     },
     "execution_count": 9,
     "metadata": {},
     "output_type": "execute_result"
    }
   ],
   "source": [
    "X, y = training.drop(columns=['resolution']), training['resolution']\n",
    "X_train, X_test, y_train, y_test = train_test_split(X, y, test_size = 0.2, random_state = 42,  stratify=training['resolution'])\n",
    "\n",
    "clf = RandomForestClassifier(n_estimators = 10, max_depth = 10, criterion = 'entropy', min_samples_split = 2, random_state = 42)\n",
    "clf.fit(X_train, y_train)\n",
    "y_pred = clf.predict(X_test)\n",
    "\n",
    "print('Random Forest - Expanded Model Accuracy: ' + str(accuracy_score(y_test, y_pred)))\n",
    "(pd.crosstab(y_test, y_pred, rownames=['Actual Resolution'], colnames=['Predicted Resolution']))"
   ]
  },
  {
   "cell_type": "code",
   "execution_count": 10,
   "metadata": {},
   "outputs": [
    {
     "data": {
      "text/plain": [
       "Text(0, 0.5, 'Features')"
      ]
     },
     "execution_count": 10,
     "metadata": {},
     "output_type": "execute_result"
    },
    {
     "data": {
      "image/png": "[encoded data removed]",
      "text/plain": [
       "<Figure size 720x504 with 1 Axes>"
      ]
     },
     "metadata": {},
     "output_type": "display_data"
    }
   ],
   "source": [
    "importances = clf.feature_importances_\n",
    "indices = np.argsort(importances)[::-1]\n",
    "\n",
    "sns.set(rc={'figure.figsize':(10,7)})\n",
    "plt.barh(np.array(features)[indices], importances[indices])\n",
    "plt.title('Expanded Model - 5 Resolutions: Feature Importances')\n",
    "plt.xlabel('Importance')\n",
    "plt.ylabel('Features')"
   ]
  },
  {
   "cell_type": "markdown",
   "metadata": {},
   "source": [
    "## Expanded Model - Binned Resolutions"
   ]
  },
  {
   "cell_type": "code",
   "execution_count": 11,
   "metadata": {},
   "outputs": [
    {
     "data": {
      "text/plain": [
       "(361, 14)"
      ]
     },
     "execution_count": 11,
     "metadata": {},
     "output_type": "execute_result"
    }
   ],
   "source": [
    "feat_df_240 = pd.DataFrame(columns=features, data=feat_240)\n",
    "feat_df_240['resolution'] = 1\n",
    "\n",
    "feat_df_360 = pd.DataFrame(columns=features, data=feat_360)\n",
    "feat_df_360['resolution'] = 3\n",
    "\n",
    "feat_df_480 = pd.DataFrame(columns=features, data=feat_480)\n",
    "feat_df_480['resolution'] = 3\n",
    "\n",
    "feat_df_720 = pd.DataFrame(columns=features, data=feat_720)\n",
    "feat_df_720['resolution'] = 5\n",
    "\n",
    "feat_df_1080 = pd.DataFrame(columns=features, data=feat_1080)\n",
    "feat_df_1080['resolution'] = 5\n",
    "\n",
    "training = pd.concat((\n",
    "  feat_df_240,\n",
    "  feat_df_360,\n",
    "  feat_df_480,\n",
    "  feat_df_720,\n",
    "  feat_df_1080\n",
    "))\n",
    "\n",
    "training.shape"
   ]
  },
  {
   "cell_type": "code",
   "execution_count": 12,
   "metadata": {},
   "outputs": [
    {
     "name": "stdout",
     "output_type": "stream",
     "text": [
      "Random Forest - Binned Resolutions Accuracy: 0.8356164383561644\n"
     ]
    },
    {
     "data": {
      "text/html": [
       "<div>\n",
       "<style scoped>\n",
       "    .dataframe tbody tr th:only-of-type {\n",
       "        vertical-align: middle;\n",
       "    }\n",
       "\n",
       "    .dataframe tbody tr th {\n",
       "        vertical-align: top;\n",
       "    }\n",
       "\n",
       "    .dataframe thead th {\n",
       "        text-align: right;\n",
       "    }\n",
       "</style>\n",
       "<table border=\"1\" class=\"dataframe\">\n",
       "  <thead>\n",
       "    <tr style=\"text-align: right;\">\n",
       "      <th>Predicted Resolution</th>\n",
       "      <th>1</th>\n",
       "      <th>3</th>\n",
       "      <th>5</th>\n",
       "    </tr>\n",
       "    <tr>\n",
       "      <th>Actual Resolution</th>\n",
       "      <th></th>\n",
       "      <th></th>\n",
       "      <th></th>\n",
       "    </tr>\n",
       "  </thead>\n",
       "  <tbody>\n",
       "    <tr>\n",
       "      <th>1</th>\n",
       "      <td>13</td>\n",
       "      <td>2</td>\n",
       "      <td>0</td>\n",
       "    </tr>\n",
       "    <tr>\n",
       "      <th>3</th>\n",
       "      <td>4</td>\n",
       "      <td>22</td>\n",
       "      <td>3</td>\n",
       "    </tr>\n",
       "    <tr>\n",
       "      <th>5</th>\n",
       "      <td>0</td>\n",
       "      <td>3</td>\n",
       "      <td>26</td>\n",
       "    </tr>\n",
       "  </tbody>\n",
       "</table>\n",
       "</div>"
      ],
      "text/plain": [
       "Predicted Resolution   1   3   5\n",
       "Actual Resolution               \n",
       "1                     13   2   0\n",
       "3                      4  22   3\n",
       "5                      0   3  26"
      ]
     },
     "execution_count": 12,
     "metadata": {},
     "output_type": "execute_result"
    }
   ],
   "source": [
    "X, y = training.drop(columns=['resolution']), training['resolution']\n",
    "X_train, X_test, y_train, y_test = train_test_split(X, y, test_size = 0.2, random_state = 42,  stratify=training['resolution'])\n",
    "\n",
    "clf = RandomForestClassifier(n_estimators = 10, max_depth = 10, criterion = 'entropy', min_samples_split = 2, random_state = 42)\n",
    "clf.fit(X_train, y_train)\n",
    "y_pred = clf.predict(X_test)\n",
    "\n",
    "print('Random Forest - Binned Resolutions Accuracy: ' + str(accuracy_score(y_test, y_pred)))\n",
    "(pd.crosstab(y_test, y_pred, rownames=['Actual Resolution'], colnames=['Predicted Resolution']))"
   ]
  },
  {
   "cell_type": "code",
   "execution_count": 13,
   "metadata": {
    "scrolled": false
   },
   "outputs": [
    {
     "data": {
      "text/plain": [
       "Text(0, 0.5, 'Features')"
      ]
     },
     "execution_count": 13,
     "metadata": {},
     "output_type": "execute_result"
    },
    {
     "data": {
      "image/png": "[encoded data removed]",
      "text/plain": [
       "<Figure size 720x504 with 1 Axes>"
      ]
     },
     "metadata": {},
     "output_type": "display_data"
    }
   ],
   "source": [
    "importances = clf.feature_importances_\n",
    "indices = np.argsort(importances)[::-1]\n",
    "\n",
    "sns.set(rc={'figure.figsize':(10,7)})\n",
    "plt.barh(np.array(features)[indices], importances[indices])\n",
    "plt.title('Expanded Model - 5 Resolutions: Feature Importances')\n",
    "plt.xlabel('Importance')\n",
    "plt.ylabel('Features')"
   ]
  },
  {
   "cell_type": "code",
   "execution_count": null,
   "metadata": {},
   "outputs": [],
   "source": []
  },
  {
   "cell_type": "code",
   "execution_count": null,
   "metadata": {},
   "outputs": [],
   "source": []
  },
  {
   "cell_type": "code",
   "execution_count": null,
   "metadata": {},
   "outputs": [],
   "source": []
  },
  {
   "cell_type": "code",
   "execution_count": null,
   "metadata": {},
   "outputs": [],
   "source": [
    "rf_clf = RandomForestClassifier()\n",
    "parameters_rf = {\"n_estimators\": [10, 15, 20, 25, 30], \"criterion\": [\"gini\", \"entropy\"], \"max_features\": [\"auto\", \"sqrt\", \"log2\"], \n",
    "                 \"max_depth\": [2, 3, 5, 10], \"min_samples_split\": [2, 3, 5, 10]}\n",
    "\n",
    "grid_rf = GridSearchCV(rf_clf, parameters_rf, scoring=make_scorer(accuracy_score))\n",
    "grid_rf.fit(X_train, y_train)\n",
    "\n",
    "rf_clf = grid_rf.best_estimator_\n",
    "\n",
    "rf_clf.fit(X_train, y_train)\n",
    "pred_rf = rf_clf.predict(X_test)\n",
    "acc_rf = accuracy_score(y_test, pred_rf)\n",
    "\n",
    "print(\"The Score for Random Forest is: \" + str(acc_rf))"
   ]
  }
 ],
 "metadata": {
  "kernelspec": {
   "display_name": "Python 3",
   "language": "python",
   "name": "python3"
  },
  "language_info": {
   "codemirror_mode": {
    "name": "ipython",
    "version": 3
   },
   "file_extension": ".py",
   "mimetype": "text/x-python",
   "name": "python",
   "nbconvert_exporter": "python",
   "pygments_lexer": "ipython3",
   "version": "3.7.1"
  }
 },
 "nbformat": 4,
 "nbformat_minor": 2
}
