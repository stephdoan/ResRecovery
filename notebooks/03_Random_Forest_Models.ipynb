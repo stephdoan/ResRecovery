{
 "cells": [
  {
   "cell_type": "code",
   "execution_count": 1,
   "metadata": {},
   "outputs": [],
   "source": [
    "import os\n",
    "import sys\n",
    "import re\n",
    "\n",
    "import numpy as np\n",
    "import pandas as pd\n",
    "import scipy as sp\n",
    "import matplotlib.pyplot as plt\n",
    "import seaborn as sns\n",
    "from scipy import signal\n",
    "\n",
    "from sklearn.ensemble import RandomForestClassifier\n",
    "from sklearn.tree import DecisionTreeClassifier, export_graphviz\n",
    "from sklearn.model_selection import train_test_split, GridSearchCV, cross_val_score\n",
    "from sklearn.preprocessing import StandardScaler\n",
    "from sklearn.metrics import confusion_matrix, f1_score, accuracy_score, make_scorer\n",
    "\n",
    "import warnings\n",
    "warnings.filterwarnings('ignore')\n",
    "\n",
    "%matplotlib inline"
   ]
  },
  {
   "cell_type": "code",
   "execution_count": 126,
   "metadata": {},
   "outputs": [],
   "source": [
    "sys.path.insert(0, '../src')\n",
    "\n",
    "from features import *"
   ]
  },
  {
   "cell_type": "code",
   "execution_count": 109,
   "metadata": {},
   "outputs": [],
   "source": [
    "features = [\n",
    "  \"download_avg\", \n",
    "  \"download_std\",\n",
    "  \"diff_pkts\",\n",
    "  \"peak_avg\",\n",
    "  \"peak_std\",\n",
    "  \"peak_amount\", \n",
    "  \"seconds_per_peak\", \n",
    "  \"psd_std\", \n",
    "  \"prominence_std\",\n",
    "  \"max_prominence\",\n",
    "  \"rolling_cv\" \n",
    "]\n",
    "\n",
    "size = 300"
   ]
  },
  {
   "cell_type": "code",
   "execution_count": 124,
   "metadata": {},
   "outputs": [
    {
     "name": "stdout",
     "output_type": "stream",
     "text": [
      "Wall time: 57.2 s\n"
     ]
    }
   ],
   "source": [
    "%%time\n",
    "one_four_dir = ['../data/144p/' + fp for fp in os.listdir('../data/144p')]\n",
    "two_four_dir = ['../data/240p/' + fp for fp in os.listdir('../data/240p')]\n",
    "three_six_dir = ['../data/360p/' + fp for fp in os.listdir('../data/360p')]\n",
    "four_eight_dir = ['../data/480p/' + fp for fp in os.listdir('../data/480p')]\n",
    "seven_two_dir = ['../data/720p/' + fp for fp in os.listdir('../data/720p')]\n",
    "ten_eight_dir = ['../data/1080p/' + fp for fp in os.listdir('../data/1080p')]\n",
    "\n",
    "feat_144 = np.vstack(([create_features(fp, size, 5, 1, .5) for fp in one_four_dir]))\n",
    "feat_240 = np.vstack(([create_features(fp, size, 5, 1, .5) for fp in two_four_dir]))\n",
    "feat_360 = np.vstack(([create_features(fp, size, 5, 1, .5) for fp in three_six_dir]))\n",
    "feat_480 = np.vstack(([create_features(fp, size, 5, 1, .5) for fp in four_eight_dir]))\n",
    "feat_720 = np.vstack(([create_features(fp, size, 5, 1, .5) for fp in seven_two_dir]))\n",
    "feat_1080 = np.vstack(([create_features(fp, size, 5, 1, .5) for fp in ten_eight_dir]))"
   ]
  },
  {
   "cell_type": "code",
   "execution_count": 125,
   "metadata": {},
   "outputs": [
    {
     "data": {
      "text/plain": [
       "array([[ 1.27486706e-01,  6.51775640e-01,  8.49929677e+00,\n",
       "         5.80493600e+00,  2.43048000e-01,  2.00000000e+00,\n",
       "         6.00000000e+01,  4.65348666e-02,  8.03569728e-01,\n",
       "         3.05285651e+00,  1.05281049e+00],\n",
       "       [ 8.94085935e-02,  5.31088049e-01,  5.59940653e+00,\n",
       "         0.00000000e+00,  0.00000000e+00,  0.00000000e+00,\n",
       "         1.20000000e+02,  4.34422620e-02,  6.90324883e-01,\n",
       "         2.31164924e+00,  1.20439369e+00],\n",
       "       [ 9.20618711e-02,  5.42008775e-01,  5.60661157e+00,\n",
       "         0.00000000e+00,  0.00000000e+00,  0.00000000e+00,\n",
       "         1.20000000e+02,  1.00156185e-02,  7.68849381e-01,\n",
       "         2.81932802e+00,  1.37370281e+00],\n",
       "       [ 8.78199813e-02,  5.14537891e-01,  5.50388802e+00,\n",
       "         0.00000000e+00,  0.00000000e+00,  0.00000000e+00,\n",
       "         1.20000000e+02,  3.62011929e-02,  6.44248303e-01,\n",
       "         2.43273321e+00,  1.18899054e+00],\n",
       "       [ 1.29110116e-01,  6.24533478e-01,  8.77616279e+00,\n",
       "         0.00000000e+00,  0.00000000e+00,  0.00000000e+00,\n",
       "         1.20000000e+02,  4.27870689e-02,  6.38743688e-01,\n",
       "         2.69016575e+00,  1.02565135e+00],\n",
       "       [ 8.60671304e-02,  5.29315924e-01,  5.31561997e+00,\n",
       "         0.00000000e+00,  0.00000000e+00,  0.00000000e+00,\n",
       "         1.20000000e+02,  8.93419482e-03,  6.28127972e-01,\n",
       "         2.09861706e+00,  1.28866406e+00],\n",
       "       [ 1.04230607e-01,  5.66088680e-01,  6.58168761e+00,\n",
       "         0.00000000e+00,  0.00000000e+00,  0.00000000e+00,\n",
       "         1.20000000e+02,  3.95463911e-02,  7.27246660e-01,\n",
       "         2.39031372e+00,  1.15286774e+00],\n",
       "       [ 1.41322450e-01,  5.97033983e-01,  9.57450331e+00,\n",
       "         0.00000000e+00,  0.00000000e+00,  0.00000000e+00,\n",
       "         1.20000000e+02,  2.80587908e-02,  7.62582152e-01,\n",
       "         2.58051450e+00,  1.04026399e+00],\n",
       "       [ 9.02747649e-02,  4.91452391e-01,  5.59122807e+00,\n",
       "         0.00000000e+00,  0.00000000e+00,  0.00000000e+00,\n",
       "         1.20000000e+02,  2.73391984e-02,  7.66702075e-01,\n",
       "         2.35502786e+00,  1.25717660e+00],\n",
       "       [ 9.52512991e-02,  5.02150080e-01,  6.00707965e+00,\n",
       "         0.00000000e+00,  0.00000000e+00,  0.00000000e+00,\n",
       "         1.20000000e+02,  5.33908169e-02,  6.32098597e-01,\n",
       "         2.24820543e+00,  1.23151889e+00],\n",
       "       [ 8.75831333e-02,  4.82915937e-01,  5.39000000e+00,\n",
       "         0.00000000e+00,  0.00000000e+00,  0.00000000e+00,\n",
       "         1.20000000e+02,  4.35151071e-02,  6.83517543e-01,\n",
       "         2.26525997e+00,  1.21534135e+00],\n",
       "       [ 9.15434807e-02,  5.12936933e-01,  5.70526316e+00,\n",
       "         0.00000000e+00,  0.00000000e+00,  0.00000000e+00,\n",
       "         1.20000000e+02,  3.18868655e-02,  7.59166139e-01,\n",
       "         2.34297356e+00,  1.22607262e+00],\n",
       "       [ 8.95495762e-02,  4.84602949e-01,  5.50612960e+00,\n",
       "         0.00000000e+00,  0.00000000e+00,  0.00000000e+00,\n",
       "         1.20000000e+02,  6.65438970e-02,  8.15506549e-01,\n",
       "         2.26979565e+00,  1.20469401e+00],\n",
       "       [ 1.79130011e-01,  8.14747020e-01,  1.24331551e+01,\n",
       "         5.26258500e+00,  1.56009749e-01,  8.00000000e+00,\n",
       "         1.50000000e+01,  2.45631662e-03,  7.99768607e-01,\n",
       "         2.66533017e+00,  1.06291392e+00],\n",
       "       [ 1.19428951e-01,  6.68783749e-01,  7.99214145e+00,\n",
       "         5.05587467e+00,  3.56466633e-02,  3.00000000e+00,\n",
       "         4.00000000e+01,  2.21046523e-02,  6.59381890e-01,\n",
       "         2.43534824e+00,  1.23755095e+00],\n",
       "       [ 8.91360160e-02,  6.81658100e-01,  5.24448898e+00,\n",
       "         6.97820267e+00,  2.44347093e+00,  3.00000000e+00,\n",
       "         4.00000000e+01,  6.96766666e-02,  6.64362759e-01,\n",
       "         2.68191408e+00,  2.19643458e+00],\n",
       "       [ 9.77018244e-02,  6.13656820e-01,  5.97216274e+00,\n",
       "         5.34955467e+00,  1.40739364e-01,  3.00000000e+00,\n",
       "         4.00000000e+01,  2.32611493e-02,  6.97787080e-01,\n",
       "         2.53418343e+00,  1.63827302e+00],\n",
       "       [ 1.39923522e-01,  6.81827394e-01,  9.47208931e+00,\n",
       "         5.95100000e+00,  2.94136000e-01,  2.00000000e+00,\n",
       "         6.00000000e+01,  3.84922827e-02,  1.15738224e+00,\n",
       "         3.69372800e+00,  1.00424616e+00],\n",
       "       [ 1.01555578e-01,  5.31189416e-01,  6.14851485e+00,\n",
       "         0.00000000e+00,  0.00000000e+00,  0.00000000e+00,\n",
       "         1.20000000e+02,  2.01038751e-03,  9.41711988e-01,\n",
       "         3.18411531e+00,  1.16803546e+00],\n",
       "       [ 9.25933122e-02,  4.95235202e-01,  5.68077601e+00,\n",
       "         0.00000000e+00,  0.00000000e+00,  0.00000000e+00,\n",
       "         1.20000000e+02,  6.83885619e-02,  8.30047022e-01,\n",
       "         2.68574339e+00,  1.26300649e+00],\n",
       "       [ 1.49134352e-01,  6.85803055e-01,  1.01651515e+01,\n",
       "         6.35180800e+00,  6.56320000e-02,  2.00000000e+00,\n",
       "         6.00000000e+01,  1.90653969e-02,  9.43783254e-01,\n",
       "         3.50328633e+00,  1.11448058e+00],\n",
       "       [ 9.15092867e-02,  5.16111424e-01,  5.73251748e+00,\n",
       "         0.00000000e+00,  0.00000000e+00,  0.00000000e+00,\n",
       "         1.20000000e+02,  1.75282436e-02,  7.28971513e-01,\n",
       "         3.14646887e+00,  1.52785113e+00],\n",
       "       [ 1.92238264e-02,  1.86075918e-01, -1.60940325e-01,\n",
       "         0.00000000e+00,  0.00000000e+00,  0.00000000e+00,\n",
       "         1.20000000e+02,  1.79913258e-01,  1.16390692e-02,\n",
       "         4.21809376e-02,  5.91593157e+00],\n",
       "       [ 6.84824984e-02,  5.64444045e-01,  3.90776699e+00,\n",
       "         1.04523920e+01,  0.00000000e+00,  1.00000000e+00,\n",
       "         1.20000000e+02,  2.77554235e-01,  3.41035215e-01,\n",
       "         1.60130093e+00,  2.75819820e+00],\n",
       "       [ 9.36951002e-02,  5.53439864e-01,  5.78031634e+00,\n",
       "         0.00000000e+00,  0.00000000e+00,  0.00000000e+00,\n",
       "         1.20000000e+02,  1.91264109e-02,  6.30312629e-01,\n",
       "         2.23872096e+00,  1.32721010e+00],\n",
       "       [ 1.52942147e-01,  7.16187487e-01,  1.05500000e+01,\n",
       "         5.87033200e+00,  3.61080000e-02,  2.00000000e+00,\n",
       "         6.00000000e+01,  3.31008657e-02,  9.61731355e-01,\n",
       "         3.25806117e+00,  1.02944252e+00],\n",
       "       [ 1.04198940e-01,  5.98028602e-01,  6.41519435e+00,\n",
       "         0.00000000e+00,  0.00000000e+00,  0.00000000e+00,\n",
       "         1.20000000e+02,  4.77413530e-02,  6.66734213e-01,\n",
       "         2.17369547e+00,  1.25789216e+00],\n",
       "       [ 1.17545333e-01,  6.54364940e-01,  7.59961686e+00,\n",
       "         6.26079200e+00,  0.00000000e+00,  1.00000000e+00,\n",
       "         1.20000000e+02,  3.73447414e-02,  7.69357879e-01,\n",
       "         2.62505244e+00,  1.26478217e+00],\n",
       "       [ 1.28985836e-01,  5.98614724e-01,  8.59463487e+00,\n",
       "         5.82099200e+00,  0.00000000e+00,  1.00000000e+00,\n",
       "         1.20000000e+02,  1.99339517e-02,  7.27110912e-01,\n",
       "         3.06953057e+00,  9.95525892e-01],\n",
       "       [ 8.42344337e-02,  5.26979797e-01,  5.04216867e+00,\n",
       "         5.58728000e+00,  0.00000000e+00,  1.00000000e+00,\n",
       "         1.20000000e+02,  6.69952264e-02,  9.65982654e-01,\n",
       "         3.03839940e+00,  1.24207016e+00],\n",
       "       [ 7.86343202e-02,  4.90567010e-01,  4.71148036e+00,\n",
       "         0.00000000e+00,  0.00000000e+00,  0.00000000e+00,\n",
       "         1.20000000e+02,  5.13726140e-02,  7.37980067e-01,\n",
       "         2.54213295e+00,  1.21382749e+00],\n",
       "       [ 1.14891899e-01,  5.44091535e-01,  7.72957746e+00,\n",
       "         0.00000000e+00,  0.00000000e+00,  0.00000000e+00,\n",
       "         1.20000000e+02,  2.87397878e-02,  6.73614672e-01,\n",
       "         2.60267989e+00,  9.23804791e-01],\n",
       "       [ 8.36643404e-02,  5.09354019e-01,  5.03799392e+00,\n",
       "         5.60704000e+00,  0.00000000e+00,  1.00000000e+00,\n",
       "         1.20000000e+02,  5.92317455e-02,  8.23940643e-01,\n",
       "         2.52388485e+00,  1.22297162e+00],\n",
       "       [ 8.43548963e-02,  4.99237657e-01,  5.20574163e+00,\n",
       "         0.00000000e+00,  0.00000000e+00,  0.00000000e+00,\n",
       "         1.20000000e+02,  6.04898388e-02,  7.00778537e-01,\n",
       "         2.47019232e+00,  1.17835419e+00],\n",
       "       [ 8.10036018e-02,  5.03878155e-01,  4.88855869e+00,\n",
       "         5.75112000e+00,  0.00000000e+00,  1.00000000e+00,\n",
       "         1.20000000e+02,  8.09168932e-02,  7.74408553e-01,\n",
       "         2.78866608e+00,  1.20746085e+00],\n",
       "       [ 5.44800237e-01,  1.46653545e+00,  2.73964497e+01,\n",
       "         8.00834400e+00,  4.50800000e-02,  2.00000000e+00,\n",
       "         6.00000000e+01,  1.92652272e-02,  8.72296169e-01,\n",
       "         3.15428316e+00,  1.23809166e+00],\n",
       "       [ 3.60169762e-01,  1.09730359e+00,  1.54166667e+01,\n",
       "         0.00000000e+00,  0.00000000e+00,  0.00000000e+00,\n",
       "         1.20000000e+02,  2.04714587e-02,  7.26570957e-01,\n",
       "         2.99225398e+00,  1.24019034e+00],\n",
       "       [ 3.11523248e-01,  1.05827170e+00,  1.52376238e+01,\n",
       "         0.00000000e+00,  0.00000000e+00,  0.00000000e+00,\n",
       "         1.20000000e+02,  2.18831508e-02,  8.69434826e-01,\n",
       "         2.96322422e+00,  1.32290500e+00],\n",
       "       [ 3.78643805e-01,  1.14867395e+00,  1.96219512e+01,\n",
       "         0.00000000e+00,  0.00000000e+00,  0.00000000e+00,\n",
       "         1.20000000e+02,  6.20256494e-02,  6.88075916e-01,\n",
       "         3.00344565e+00,  1.29112491e+00],\n",
       "       [ 2.96935664e-01,  1.03327390e+00,  1.22710280e+01,\n",
       "         0.00000000e+00,  0.00000000e+00,  0.00000000e+00,\n",
       "         1.20000000e+02,  2.14369608e-02,  7.96241847e-01,\n",
       "         2.77354595e+00,  1.18570088e+00],\n",
       "       [ 4.24795889e-01,  1.32457067e+00,  2.25694444e+01,\n",
       "         8.28013600e+00,  0.00000000e+00,  1.00000000e+00,\n",
       "         1.20000000e+02,  4.06844927e-02,  7.68326335e-01,\n",
       "         2.77082296e+00,  1.44617733e+00],\n",
       "       [ 5.48764374e-01,  2.27364874e+00,  2.77553957e+01,\n",
       "         1.17034320e+01,  1.00347362e+01,  5.00000000e+00,\n",
       "         2.40000000e+01,  2.43465726e-03,  8.73020995e-01,\n",
       "         3.25638454e+00,  1.79261885e+00],\n",
       "       [ 5.30138667e-01,  1.39190444e+00,  2.79185185e+01,\n",
       "         6.96720000e+00,  0.00000000e+00,  1.00000000e+00,\n",
       "         1.20000000e+02,  2.24973973e-03,  8.36792370e-01,\n",
       "         2.69659451e+00,  1.14129170e+00],\n",
       "       [ 5.41995912e-01,  1.36333108e+00,  2.56569343e+01,\n",
       "         5.32215200e+00,  0.00000000e+00,  1.00000000e+00,\n",
       "         1.20000000e+02,  4.68480157e-02,  9.61308070e-01,\n",
       "         3.43978645e+00,  1.18935134e+00],\n",
       "       [ 5.37440308e-01,  1.34550188e+00,  2.66615385e+01,\n",
       "         5.10903200e+00,  0.00000000e+00,  1.00000000e+00,\n",
       "         1.20000000e+02,  5.48952712e-02,  9.94804601e-01,\n",
       "         3.68340654e+00,  1.21728882e+00],\n",
       "       [ 1.02104199e-01,  6.19045849e-01,  3.92704626e+00,\n",
       "         0.00000000e+00,  0.00000000e+00,  0.00000000e+00,\n",
       "         1.20000000e+02,  7.75448782e-03,  8.25777652e-01,\n",
       "         2.94500638e+00,  1.55904939e+00],\n",
       "       [ 2.64415573e-01,  9.68468343e-01,  1.24073034e+01,\n",
       "         6.22690800e+00,  6.58972000e-01,  2.00000000e+00,\n",
       "         6.00000000e+01,  1.19680370e-02,  9.42824305e-01,\n",
       "         3.76628489e+00,  1.05560163e+00],\n",
       "       [ 2.38027437e-01,  9.26152893e-01,  1.17039711e+01,\n",
       "         5.09403200e+00,  0.00000000e+00,  1.00000000e+00,\n",
       "         1.20000000e+02,  2.94849386e-02,  7.08818654e-01,\n",
       "         2.89067436e+00,  1.26294230e+00],\n",
       "       [ 4.45420028e-01,  1.42035197e+00,  2.13496503e+01,\n",
       "         6.84813600e+00,  2.52415033e+00,  3.00000000e+00,\n",
       "         4.00000000e+01,  8.71876763e-03,  8.08991681e-01,\n",
       "         2.86261226e+00,  1.52041105e+00],\n",
       "       [ 3.59111149e-01,  1.09273341e+00,  1.88936170e+01,\n",
       "         0.00000000e+00,  0.00000000e+00,  0.00000000e+00,\n",
       "         1.20000000e+02,  3.95331839e-02,  8.62007317e-01,\n",
       "         3.16979172e+00,  1.11774256e+00],\n",
       "       [ 6.58258694e-01,  1.43203920e+00,  3.75816327e+01,\n",
       "         5.00964800e+00,  0.00000000e+00,  1.00000000e+00,\n",
       "         1.20000000e+02,  1.63484232e-02,  8.41815967e-01,\n",
       "         2.96885672e+00,  1.33451849e+00],\n",
       "       [ 8.18490667e-01,  1.65551127e+00,  4.02631579e+01,\n",
       "         7.16381600e+00,  7.47832000e-01,  2.00000000e+00,\n",
       "         6.00000000e+01,  2.15391155e-02,  8.88479284e-01,\n",
       "         3.14278919e+00,  1.13942524e+00],\n",
       "       [ 5.80779667e-01,  1.36101486e+00,  3.11145833e+01,\n",
       "         0.00000000e+00,  0.00000000e+00,  0.00000000e+00,\n",
       "         1.20000000e+02,  2.69351741e-02,  8.02933701e-01,\n",
       "         2.94148527e+00,  1.40811246e+00],\n",
       "       [ 6.70441095e-01,  1.47462238e+00,  3.83578947e+01,\n",
       "         0.00000000e+00,  0.00000000e+00,  0.00000000e+00,\n",
       "         1.20000000e+02,  2.09550843e-02,  8.11329563e-01,\n",
       "         2.96318586e+00,  1.37778857e+00],\n",
       "       [ 6.64024320e-01,  1.39318371e+00,  3.49120000e+01,\n",
       "         0.00000000e+00,  0.00000000e+00,  0.00000000e+00,\n",
       "         1.20000000e+02,  3.32025894e-02,  7.09334290e-01,\n",
       "         2.57805168e+00,  9.50103558e-01],\n",
       "       [ 3.01098310e-01,  1.02047956e+00,  1.31390374e+01,\n",
       "         0.00000000e+00,  0.00000000e+00,  0.00000000e+00,\n",
       "         1.20000000e+02,  4.61748224e-02,  8.40547125e-01,\n",
       "         3.06203489e+00,  1.16718212e+00],\n",
       "       [ 4.07856757e-01,  1.23619024e+00,  1.88165680e+01,\n",
       "         8.64151200e+00,  0.00000000e+00,  1.00000000e+00,\n",
       "         1.20000000e+02,  5.48603059e-03,  7.48401033e-01,\n",
       "         2.68375197e+00,  1.25198570e+00],\n",
       "       [ 2.29558457e-01,  8.79311956e-01,  1.17834646e+01,\n",
       "         0.00000000e+00,  0.00000000e+00,  0.00000000e+00,\n",
       "         1.20000000e+02,  1.18671380e-02,  7.07769995e-01,\n",
       "         2.56494247e+00,  1.38417904e+00],\n",
       "       [ 3.50898390e-01,  1.13334444e+00,  1.77532468e+01,\n",
       "         7.18881600e+00,  0.00000000e+00,  1.00000000e+00,\n",
       "         1.20000000e+02,  1.05150326e-02,  8.21921258e-01,\n",
       "         3.19105374e+00,  1.80945304e+00]])"
      ]
     },
     "execution_count": 125,
     "metadata": {},
     "output_type": "execute_result"
    }
   ],
   "source": [
    "feat_144"
   ]
  },
  {
   "cell_type": "code",
   "execution_count": null,
   "metadata": {},
   "outputs": [],
   "source": []
  },
  {
   "cell_type": "code",
   "execution_count": null,
   "metadata": {},
   "outputs": [],
   "source": []
  },
  {
   "cell_type": "code",
   "execution_count": 111,
   "metadata": {},
   "outputs": [],
   "source": [
    "feat_df_144 = pd.DataFrame(columns=features, data=feat_144)\n",
    "feat_df_144['resolution'] = 144\n",
    "\n",
    "feat_df_240 = pd.DataFrame(columns=features, data=feat_240)\n",
    "feat_df_240['resolution'] = 240\n",
    "\n",
    "feat_df_360 = pd.DataFrame(columns=features, data=feat_360)\n",
    "feat_df_360['resolution'] = 360\n",
    "\n",
    "feat_df_480 = pd.DataFrame(columns=features, data=feat_480)\n",
    "feat_df_480['resolution'] = 480\n",
    "\n",
    "feat_df_720 = pd.DataFrame(columns=features, data=feat_720)\n",
    "feat_df_720['resolution'] = 720\n",
    "\n",
    "feat_df_1080 = pd.DataFrame(columns=features, data=feat_1080)\n",
    "feat_df_1080['resolution'] = 1080"
   ]
  },
  {
   "cell_type": "markdown",
   "metadata": {},
   "source": [
    "## Baseline Model - 3 Resolutions\n",
    "\n",
    "We started with a basic model with 3 even spaced resolutions: 240p, 480p, and 1080p. Our intention was to ensure that our features were sufficient enough to define distinctions between fairly spaced classes before attempting more defined predictions. Through some experimentation, we decided to move forward with a Random Forest model. Random Forest is better attuned for multiclassification situations like ours and its inherent randomness of feature selection will overcome the correlation within our features. Random Forest is also an ideal algorithm since we don't need to scale (standardize or normalize) our data. This is particularly useful as some of our spectral features are noticeably larger than the time domain features (spikes, thresholding)."
   ]
  },
  {
   "cell_type": "code",
   "execution_count": 112,
   "metadata": {},
   "outputs": [
    {
     "data": {
      "text/plain": [
       "(228, 12)"
      ]
     },
     "execution_count": 112,
     "metadata": {},
     "output_type": "execute_result"
    }
   ],
   "source": [
    "training = pd.concat((\n",
    "  feat_df_240,\n",
    "  feat_df_480,\n",
    "  feat_df_1080\n",
    "))\n",
    "\n",
    "training.shape"
   ]
  },
  {
   "cell_type": "code",
   "execution_count": 113,
   "metadata": {},
   "outputs": [
    {
     "name": "stdout",
     "output_type": "stream",
     "text": [
      "Random Forest - Baseline Accuracy: 0.9122807017543859\n",
      "F1 Score: [1.   0.87 0.87]\n"
     ]
    },
    {
     "data": {
      "text/html": [
       "<div>\n",
       "<style scoped>\n",
       "    .dataframe tbody tr th:only-of-type {\n",
       "        vertical-align: middle;\n",
       "    }\n",
       "\n",
       "    .dataframe tbody tr th {\n",
       "        vertical-align: top;\n",
       "    }\n",
       "\n",
       "    .dataframe thead th {\n",
       "        text-align: right;\n",
       "    }\n",
       "</style>\n",
       "<table border=\"1\" class=\"dataframe\">\n",
       "  <thead>\n",
       "    <tr style=\"text-align: right;\">\n",
       "      <th>Predicted Resolution</th>\n",
       "      <th>240</th>\n",
       "      <th>480</th>\n",
       "      <th>1080</th>\n",
       "    </tr>\n",
       "    <tr>\n",
       "      <th>Actual Resolution</th>\n",
       "      <th></th>\n",
       "      <th></th>\n",
       "      <th></th>\n",
       "    </tr>\n",
       "  </thead>\n",
       "  <tbody>\n",
       "    <tr>\n",
       "      <th>240</th>\n",
       "      <td>1.0</td>\n",
       "      <td>0.000000</td>\n",
       "      <td>0.000000</td>\n",
       "    </tr>\n",
       "    <tr>\n",
       "      <th>480</th>\n",
       "      <td>0.0</td>\n",
       "      <td>0.850000</td>\n",
       "      <td>0.150000</td>\n",
       "    </tr>\n",
       "    <tr>\n",
       "      <th>1080</th>\n",
       "      <td>0.0</td>\n",
       "      <td>0.105263</td>\n",
       "      <td>0.894737</td>\n",
       "    </tr>\n",
       "  </tbody>\n",
       "</table>\n",
       "</div>"
      ],
      "text/plain": [
       "Predicted Resolution  240       480       1080\n",
       "Actual Resolution                             \n",
       "240                    1.0  0.000000  0.000000\n",
       "480                    0.0  0.850000  0.150000\n",
       "1080                   0.0  0.105263  0.894737"
      ]
     },
     "execution_count": 113,
     "metadata": {},
     "output_type": "execute_result"
    }
   ],
   "source": [
    "X, y = training.drop(columns=['resolution']), training['resolution']\n",
    "X_train, X_test, y_train, y_test = train_test_split(X, y, test_size = 0.25, random_state = 42,  stratify=training['resolution'])\n",
    "\n",
    "clf = RandomForestClassifier(n_estimators = 10, max_depth = 10, criterion = 'entropy', min_samples_split = 3, random_state = 42)\n",
    "clf.fit(X_train, y_train)\n",
    "y_pred = clf.predict(X_test)\n",
    "\n",
    "print('Random Forest - Baseline Accuracy: ' + str(accuracy_score(y_test, y_pred)))\n",
    "print('F1 Score: ' + str(np.round(f1_score(y_test, y_pred, average=None), 2)))\n",
    "pd.crosstab(y_test, y_pred, rownames=['Actual Resolution'], colnames=['Predicted Resolution'], normalize='index')"
   ]
  },
  {
   "cell_type": "code",
   "execution_count": 114,
   "metadata": {},
   "outputs": [
    {
     "data": {
      "text/html": [
       "<div>\n",
       "<style scoped>\n",
       "    .dataframe tbody tr th:only-of-type {\n",
       "        vertical-align: middle;\n",
       "    }\n",
       "\n",
       "    .dataframe tbody tr th {\n",
       "        vertical-align: top;\n",
       "    }\n",
       "\n",
       "    .dataframe thead th {\n",
       "        text-align: right;\n",
       "    }\n",
       "</style>\n",
       "<table border=\"1\" class=\"dataframe\">\n",
       "  <thead>\n",
       "    <tr style=\"text-align: right;\">\n",
       "      <th>Predicted Resolution</th>\n",
       "      <th>240</th>\n",
       "      <th>480</th>\n",
       "      <th>1080</th>\n",
       "    </tr>\n",
       "    <tr>\n",
       "      <th>Actual Resolution</th>\n",
       "      <th></th>\n",
       "      <th></th>\n",
       "      <th></th>\n",
       "    </tr>\n",
       "  </thead>\n",
       "  <tbody>\n",
       "    <tr>\n",
       "      <th>240</th>\n",
       "      <td>18</td>\n",
       "      <td>0</td>\n",
       "      <td>0</td>\n",
       "    </tr>\n",
       "    <tr>\n",
       "      <th>480</th>\n",
       "      <td>0</td>\n",
       "      <td>17</td>\n",
       "      <td>3</td>\n",
       "    </tr>\n",
       "    <tr>\n",
       "      <th>1080</th>\n",
       "      <td>0</td>\n",
       "      <td>2</td>\n",
       "      <td>17</td>\n",
       "    </tr>\n",
       "  </tbody>\n",
       "</table>\n",
       "</div>"
      ],
      "text/plain": [
       "Predicted Resolution  240   480   1080\n",
       "Actual Resolution                     \n",
       "240                     18     0     0\n",
       "480                      0    17     3\n",
       "1080                     0     2    17"
      ]
     },
     "execution_count": 114,
     "metadata": {},
     "output_type": "execute_result"
    }
   ],
   "source": [
    "pd.crosstab(y_test, y_pred, rownames=['Actual Resolution'], colnames=['Predicted Resolution'])"
   ]
  },
  {
   "cell_type": "code",
   "execution_count": 115,
   "metadata": {},
   "outputs": [
    {
     "data": {
      "text/plain": [
       "Text(0, 0.5, 'Features')"
      ]
     },
     "execution_count": 115,
     "metadata": {},
     "output_type": "execute_result"
    },
    {
     "data": {
      "image/png": "[encoded data removed]",
      "text/plain": [
       "<Figure size 864x288 with 1 Axes>"
      ]
     },
     "metadata": {},
     "output_type": "display_data"
    }
   ],
   "source": [
    "importances = clf.feature_importances_\n",
    "indices = np.argsort(importances)[::-1]\n",
    "\n",
    "sns.set(rc={'figure.figsize':(12,4)})\n",
    "plt.barh(np.array(features)[indices],importances[indices])\n",
    "plt.title('Baseline Model: Feature Importances')\n",
    "plt.xlabel('Importance')\n",
    "plt.ylabel('Features')"
   ]
  },
  {
   "cell_type": "markdown",
   "metadata": {},
   "source": [
    "## Expanded Model - 6 Resolutions"
   ]
  },
  {
   "cell_type": "code",
   "execution_count": 116,
   "metadata": {},
   "outputs": [
    {
     "data": {
      "text/plain": [
       "(441, 12)"
      ]
     },
     "execution_count": 116,
     "metadata": {},
     "output_type": "execute_result"
    }
   ],
   "source": [
    "training = pd.concat((\n",
    "  feat_df_144,\n",
    "  feat_df_240,\n",
    "  feat_df_360,\n",
    "  feat_df_480,\n",
    "  feat_df_720,\n",
    "  feat_df_1080\n",
    "))\n",
    "\n",
    "training.shape"
   ]
  },
  {
   "cell_type": "code",
   "execution_count": 117,
   "metadata": {},
   "outputs": [
    {
     "name": "stdout",
     "output_type": "stream",
     "text": [
      "Random Forest - Expanded Model Accuracy: 0.6576576576576577\n",
      "F1 Score: [0.93 0.72 0.47 0.59 0.56 0.76]\n"
     ]
    },
    {
     "data": {
      "text/html": [
       "<div>\n",
       "<style scoped>\n",
       "    .dataframe tbody tr th:only-of-type {\n",
       "        vertical-align: middle;\n",
       "    }\n",
       "\n",
       "    .dataframe tbody tr th {\n",
       "        vertical-align: top;\n",
       "    }\n",
       "\n",
       "    .dataframe thead th {\n",
       "        text-align: right;\n",
       "    }\n",
       "</style>\n",
       "<table border=\"1\" class=\"dataframe\">\n",
       "  <thead>\n",
       "    <tr style=\"text-align: right;\">\n",
       "      <th>Predicted Resolution</th>\n",
       "      <th>144</th>\n",
       "      <th>240</th>\n",
       "      <th>360</th>\n",
       "      <th>480</th>\n",
       "      <th>720</th>\n",
       "      <th>1080</th>\n",
       "    </tr>\n",
       "    <tr>\n",
       "      <th>Actual Resolution</th>\n",
       "      <th></th>\n",
       "      <th></th>\n",
       "      <th></th>\n",
       "      <th></th>\n",
       "      <th></th>\n",
       "      <th></th>\n",
       "    </tr>\n",
       "  </thead>\n",
       "  <tbody>\n",
       "    <tr>\n",
       "      <th>144</th>\n",
       "      <td>13</td>\n",
       "      <td>2</td>\n",
       "      <td>0</td>\n",
       "      <td>0</td>\n",
       "      <td>0</td>\n",
       "      <td>0</td>\n",
       "    </tr>\n",
       "    <tr>\n",
       "      <th>240</th>\n",
       "      <td>0</td>\n",
       "      <td>14</td>\n",
       "      <td>4</td>\n",
       "      <td>0</td>\n",
       "      <td>0</td>\n",
       "      <td>0</td>\n",
       "    </tr>\n",
       "    <tr>\n",
       "      <th>360</th>\n",
       "      <td>0</td>\n",
       "      <td>5</td>\n",
       "      <td>9</td>\n",
       "      <td>5</td>\n",
       "      <td>0</td>\n",
       "      <td>0</td>\n",
       "    </tr>\n",
       "    <tr>\n",
       "      <th>480</th>\n",
       "      <td>0</td>\n",
       "      <td>0</td>\n",
       "      <td>5</td>\n",
       "      <td>13</td>\n",
       "      <td>2</td>\n",
       "      <td>0</td>\n",
       "    </tr>\n",
       "    <tr>\n",
       "      <th>720</th>\n",
       "      <td>0</td>\n",
       "      <td>0</td>\n",
       "      <td>1</td>\n",
       "      <td>5</td>\n",
       "      <td>10</td>\n",
       "      <td>3</td>\n",
       "    </tr>\n",
       "    <tr>\n",
       "      <th>1080</th>\n",
       "      <td>0</td>\n",
       "      <td>0</td>\n",
       "      <td>0</td>\n",
       "      <td>1</td>\n",
       "      <td>5</td>\n",
       "      <td>14</td>\n",
       "    </tr>\n",
       "  </tbody>\n",
       "</table>\n",
       "</div>"
      ],
      "text/plain": [
       "Predicted Resolution  144   240   360   480   720   1080\n",
       "Actual Resolution                                       \n",
       "144                     13     2     0     0     0     0\n",
       "240                      0    14     4     0     0     0\n",
       "360                      0     5     9     5     0     0\n",
       "480                      0     0     5    13     2     0\n",
       "720                      0     0     1     5    10     3\n",
       "1080                     0     0     0     1     5    14"
      ]
     },
     "execution_count": 117,
     "metadata": {},
     "output_type": "execute_result"
    }
   ],
   "source": [
    "X, y = training.drop(columns=['resolution']), training['resolution']\n",
    "X_train, X_test, y_train, y_test = train_test_split(X, y, test_size = 0.25, random_state = 42,  stratify=training['resolution'])\n",
    "\n",
    "clf = RandomForestClassifier(n_estimators = 10, max_depth = 10, criterion = 'entropy', min_samples_split = 2, random_state = 42)\n",
    "clf.fit(X_train, y_train)\n",
    "y_pred = clf.predict(X_test)\n",
    "\n",
    "print('Random Forest - Expanded Model Accuracy: ' + str(accuracy_score(y_test, y_pred)))\n",
    "print('F1 Score: ' + str(np.round(f1_score(y_test, y_pred, average=None), 2)))\n",
    "(pd.crosstab(y_test, y_pred, rownames=['Actual Resolution'], colnames=['Predicted Resolution']))"
   ]
  },
  {
   "cell_type": "code",
   "execution_count": 118,
   "metadata": {},
   "outputs": [
    {
     "data": {
      "text/plain": [
       "Text(0, 0.5, 'Features')"
      ]
     },
     "execution_count": 118,
     "metadata": {},
     "output_type": "execute_result"
    },
    {
     "data": {
      "image/png": "[encoded data removed]",
      "text/plain": [
       "<Figure size 720x504 with 1 Axes>"
      ]
     },
     "metadata": {},
     "output_type": "display_data"
    }
   ],
   "source": [
    "importances = clf.feature_importances_\n",
    "indices = np.argsort(importances)[::-1]\n",
    "\n",
    "sns.set(rc={'figure.figsize':(10,7)})\n",
    "plt.barh(np.array(features)[indices], importances[indices])\n",
    "plt.title('Expanded Model - 5 Resolutions: Feature Importances')\n",
    "plt.xlabel('Importance')\n",
    "plt.ylabel('Features')"
   ]
  },
  {
   "cell_type": "markdown",
   "metadata": {},
   "source": [
    "## Expanded Model - Binned Resolutions"
   ]
  },
  {
   "cell_type": "code",
   "execution_count": 119,
   "metadata": {},
   "outputs": [
    {
     "data": {
      "text/plain": [
       "(441, 12)"
      ]
     },
     "execution_count": 119,
     "metadata": {},
     "output_type": "execute_result"
    }
   ],
   "source": [
    "feat_df_144 = pd.DataFrame(columns=features, data=feat_144)\n",
    "feat_df_144['resolution'] = \"0_low\"\n",
    "\n",
    "feat_df_240 = pd.DataFrame(columns=features, data=feat_240)\n",
    "feat_df_240['resolution'] = \"0_low\"\n",
    "\n",
    "feat_df_360 = pd.DataFrame(columns=features, data=feat_360)\n",
    "feat_df_360['resolution'] = \"1_medium\"\n",
    "\n",
    "feat_df_480 = pd.DataFrame(columns=features, data=feat_480)\n",
    "feat_df_480['resolution'] = \"1_medium\"\n",
    "\n",
    "feat_df_720 = pd.DataFrame(columns=features, data=feat_720)\n",
    "feat_df_720['resolution'] = \"2_high\"\n",
    "\n",
    "feat_df_1080 = pd.DataFrame(columns=features, data=feat_1080)\n",
    "feat_df_1080['resolution'] = \"2_high\"\n",
    "\n",
    "training = pd.concat((\n",
    "  feat_df_144,\n",
    "  feat_df_240,\n",
    "  feat_df_360,\n",
    "  feat_df_480,\n",
    "  feat_df_720,\n",
    "  feat_df_1080\n",
    "))\n",
    "\n",
    "training.shape"
   ]
  },
  {
   "cell_type": "code",
   "execution_count": 120,
   "metadata": {},
   "outputs": [
    {
     "name": "stdout",
     "output_type": "stream",
     "text": [
      "Random Forest - Binned Resolutions Accuracy: 0.8738738738738738\n",
      "F1 Score: [0.88 0.84 0.91]\n"
     ]
    },
    {
     "data": {
      "text/html": [
       "<div>\n",
       "<style scoped>\n",
       "    .dataframe tbody tr th:only-of-type {\n",
       "        vertical-align: middle;\n",
       "    }\n",
       "\n",
       "    .dataframe tbody tr th {\n",
       "        vertical-align: top;\n",
       "    }\n",
       "\n",
       "    .dataframe thead th {\n",
       "        text-align: right;\n",
       "    }\n",
       "</style>\n",
       "<table border=\"1\" class=\"dataframe\">\n",
       "  <thead>\n",
       "    <tr style=\"text-align: right;\">\n",
       "      <th>Predicted Resolution</th>\n",
       "      <th>0_low</th>\n",
       "      <th>1_medium</th>\n",
       "      <th>2_high</th>\n",
       "    </tr>\n",
       "    <tr>\n",
       "      <th>Actual Resolution</th>\n",
       "      <th></th>\n",
       "      <th></th>\n",
       "      <th></th>\n",
       "    </tr>\n",
       "  </thead>\n",
       "  <tbody>\n",
       "    <tr>\n",
       "      <th>0_low</th>\n",
       "      <td>0.878788</td>\n",
       "      <td>0.121212</td>\n",
       "      <td>0.000000</td>\n",
       "    </tr>\n",
       "    <tr>\n",
       "      <th>1_medium</th>\n",
       "      <td>0.076923</td>\n",
       "      <td>0.846154</td>\n",
       "      <td>0.076923</td>\n",
       "    </tr>\n",
       "    <tr>\n",
       "      <th>2_high</th>\n",
       "      <td>0.025641</td>\n",
       "      <td>0.076923</td>\n",
       "      <td>0.897436</td>\n",
       "    </tr>\n",
       "  </tbody>\n",
       "</table>\n",
       "</div>"
      ],
      "text/plain": [
       "Predicted Resolution     0_low  1_medium    2_high\n",
       "Actual Resolution                                 \n",
       "0_low                 0.878788  0.121212  0.000000\n",
       "1_medium              0.076923  0.846154  0.076923\n",
       "2_high                0.025641  0.076923  0.897436"
      ]
     },
     "execution_count": 120,
     "metadata": {},
     "output_type": "execute_result"
    }
   ],
   "source": [
    "X, y = training.drop(columns=['resolution']), training['resolution']\n",
    "X_train, X_test, y_train, y_test = train_test_split(X, y, test_size = 0.25, random_state = 42,  stratify=training['resolution'])\n",
    "\n",
    "clf = RandomForestClassifier(n_estimators = 15, max_depth = 10, criterion = 'entropy', min_samples_split = 3, random_state = 42)\n",
    "clf.fit(X_train, y_train)\n",
    "y_pred = clf.predict(X_test)\n",
    "\n",
    "print('Random Forest - Binned Resolutions Accuracy: ' + str(accuracy_score(y_test, y_pred)))\n",
    "print('F1 Score: ' + str(np.round(f1_score(y_test, y_pred, average=None), 2)))\n",
    "(pd.crosstab(y_test, y_pred, rownames=['Actual Resolution'], colnames=['Predicted Resolution'], normalize='index'))"
   ]
  },
  {
   "cell_type": "code",
   "execution_count": 121,
   "metadata": {},
   "outputs": [
    {
     "data": {
      "text/html": [
       "<div>\n",
       "<style scoped>\n",
       "    .dataframe tbody tr th:only-of-type {\n",
       "        vertical-align: middle;\n",
       "    }\n",
       "\n",
       "    .dataframe tbody tr th {\n",
       "        vertical-align: top;\n",
       "    }\n",
       "\n",
       "    .dataframe thead th {\n",
       "        text-align: right;\n",
       "    }\n",
       "</style>\n",
       "<table border=\"1\" class=\"dataframe\">\n",
       "  <thead>\n",
       "    <tr style=\"text-align: right;\">\n",
       "      <th>Predicted Resolution</th>\n",
       "      <th>0_low</th>\n",
       "      <th>1_medium</th>\n",
       "      <th>2_high</th>\n",
       "    </tr>\n",
       "    <tr>\n",
       "      <th>Actual Resolution</th>\n",
       "      <th></th>\n",
       "      <th></th>\n",
       "      <th></th>\n",
       "    </tr>\n",
       "  </thead>\n",
       "  <tbody>\n",
       "    <tr>\n",
       "      <th>0_low</th>\n",
       "      <td>29</td>\n",
       "      <td>4</td>\n",
       "      <td>0</td>\n",
       "    </tr>\n",
       "    <tr>\n",
       "      <th>1_medium</th>\n",
       "      <td>3</td>\n",
       "      <td>33</td>\n",
       "      <td>3</td>\n",
       "    </tr>\n",
       "    <tr>\n",
       "      <th>2_high</th>\n",
       "      <td>1</td>\n",
       "      <td>3</td>\n",
       "      <td>35</td>\n",
       "    </tr>\n",
       "  </tbody>\n",
       "</table>\n",
       "</div>"
      ],
      "text/plain": [
       "Predicted Resolution  0_low  1_medium  2_high\n",
       "Actual Resolution                            \n",
       "0_low                    29         4       0\n",
       "1_medium                  3        33       3\n",
       "2_high                    1         3      35"
      ]
     },
     "execution_count": 121,
     "metadata": {},
     "output_type": "execute_result"
    }
   ],
   "source": [
    "(pd.crosstab(y_test, y_pred, rownames=['Actual Resolution'], colnames=['Predicted Resolution']))"
   ]
  },
  {
   "cell_type": "code",
   "execution_count": 122,
   "metadata": {
    "scrolled": false
   },
   "outputs": [
    {
     "data": {
      "text/plain": [
       "Text(0, 0.5, 'Features')"
      ]
     },
     "execution_count": 122,
     "metadata": {},
     "output_type": "execute_result"
    },
    {
     "data": {
      "image/png": "[encoded data removed]",
      "text/plain": [
       "<Figure size 864x288 with 1 Axes>"
      ]
     },
     "metadata": {},
     "output_type": "display_data"
    }
   ],
   "source": [
    "importances = clf.feature_importances_\n",
    "indices = np.argsort(importances)[::-1]\n",
    "\n",
    "top_5 = np.array(features)[indices[:5]]\n",
    "\n",
    "sns.set(rc={'figure.figsize':(12,4)})\n",
    "plt.barh(np.array(features)[indices], importances[indices])\n",
    "plt.title('Expanded Model - Binned Resolutions: Feature Importances')\n",
    "plt.xlabel('Importance')\n",
    "plt.ylabel('Features')"
   ]
  },
  {
   "cell_type": "markdown",
   "metadata": {},
   "source": [
    "## Top 5 Features Only"
   ]
  },
  {
   "cell_type": "code",
   "execution_count": 103,
   "metadata": {},
   "outputs": [
    {
     "name": "stdout",
     "output_type": "stream",
     "text": [
      "Random Forest - Binned Resolutions Accuracy: 0.8200692041522492\n",
      "F1 Score: [0.86 0.77 0.85]\n"
     ]
    },
    {
     "data": {
      "text/html": [
       "<div>\n",
       "<style scoped>\n",
       "    .dataframe tbody tr th:only-of-type {\n",
       "        vertical-align: middle;\n",
       "    }\n",
       "\n",
       "    .dataframe tbody tr th {\n",
       "        vertical-align: top;\n",
       "    }\n",
       "\n",
       "    .dataframe thead th {\n",
       "        text-align: right;\n",
       "    }\n",
       "</style>\n",
       "<table border=\"1\" class=\"dataframe\">\n",
       "  <thead>\n",
       "    <tr style=\"text-align: right;\">\n",
       "      <th>Predicted Resolution</th>\n",
       "      <th>0_low</th>\n",
       "      <th>1_medium</th>\n",
       "      <th>2_high</th>\n",
       "    </tr>\n",
       "    <tr>\n",
       "      <th>Actual Resolution</th>\n",
       "      <th></th>\n",
       "      <th></th>\n",
       "      <th></th>\n",
       "    </tr>\n",
       "  </thead>\n",
       "  <tbody>\n",
       "    <tr>\n",
       "      <th>0_low</th>\n",
       "      <td>70</td>\n",
       "      <td>14</td>\n",
       "      <td>2</td>\n",
       "    </tr>\n",
       "    <tr>\n",
       "      <th>1_medium</th>\n",
       "      <td>7</td>\n",
       "      <td>82</td>\n",
       "      <td>13</td>\n",
       "    </tr>\n",
       "    <tr>\n",
       "      <th>2_high</th>\n",
       "      <td>0</td>\n",
       "      <td>16</td>\n",
       "      <td>85</td>\n",
       "    </tr>\n",
       "  </tbody>\n",
       "</table>\n",
       "</div>"
      ],
      "text/plain": [
       "Predicted Resolution  0_low  1_medium  2_high\n",
       "Actual Resolution                            \n",
       "0_low                    70        14       2\n",
       "1_medium                  7        82      13\n",
       "2_high                    0        16      85"
      ]
     },
     "execution_count": 103,
     "metadata": {},
     "output_type": "execute_result"
    }
   ],
   "source": [
    "X, y = training[top_5], training['resolution']\n",
    "X_train, X_test, y_train, y_test = train_test_split(X, y, test_size = 0.25, random_state = 42,  stratify=training['resolution'])\n",
    "\n",
    "clf = RandomForestClassifier(n_estimators = 15, max_depth = 10, criterion = 'entropy', min_samples_split = 3, random_state = 42)\n",
    "clf.fit(X_train, y_train)\n",
    "y_pred = clf.predict(X_test)\n",
    "\n",
    "print('Random Forest - Binned Resolutions Accuracy: ' + str(accuracy_score(y_test, y_pred)))\n",
    "print('F1 Score: ' + str(np.round(f1_score(y_test, y_pred, average=None), 2)))\n",
    "(pd.crosstab(y_test, y_pred, rownames=['Actual Resolution'], colnames=['Predicted Resolution']))"
   ]
  },
  {
   "cell_type": "code",
   "execution_count": 70,
   "metadata": {},
   "outputs": [
    {
     "data": {
      "text/plain": [
       "array(['peak_avg', 'max_prominence', 'prominence_std', 'peak_std',\n",
       "       'download_std'], dtype='<U16')"
      ]
     },
     "execution_count": 70,
     "metadata": {},
     "output_type": "execute_result"
    }
   ],
   "source": [
    "top_5"
   ]
  },
  {
   "cell_type": "code",
   "execution_count": null,
   "metadata": {},
   "outputs": [],
   "source": []
  },
  {
   "cell_type": "code",
   "execution_count": null,
   "metadata": {},
   "outputs": [],
   "source": []
  },
  {
   "cell_type": "code",
   "execution_count": null,
   "metadata": {},
   "outputs": [],
   "source": []
  }
 ],
 "metadata": {
  "kernelspec": {
   "display_name": "Python 3",
   "language": "python",
   "name": "python3"
  },
  "language_info": {
   "codemirror_mode": {
    "name": "ipython",
    "version": 3
   },
   "file_extension": ".py",
   "mimetype": "text/x-python",
   "name": "python",
   "nbconvert_exporter": "python",
   "pygments_lexer": "ipython3",
   "version": "3.7.1"
  }
 },
 "nbformat": 4,
 "nbformat_minor": 2
}
