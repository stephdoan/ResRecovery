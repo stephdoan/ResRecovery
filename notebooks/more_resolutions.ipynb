{
 "cells": [
  {
   "cell_type": "code",
   "execution_count": 1,
   "metadata": {},
   "outputs": [],
   "source": [
    "import os\n",
    "import sys\n",
    "import re\n",
    "\n",
    "import numpy as np\n",
    "import pandas as pd\n",
    "import scipy as sp\n",
    "from scipy import signal\n",
    "\n",
    "import matplotlib.pyplot as plt\n",
    "import seaborn as sns\n",
    "\n",
    "import warnings\n",
    "warnings.filterwarnings('ignore')\n",
    "\n",
    "%matplotlib inline"
   ]
  },
  {
   "cell_type": "code",
   "execution_count": 2,
   "metadata": {},
   "outputs": [],
   "source": [
    "sys.path.insert(0, '../src')\n",
    "from features import *\n",
    "from utils import *\n",
    "from eda import *"
   ]
  },
  {
   "cell_type": "code",
   "execution_count": 3,
   "metadata": {},
   "outputs": [],
   "source": [
    "sns.set(rc={'figure.figsize':(20,5)})"
   ]
  },
  {
   "cell_type": "code",
   "execution_count": 4,
   "metadata": {},
   "outputs": [],
   "source": [
    "mbit_rate = 1/125000\n",
    "\n",
    "low_fp = '../data/240p/' \n",
    "threesixty_fp = '../data/360p/' \n",
    "med_fp = '../data/480p/'\n",
    "seventwenty_fp = '../data/720p/' \n",
    "high_fp = '../data/1080p/' "
   ]
  },
  {
   "cell_type": "code",
   "execution_count": 5,
   "metadata": {},
   "outputs": [],
   "source": [
    "low_dfs = []\n",
    "for file in os.listdir(low_fp):\n",
    "    if file != '.ipynb_checkpoints' and file != '.DS_Store':\n",
    "        low_dfs.append(pd.read_csv(low_fp+file))\n",
    "    \n",
    "threesixty_dfs = []\n",
    "for file in os.listdir(threesixty_fp):\n",
    "    if file != '.ipynb_checkpoints' and file != '.DS_Store':\n",
    "        threesixty_dfs.append(pd.read_csv(threesixty_fp+file))\n",
    "        \n",
    "med_dfs = []\n",
    "for file in os.listdir(med_fp):\n",
    "    if file != '.ipynb_checkpoints' and file != '.DS_Store':\n",
    "        med_dfs.append(pd.read_csv(med_fp+file))\n",
    "        \n",
    "seventwenty_dfs = []\n",
    "for file in os.listdir(seventwenty_fp):\n",
    "    if file != '.ipynb_checkpoints' and file != '.DS_Store':\n",
    "        seventwenty_dfs.append(pd.read_csv(seventwenty_fp+file))\n",
    "    \n",
    "high_dfs = []\n",
    "for file in os.listdir(high_fp):\n",
    "    if file != '.ipynb_checkpoints' and file != '.DS_Store':\n",
    "        high_dfs.append(pd.read_csv(high_fp+file))"
   ]
  },
  {
   "cell_type": "code",
   "execution_count": null,
   "metadata": {},
   "outputs": [],
   "source": [
    "low_ms = []\n",
    "for df in low_dfs:\n",
    "    low_ms.append(convert_ms_df(df,True))\n",
    "    \n",
    "threesixty_ms = []\n",
    "for df in threesixty_dfs:\n",
    "    threesixty_ms.append(convert_ms_df(df,True))\n",
    "    \n",
    "med_ms = []\n",
    "for df in med_dfs:\n",
    "    med_ms.append(convert_ms_df(df,True))\n",
    "    \n",
    "seventwenty_ms = []\n",
    "for df in seventwenty_dfs:\n",
    "    seventwenty_ms.append(convert_ms_df(df,True))\n",
    "    \n",
    "high_ms = []\n",
    "for df in high_dfs:\n",
    "    high_ms.append(convert_ms_df(df,True))"
   ]
  },
  {
   "cell_type": "code",
   "execution_count": null,
   "metadata": {},
   "outputs": [],
   "source": [
    "low_resamples = []\n",
    "for df in low_ms:\n",
    "    low_resamples.append(df.resample('500ms', on='Time').sum())\n",
    "    \n",
    "threesixty_resamples = []\n",
    "for df in threesixty_ms:\n",
    "    threesixty_resamples.append(df.resample('500ms', on='Time').sum())\n",
    "    \n",
    "med_resamples = []\n",
    "for df in med_ms:\n",
    "    med_resamples.append(df.resample('500ms', on='Time').sum())\n",
    "    \n",
    "seventwenty_resamples = []\n",
    "for df in seventwenty_ms:\n",
    "    seventwenty_resamples.append(df.resample('500ms', on='Time').sum())\n",
    "    \n",
    "high_resamples = []\n",
    "for df in high_ms:\n",
    "    high_resamples.append(df.resample('500ms', on='Time').sum())"
   ]
  },
  {
   "cell_type": "code",
   "execution_count": null,
   "metadata": {},
   "outputs": [],
   "source": [
    "# low_resample = low_ms.resample('500ms', on='Time').sum()\n",
    "# med_resample = med_ms.resample('500ms', on='Time').sum()\n",
    "# high_resample = high_ms.resample('500ms', on='Time').sum()\n"
   ]
  },
  {
   "cell_type": "markdown",
   "metadata": {},
   "source": [
    "## Aggregate Features"
   ]
  },
  {
   "cell_type": "code",
   "execution_count": 6,
   "metadata": {},
   "outputs": [],
   "source": [
    "## take the aggregate features of the whole chunk; download and upload\n",
    "def agg_feat(df, col):\n",
    "    return [np.mean(df[col]), np.std(df[col])]\n",
    "\n",
    "## take the ratio of upload:download packets\n",
    "def pkt_ratio(df):\n",
    "    ms_df = convert_ms_df(df, True)\n",
    "    local = np.sum(ms_df['pkt_src'] == '1') \n",
    "    server = np.sum(ms_df['pkt_src'] == '2') \n",
    "    return local / server\n",
    "\n",
    "## take the ratio of upload:download bytes\n",
    "def bytes_ratio(df):\n",
    "    local = df['1->2Bytes'].sum()\n",
    "    server = df['2->1Bytes'].sum()\n",
    "    return local / server"
   ]
  },
  {
   "cell_type": "markdown",
   "metadata": {},
   "source": [
    "## Peak Related Aggregate Features"
   ]
  },
  {
   "cell_type": "code",
   "execution_count": 7,
   "metadata": {},
   "outputs": [],
   "source": [
    "## finds the peaks with mean + 2(1) std\n",
    "## run the above aggregate functions on the peaks only??\n",
    "\n",
    "def get_peak_loc(df, col, invert=False):\n",
    "  'invert arg allows you to get values not considered peaks'\n",
    "  df_avg = df[col].mean()\n",
    "  df_std = df[col].std()\n",
    "  \n",
    "  threshold = df_avg + (1 * df_std)\n",
    "  \n",
    "  if invert:\n",
    "    return np.array(df[col] < threshold)\n",
    "  \n",
    "  else:\n",
    "    return np.array(df[col] > threshold)\n",
    "\n",
    "## np.mean, np.var, np.std - think of more?  \n",
    "def peak_time_diff(df, col):\n",
    "  '''\n",
    "  mess around with the different inputs for function. \n",
    "  variance seems to inflate the difference betweent the two the most with litte\n",
    "  to no data manipulation. however, currently trying things like\n",
    "  squaring the data before taking the aggregate function to exaggerate\n",
    "  differences (moderate success??)\n",
    "  '''\n",
    "  peaks = df[get_peak_loc(df, col)]\n",
    "  peaks['Time'] = peaks['Time'] - peaks['Time'].min()\n",
    "  time_diff = np.diff(peaks['Time'] ** 2)\n",
    "  return [np.mean(time_diff), np.std(time_diff)]"
   ]
  },
  {
   "cell_type": "code",
   "execution_count": 8,
   "metadata": {},
   "outputs": [],
   "source": [
    "from scipy.signal import find_peaks\n",
    "\n",
    "def peak_times(df,col,thresh):\n",
    "    x = df[col]\n",
    "    peaks, _ = find_peaks(x, height=thresh)\n",
    "    if list(peaks) == []:\n",
    "        return [-1]\n",
    "    times = df.iloc[peaks]['Time'].values\n",
    "    time_between_peaks = [times[i]-times[i-1]for i in range(1,len(times))]\n",
    "    #print(time_between_peaks)\n",
    "    #time_between_peaks[0]=0\n",
    "    if time_between_peaks == []:\n",
    "        return -1\n",
    "    return time_between_peaks\n",
    "\n",
    "def num_peaks(df,col,thresh):\n",
    "    x = df[col]\n",
    "    peaks, _ = find_peaks(x, height=thresh)\n",
    "    return len(peaks)"
   ]
  },
  {
   "cell_type": "markdown",
   "metadata": {},
   "source": [
    "## Spectral Features"
   ]
  },
  {
   "cell_type": "code",
   "execution_count": 9,
   "metadata": {},
   "outputs": [],
   "source": [
    "def spectral_features(df, col):\n",
    "\n",
    "    \"\"\"\n",
    "    welch implemention of spectral features\n",
    "    resample the data before inputting (might change prereq depending on\n",
    "    resource allocation)\n",
    "    \"\"\"\n",
    "\n",
    "    f, Pxx_den = sp.signal.welch(df[col], fs=2)\n",
    "    Pxx_den = np.sqrt(Pxx_den)\n",
    "\n",
    "    peaks = sp.signal.find_peaks(Pxx_den)[0]\n",
    "    prominences = sp.signal.peak_prominences(Pxx_den, peaks)[0]\n",
    "\n",
    "    idx_max = prominences.argmax()\n",
    "    loc_max = peaks[idx_max]\n",
    "\n",
    "    return [f[loc_max], Pxx_den[loc_max], prominences[idx_max]]"
   ]
  },
  {
   "cell_type": "markdown",
   "metadata": {},
   "source": [
    "## Chunking & Feature creation"
   ]
  },
  {
   "cell_type": "code",
   "execution_count": 10,
   "metadata": {},
   "outputs": [],
   "source": [
    "## wip; need to decide chunk size eventually\n",
    "## should we also make this chunking feature be our feature creation?\n",
    "\n",
    "def chunk_data(df, interval=60):\n",
    "\n",
    "    \"\"\"\n",
    "    takes in a filepath to the data you want to chunk and feature engineer\n",
    "    chunks our data into a specified time interval\n",
    "    each chunk is then turned into an observation to be fed into our classifier\n",
    "    \"\"\"\n",
    "\n",
    "    df_list = []\n",
    "    \n",
    "    df['Time'] = df['Time'] - df['Time'].min()\n",
    "    \n",
    "    total_chunks = np.floor(df['Time'].max() / interval).astype(int)\n",
    "\n",
    "    for chunk in np.arange(total_chunks):\n",
    "      \n",
    "        start = chunk * interval\n",
    "        end = (chunk+1) * interval\n",
    "\n",
    "        temp_df = (df[(df['Time'] >= start) & (df['Time'] < end)])\n",
    "        \n",
    "        df_list.append(temp_df)\n",
    "        \n",
    "    return df_list"
   ]
  },
  {
   "cell_type": "code",
   "execution_count": 11,
   "metadata": {},
   "outputs": [],
   "source": [
    "def create_features(dfs, interval=60):\n",
    "\n",
    "  features = [\n",
    "    'dwl_peak_freq',\n",
    "    'dwl_peak_prom',\n",
    "    'dwl_max_psd',\n",
    "    'dwl_bytes_avg',\n",
    "    'dwl_bytes_std',\n",
    "    'dwl_peak_avg',\n",
    "    'dwl_peak_std',\n",
    "    'upl_peak_freq',\n",
    "    'upl_peak_prom',\n",
    "    'upl_max_psd',\n",
    "    'upl_bytes_avg',\n",
    "    'upl_bytes_std',\n",
    "    'upl_peak_avg',\n",
    "    'upl_peak_std',\n",
    "    'dwl_time_peak',#'IMAN_up_time_peak',\n",
    "    'dwl_num_peak'#,'IMAN_up_num_peak'\n",
    "  ]  \n",
    "\n",
    "  vals = []\n",
    "  for df in dfs:\n",
    "      df_chunks = chunk_data(df, interval)\n",
    "\n",
    "      for chunk in df_chunks:\n",
    "\n",
    "        preproc = convert_ms_df(chunk, True)\n",
    "        upl_bytes = preproc[preproc['pkt_src'] == '1'].resample('500ms', on='Time').sum()\n",
    "        dwl_bytes = preproc[preproc['pkt_src'] == '2'].resample('500ms', on='Time').sum()\n",
    "\n",
    "        ## spectral features\n",
    "        dwl_spectral = spectral_features(dwl_bytes, 'pkt_size')\n",
    "        upl_spectral = spectral_features(upl_bytes, 'pkt_size')\n",
    "\n",
    "        ## aggregate features\n",
    "        dwl_agg = agg_feat(chunk, '2->1Bytes')\n",
    "        upl_agg = agg_feat(chunk, '1->2Bytes')\n",
    "\n",
    "        ## peak features\n",
    "        dwl_peak = peak_time_diff(chunk, '2->1Bytes')\n",
    "        upl_peak = peak_time_diff(chunk, '1->2Bytes')\n",
    "        \n",
    "        ## iman's time between peak \n",
    "        iman_dwn_time_peak = np.mean(peak_times(chunk,'2->1Bytes',1000000))\n",
    "        #iman_up_time_peak = np.mean(peak_times(chunk,'1->2Bytes',50000))\n",
    "        \n",
    "        ## iman's num peak\n",
    "        iman_dwn_num_peak = num_peaks(chunk,'2->1Bytes',1000000)\n",
    "        #iman_up_num_peak = num_peaks(chunk,'1->2Bytes',50000)\n",
    "\n",
    "\n",
    "        \n",
    "        feat_val = np.hstack((\n",
    "          dwl_spectral,\n",
    "          dwl_agg,\n",
    "          dwl_peak,\n",
    "          upl_spectral,\n",
    "          upl_agg,\n",
    "          upl_peak,\n",
    "            iman_dwn_time_peak,#iman_up_time_peak,\n",
    "            iman_dwn_num_peak,#iman_up_num_peak\n",
    "        ))\n",
    "\n",
    "        vals.append(feat_val)\n",
    "    \n",
    "  return pd.DataFrame(columns=features, data=vals).fillna(0)"
   ]
  },
  {
   "cell_type": "code",
   "execution_count": null,
   "metadata": {},
   "outputs": [],
   "source": []
  },
  {
   "cell_type": "code",
   "execution_count": null,
   "metadata": {},
   "outputs": [],
   "source": []
  },
  {
   "cell_type": "code",
   "execution_count": null,
   "metadata": {},
   "outputs": [],
   "source": []
  },
  {
   "cell_type": "code",
   "execution_count": null,
   "metadata": {},
   "outputs": [],
   "source": []
  },
  {
   "cell_type": "markdown",
   "metadata": {},
   "source": [
    "## Training Model"
   ]
  },
  {
   "cell_type": "code",
   "execution_count": 63,
   "metadata": {},
   "outputs": [
    {
     "name": "stdout",
     "output_type": "stream",
     "text": [
      "Wall time: 1min\n"
     ]
    }
   ],
   "source": [
    "%%time\n",
    "low_feat = create_features(low_dfs, 120)\n",
    "threesixty_feat = create_features(threesixty_dfs, 120)\n",
    "med_feat = create_features(med_dfs, 120)\n",
    "seventwenty_feat = create_features(seventwenty_dfs, 120)\n",
    "high_feat = create_features(high_dfs, 120)"
   ]
  },
  {
   "cell_type": "code",
   "execution_count": 13,
   "metadata": {},
   "outputs": [],
   "source": [
    "low_feat['resolution'] = 0\n",
    "threesixty_feat['resolution'] = 1\n",
    "med_feat['resolution'] = 2\n",
    "seventwenty_feat['resolution'] = 3\n",
    "high_feat['resolution'] = 4"
   ]
  },
  {
   "cell_type": "code",
   "execution_count": 14,
   "metadata": {},
   "outputs": [],
   "source": [
    "training = pd.concat([low_feat, threesixty_feat, med_feat, seventwenty_feat, high_feat]).reset_index(drop=True)"
   ]
  },
  {
   "cell_type": "code",
   "execution_count": 15,
   "metadata": {},
   "outputs": [],
   "source": [
    "training.to_csv(\"training.csv\", index=False)"
   ]
  },
  {
   "cell_type": "code",
   "execution_count": 48,
   "metadata": {},
   "outputs": [],
   "source": [
    "training = pd.read_csv(\"training.csv\")"
   ]
  },
  {
   "cell_type": "code",
   "execution_count": null,
   "metadata": {},
   "outputs": [],
   "source": [
    "## SELECT SUBSETS OF FEATURES\n",
    "\n",
    "#training = training[['dwl_bytes_avg','dwl_peak_prom','upl_bytes_std','dwl_bytes_std','upl_peak_std','resolution']]\n",
    "#training = training[['dwl_bytes_avg','upl_max_psd','dwl_max_psd','upl_peak_prom','dwl_num_peak','dwl_peak_prom','resolution']]\n",
    "#training = training[['dwl_max_psd','upl_max_psd','dwl_peak_prom','upl_peak_prom','dwl_num_peak','dwl_bytes_avg','upl_bytes_std','upl_bytes_avg','resolution']]\n"
   ]
  },
  {
   "cell_type": "code",
   "execution_count": 17,
   "metadata": {
    "scrolled": true
   },
   "outputs": [
    {
     "data": {
      "text/html": [
       "<div>\n",
       "<style scoped>\n",
       "    .dataframe tbody tr th:only-of-type {\n",
       "        vertical-align: middle;\n",
       "    }\n",
       "\n",
       "    .dataframe tbody tr th {\n",
       "        vertical-align: top;\n",
       "    }\n",
       "\n",
       "    .dataframe thead th {\n",
       "        text-align: right;\n",
       "    }\n",
       "</style>\n",
       "<table border=\"1\" class=\"dataframe\">\n",
       "  <thead>\n",
       "    <tr style=\"text-align: right;\">\n",
       "      <th></th>\n",
       "      <th>dwl_peak_freq</th>\n",
       "      <th>dwl_peak_prom</th>\n",
       "      <th>dwl_max_psd</th>\n",
       "      <th>dwl_bytes_avg</th>\n",
       "      <th>dwl_bytes_std</th>\n",
       "      <th>dwl_peak_avg</th>\n",
       "      <th>dwl_peak_std</th>\n",
       "      <th>upl_peak_freq</th>\n",
       "      <th>upl_peak_prom</th>\n",
       "      <th>upl_max_psd</th>\n",
       "      <th>upl_bytes_avg</th>\n",
       "      <th>upl_bytes_std</th>\n",
       "      <th>upl_peak_avg</th>\n",
       "      <th>upl_peak_std</th>\n",
       "      <th>dwl_time_peak</th>\n",
       "      <th>dwl_num_peak</th>\n",
       "      <th>resolution</th>\n",
       "    </tr>\n",
       "  </thead>\n",
       "  <tbody>\n",
       "    <tr>\n",
       "      <th>0</th>\n",
       "      <td>0.298246</td>\n",
       "      <td>380579.357075</td>\n",
       "      <td>351329.061061</td>\n",
       "      <td>72892.260274</td>\n",
       "      <td>203957.296315</td>\n",
       "      <td>896.000000</td>\n",
       "      <td>1055.890619</td>\n",
       "      <td>0.297872</td>\n",
       "      <td>24668.127369</td>\n",
       "      <td>23956.945544</td>\n",
       "      <td>5863.116438</td>\n",
       "      <td>15579.513127</td>\n",
       "      <td>972.000000</td>\n",
       "      <td>1181.301189</td>\n",
       "      <td>-1.0</td>\n",
       "      <td>0.0</td>\n",
       "      <td>0</td>\n",
       "    </tr>\n",
       "    <tr>\n",
       "      <th>1</th>\n",
       "      <td>0.120172</td>\n",
       "      <td>209533.908527</td>\n",
       "      <td>199295.738735</td>\n",
       "      <td>30101.308725</td>\n",
       "      <td>148313.526040</td>\n",
       "      <td>1584.200000</td>\n",
       "      <td>1437.137349</td>\n",
       "      <td>0.268908</td>\n",
       "      <td>16564.278469</td>\n",
       "      <td>16071.943669</td>\n",
       "      <td>2884.818792</td>\n",
       "      <td>11467.508174</td>\n",
       "      <td>1235.571429</td>\n",
       "      <td>1295.479708</td>\n",
       "      <td>-1.0</td>\n",
       "      <td>0.0</td>\n",
       "      <td>0</td>\n",
       "    </tr>\n",
       "    <tr>\n",
       "      <th>2</th>\n",
       "      <td>0.364407</td>\n",
       "      <td>216467.457233</td>\n",
       "      <td>192007.365418</td>\n",
       "      <td>51701.043011</td>\n",
       "      <td>203773.969686</td>\n",
       "      <td>1620.000000</td>\n",
       "      <td>1536.666132</td>\n",
       "      <td>0.267782</td>\n",
       "      <td>10893.472665</td>\n",
       "      <td>10002.525103</td>\n",
       "      <td>2961.978495</td>\n",
       "      <td>9485.323553</td>\n",
       "      <td>1380.166667</td>\n",
       "      <td>1543.763088</td>\n",
       "      <td>-1.0</td>\n",
       "      <td>1.0</td>\n",
       "      <td>0</td>\n",
       "    </tr>\n",
       "    <tr>\n",
       "      <th>3</th>\n",
       "      <td>0.097345</td>\n",
       "      <td>221226.914009</td>\n",
       "      <td>211308.598644</td>\n",
       "      <td>50275.190476</td>\n",
       "      <td>186330.247723</td>\n",
       "      <td>1584.200000</td>\n",
       "      <td>1506.606306</td>\n",
       "      <td>0.202643</td>\n",
       "      <td>9856.270033</td>\n",
       "      <td>8651.690445</td>\n",
       "      <td>3646.738095</td>\n",
       "      <td>11243.367262</td>\n",
       "      <td>1320.166667</td>\n",
       "      <td>1326.823829</td>\n",
       "      <td>-1.0</td>\n",
       "      <td>0.0</td>\n",
       "      <td>0</td>\n",
       "    </tr>\n",
       "    <tr>\n",
       "      <th>4</th>\n",
       "      <td>0.133929</td>\n",
       "      <td>197065.603580</td>\n",
       "      <td>186634.534266</td>\n",
       "      <td>64102.541667</td>\n",
       "      <td>187533.249393</td>\n",
       "      <td>1760.142857</td>\n",
       "      <td>1513.387348</td>\n",
       "      <td>0.102564</td>\n",
       "      <td>14574.712839</td>\n",
       "      <td>13675.789398</td>\n",
       "      <td>5021.208333</td>\n",
       "      <td>14404.471919</td>\n",
       "      <td>1760.142857</td>\n",
       "      <td>1513.387348</td>\n",
       "      <td>-1.0</td>\n",
       "      <td>0.0</td>\n",
       "      <td>0</td>\n",
       "    </tr>\n",
       "  </tbody>\n",
       "</table>\n",
       "</div>"
      ],
      "text/plain": [
       "   dwl_peak_freq  dwl_peak_prom    dwl_max_psd  dwl_bytes_avg  dwl_bytes_std  \\\n",
       "0       0.298246  380579.357075  351329.061061   72892.260274  203957.296315   \n",
       "1       0.120172  209533.908527  199295.738735   30101.308725  148313.526040   \n",
       "2       0.364407  216467.457233  192007.365418   51701.043011  203773.969686   \n",
       "3       0.097345  221226.914009  211308.598644   50275.190476  186330.247723   \n",
       "4       0.133929  197065.603580  186634.534266   64102.541667  187533.249393   \n",
       "\n",
       "   dwl_peak_avg  dwl_peak_std  upl_peak_freq  upl_peak_prom   upl_max_psd  \\\n",
       "0    896.000000   1055.890619       0.297872   24668.127369  23956.945544   \n",
       "1   1584.200000   1437.137349       0.268908   16564.278469  16071.943669   \n",
       "2   1620.000000   1536.666132       0.267782   10893.472665  10002.525103   \n",
       "3   1584.200000   1506.606306       0.202643    9856.270033   8651.690445   \n",
       "4   1760.142857   1513.387348       0.102564   14574.712839  13675.789398   \n",
       "\n",
       "   upl_bytes_avg  upl_bytes_std  upl_peak_avg  upl_peak_std  dwl_time_peak  \\\n",
       "0    5863.116438   15579.513127    972.000000   1181.301189           -1.0   \n",
       "1    2884.818792   11467.508174   1235.571429   1295.479708           -1.0   \n",
       "2    2961.978495    9485.323553   1380.166667   1543.763088           -1.0   \n",
       "3    3646.738095   11243.367262   1320.166667   1326.823829           -1.0   \n",
       "4    5021.208333   14404.471919   1760.142857   1513.387348           -1.0   \n",
       "\n",
       "   dwl_num_peak  resolution  \n",
       "0           0.0           0  \n",
       "1           0.0           0  \n",
       "2           1.0           0  \n",
       "3           0.0           0  \n",
       "4           0.0           0  "
      ]
     },
     "execution_count": 17,
     "metadata": {},
     "output_type": "execute_result"
    }
   ],
   "source": [
    "training.head()"
   ]
  },
  {
   "cell_type": "code",
   "execution_count": 18,
   "metadata": {},
   "outputs": [
    {
     "data": {
      "text/plain": [
       "4    38\n",
       "1    38\n",
       "3    37\n",
       "2    37\n",
       "0    37\n",
       "Name: resolution, dtype: int64"
      ]
     },
     "execution_count": 18,
     "metadata": {},
     "output_type": "execute_result"
    }
   ],
   "source": [
    "training['resolution'].value_counts()"
   ]
  },
  {
   "cell_type": "code",
   "execution_count": null,
   "metadata": {},
   "outputs": [],
   "source": []
  },
  {
   "cell_type": "code",
   "execution_count": 19,
   "metadata": {},
   "outputs": [],
   "source": [
    "from sklearn.model_selection import train_test_split\n",
    "from sklearn.preprocessing import StandardScaler\n",
    "from sklearn.ensemble import RandomForestClassifier\n",
    "from sklearn.metrics import confusion_matrix, f1_score,accuracy_score"
   ]
  },
  {
   "cell_type": "code",
   "execution_count": 49,
   "metadata": {},
   "outputs": [],
   "source": [
    "X, y = training.drop(columns=['resolution']), training['resolution']\n",
    "X_train, X_test, y_train, y_test = train_test_split(X, y, test_size = 0.25, stratify=training['resolution'], random_state = 4)"
   ]
  },
  {
   "cell_type": "code",
   "execution_count": 50,
   "metadata": {
    "scrolled": true
   },
   "outputs": [
    {
     "data": {
      "text/plain": [
       "RandomForestClassifier(bootstrap=True, class_weight=None, criterion='entropy',\n",
       "                       max_depth=None, max_features='auto', max_leaf_nodes=None,\n",
       "                       min_impurity_decrease=0.0, min_impurity_split=None,\n",
       "                       min_samples_leaf=1, min_samples_split=2,\n",
       "                       min_weight_fraction_leaf=0.0, n_estimators=100,\n",
       "                       n_jobs=None, oob_score=False, random_state=42, verbose=0,\n",
       "                       warm_start=False)"
      ]
     },
     "execution_count": 50,
     "metadata": {},
     "output_type": "execute_result"
    }
   ],
   "source": [
    "classifier = RandomForestClassifier(n_estimators = 100, criterion = 'entropy', random_state = 42)\n",
    "#classifier = RandomForestClassifier(n_estimators = 100, criterion = 'gini', random_state = 42)\n",
    "classifier.fit(X_train, y_train)"
   ]
  },
  {
   "cell_type": "code",
   "execution_count": 51,
   "metadata": {},
   "outputs": [],
   "source": [
    "## FOR VALIDATION SET\n",
    "\n",
    "y_pred = classifier.predict(X_test)"
   ]
  },
  {
   "cell_type": "code",
   "execution_count": 52,
   "metadata": {},
   "outputs": [
    {
     "data": {
      "text/html": [
       "<div>\n",
       "<style scoped>\n",
       "    .dataframe tbody tr th:only-of-type {\n",
       "        vertical-align: middle;\n",
       "    }\n",
       "\n",
       "    .dataframe tbody tr th {\n",
       "        vertical-align: top;\n",
       "    }\n",
       "\n",
       "    .dataframe thead th {\n",
       "        text-align: right;\n",
       "    }\n",
       "</style>\n",
       "<table border=\"1\" class=\"dataframe\">\n",
       "  <thead>\n",
       "    <tr style=\"text-align: right;\">\n",
       "      <th>Predicted Group</th>\n",
       "      <th>0</th>\n",
       "      <th>1</th>\n",
       "      <th>2</th>\n",
       "      <th>3</th>\n",
       "      <th>4</th>\n",
       "    </tr>\n",
       "    <tr>\n",
       "      <th>Actual Group</th>\n",
       "      <th></th>\n",
       "      <th></th>\n",
       "      <th></th>\n",
       "      <th></th>\n",
       "      <th></th>\n",
       "    </tr>\n",
       "  </thead>\n",
       "  <tbody>\n",
       "    <tr>\n",
       "      <th>0</th>\n",
       "      <td>9</td>\n",
       "      <td>0</td>\n",
       "      <td>0</td>\n",
       "      <td>0</td>\n",
       "      <td>0</td>\n",
       "    </tr>\n",
       "    <tr>\n",
       "      <th>1</th>\n",
       "      <td>0</td>\n",
       "      <td>9</td>\n",
       "      <td>0</td>\n",
       "      <td>1</td>\n",
       "      <td>0</td>\n",
       "    </tr>\n",
       "    <tr>\n",
       "      <th>2</th>\n",
       "      <td>0</td>\n",
       "      <td>1</td>\n",
       "      <td>8</td>\n",
       "      <td>0</td>\n",
       "      <td>0</td>\n",
       "    </tr>\n",
       "    <tr>\n",
       "      <th>3</th>\n",
       "      <td>0</td>\n",
       "      <td>0</td>\n",
       "      <td>0</td>\n",
       "      <td>7</td>\n",
       "      <td>2</td>\n",
       "    </tr>\n",
       "    <tr>\n",
       "      <th>4</th>\n",
       "      <td>0</td>\n",
       "      <td>1</td>\n",
       "      <td>0</td>\n",
       "      <td>4</td>\n",
       "      <td>5</td>\n",
       "    </tr>\n",
       "  </tbody>\n",
       "</table>\n",
       "</div>"
      ],
      "text/plain": [
       "Predicted Group  0  1  2  3  4\n",
       "Actual Group                  \n",
       "0                9  0  0  0  0\n",
       "1                0  9  0  1  0\n",
       "2                0  1  8  0  0\n",
       "3                0  0  0  7  2\n",
       "4                0  1  0  4  5"
      ]
     },
     "execution_count": 52,
     "metadata": {},
     "output_type": "execute_result"
    }
   ],
   "source": [
    "(pd.crosstab(y_test, y_pred, rownames=['Actual Group'], colnames=['Predicted Group']))"
   ]
  },
  {
   "cell_type": "code",
   "execution_count": 53,
   "metadata": {
    "scrolled": true
   },
   "outputs": [
    {
     "data": {
      "text/plain": [
       "array([1.        , 0.85714286, 0.94117647, 0.66666667, 0.58823529])"
      ]
     },
     "execution_count": 53,
     "metadata": {},
     "output_type": "execute_result"
    }
   ],
   "source": [
    "f1_score(y_test, y_pred, average=None)"
   ]
  },
  {
   "cell_type": "code",
   "execution_count": 54,
   "metadata": {},
   "outputs": [
    {
     "data": {
      "text/plain": [
       "0.8085106382978723"
      ]
     },
     "execution_count": 54,
     "metadata": {},
     "output_type": "execute_result"
    }
   ],
   "source": [
    "accuracy_score(y_test, y_pred)"
   ]
  },
  {
   "cell_type": "code",
   "execution_count": 55,
   "metadata": {
    "scrolled": true
   },
   "outputs": [
    {
     "data": {
      "text/plain": [
       "array([0.55      , 0.8       , 0.9       , 0.9       , 0.75      ,\n",
       "       0.85      , 0.95      , 1.        , 0.93333333, 0.46666667])"
      ]
     },
     "execution_count": 55,
     "metadata": {},
     "output_type": "execute_result"
    }
   ],
   "source": [
    "from sklearn.model_selection import cross_val_score\n",
    "cross_val_score(classifier,X,y,cv=10)"
   ]
  },
  {
   "cell_type": "markdown",
   "metadata": {},
   "source": [
    "## feature selection & tuning"
   ]
  },
  {
   "cell_type": "code",
   "execution_count": 27,
   "metadata": {},
   "outputs": [
    {
     "data": {
      "text/plain": [
       "<matplotlib.axes._subplots.AxesSubplot at 0x1b65601fc50>"
      ]
     },
     "execution_count": 27,
     "metadata": {},
     "output_type": "execute_result"
    },
    {
     "data": {
      "image/png": "[encoded data removed]",
      "text/plain": [
       "<Figure size 720x432 with 2 Axes>"
      ]
     },
     "metadata": {},
     "output_type": "display_data"
    }
   ],
   "source": [
    "plt.figure(figsize=(10,6))\n",
    "sns.heatmap(training.corr())"
   ]
  },
  {
   "cell_type": "code",
   "execution_count": 28,
   "metadata": {},
   "outputs": [
    {
     "name": "stdout",
     "output_type": "stream",
     "text": [
      "dwl_peak_prom :  0.1633486136407091\n",
      "dwl_bytes_avg :  0.125892466835434\n",
      "upl_peak_prom :  0.09581236179781737\n",
      "upl_max_psd :  0.09048817017375396\n",
      "dwl_max_psd :  0.08742266790447165\n",
      "dwl_bytes_std :  0.0865873828930258\n",
      "dwl_time_peak :  0.08533004562535883\n",
      "upl_bytes_std :  0.05768418564233141\n",
      "upl_bytes_avg :  0.05742131582972328\n",
      "dwl_num_peak :  0.05446492956568444\n",
      "dwl_peak_avg :  0.02737074445752213\n",
      "dwl_peak_std :  0.01787582007942848\n",
      "upl_peak_avg :  0.01651079711302995\n",
      "upl_peak_std :  0.013664769345696284\n",
      "upl_peak_freq :  0.011584145248076933\n",
      "dwl_peak_freq :  0.008541583847936402\n"
     ]
    }
   ],
   "source": [
    "features = training.columns\n",
    "importances = classifier.feature_importances_\n",
    "indices = np.argsort(importances)[::-1]\n",
    "for i in indices:\n",
    "    print(features[i],': ',importances[i])"
   ]
  },
  {
   "cell_type": "code",
   "execution_count": 29,
   "metadata": {},
   "outputs": [],
   "source": [
    "corr=training.corr()\n",
    "\n",
    "columns = np.full((corr.shape[0],), True, dtype=bool)\n",
    "for i in range(corr.shape[0]):\n",
    "    for j in range(i+1, corr.shape[0]):\n",
    "        if corr.iloc[i,j] >= 0.9:\n",
    "            if columns[j]:\n",
    "                columns[j] = False\n",
    "selected_columns = training.columns[columns]\n",
    "#training = training[selected_columns]"
   ]
  },
  {
   "cell_type": "code",
   "execution_count": 30,
   "metadata": {},
   "outputs": [
    {
     "data": {
      "text/plain": [
       "resolution       1.000000\n",
       "dwl_bytes_std    0.864321\n",
       "dwl_peak_prom    0.856581\n",
       "dwl_max_psd      0.845785\n",
       "upl_peak_prom    0.836102\n",
       "upl_max_psd      0.831667\n",
       "dwl_bytes_avg    0.817893\n",
       "dwl_num_peak     0.785972\n",
       "upl_bytes_std    0.750479\n",
       "upl_bytes_avg    0.727499\n",
       "dwl_peak_std     0.665882\n",
       "upl_peak_std     0.628925\n",
       "dwl_peak_avg     0.529568\n",
       "upl_peak_avg     0.473178\n",
       "upl_peak_freq    0.117902\n",
       "dwl_peak_freq    0.041487\n",
       "dwl_time_peak    0.009630\n",
       "Name: resolution, dtype: float64"
      ]
     },
     "execution_count": 30,
     "metadata": {},
     "output_type": "execute_result"
    }
   ],
   "source": [
    "np.abs(training.corr()['resolution']).sort_values(ascending=False)"
   ]
  },
  {
   "cell_type": "code",
   "execution_count": null,
   "metadata": {},
   "outputs": [],
   "source": []
  },
  {
   "cell_type": "code",
   "execution_count": null,
   "metadata": {},
   "outputs": [],
   "source": []
  },
  {
   "cell_type": "code",
   "execution_count": null,
   "metadata": {
    "scrolled": false
   },
   "outputs": [],
   "source": [
    "features = ['dwl_peak_freq','dwl_peak_prom','dwl_max_psd','dwl_bytes_avg','dwl_bytes_std','dwl_peak_avg',\n",
    "            'dwl_peak_std','upl_peak_freq','upl_peak_prom','upl_max_psd','upl_bytes_avg','upl_bytes_std',\n",
    "            'upl_peak_avg','upl_peak_std','dwl_time_peak','dwl_num_peak']\n",
    "importances = classifier.feature_importances_\n",
    "indices = np.argsort(importances)[::-1]\n",
    "for i in indices:\n",
    "    print(features[i],': ',importances[i])\n",
    "    "
   ]
  },
  {
   "cell_type": "code",
   "execution_count": null,
   "metadata": {},
   "outputs": [],
   "source": []
  },
  {
   "cell_type": "markdown",
   "metadata": {},
   "source": [
    "## Reduced feature model"
   ]
  },
  {
   "cell_type": "code",
   "execution_count": 34,
   "metadata": {},
   "outputs": [],
   "source": [
    "reduce_feats = training[selected_columns]"
   ]
  },
  {
   "cell_type": "code",
   "execution_count": 35,
   "metadata": {},
   "outputs": [
    {
     "data": {
      "text/plain": [
       "RandomForestClassifier(bootstrap=True, class_weight=None, criterion='entropy',\n",
       "                       max_depth=None, max_features='auto', max_leaf_nodes=None,\n",
       "                       min_impurity_decrease=0.0, min_impurity_split=None,\n",
       "                       min_samples_leaf=1, min_samples_split=2,\n",
       "                       min_weight_fraction_leaf=0.0, n_estimators=100,\n",
       "                       n_jobs=None, oob_score=False, random_state=42, verbose=0,\n",
       "                       warm_start=False)"
      ]
     },
     "execution_count": 35,
     "metadata": {},
     "output_type": "execute_result"
    }
   ],
   "source": [
    "X, y = reduce_feats.drop(columns=['resolution']), reduce_feats['resolution']\n",
    "X_train, X_test, y_train, y_test = train_test_split(X, y, test_size = 0.25, stratify=reduce_feats['resolution'], random_state = 4)\n",
    "\n",
    "classifier = RandomForestClassifier(n_estimators = 100, criterion = 'entropy', random_state = 42)\n",
    "#classifier = RandomForestClassifier(n_estimators = 100, criterion = 'gini', random_state = 42)\n",
    "classifier.fit(X_train, y_train)"
   ]
  },
  {
   "cell_type": "code",
   "execution_count": 36,
   "metadata": {},
   "outputs": [
    {
     "data": {
      "text/html": [
       "<div>\n",
       "<style scoped>\n",
       "    .dataframe tbody tr th:only-of-type {\n",
       "        vertical-align: middle;\n",
       "    }\n",
       "\n",
       "    .dataframe tbody tr th {\n",
       "        vertical-align: top;\n",
       "    }\n",
       "\n",
       "    .dataframe thead th {\n",
       "        text-align: right;\n",
       "    }\n",
       "</style>\n",
       "<table border=\"1\" class=\"dataframe\">\n",
       "  <thead>\n",
       "    <tr style=\"text-align: right;\">\n",
       "      <th>Predicted Group</th>\n",
       "      <th>0</th>\n",
       "      <th>1</th>\n",
       "      <th>2</th>\n",
       "      <th>3</th>\n",
       "      <th>4</th>\n",
       "    </tr>\n",
       "    <tr>\n",
       "      <th>Actual Group</th>\n",
       "      <th></th>\n",
       "      <th></th>\n",
       "      <th></th>\n",
       "      <th></th>\n",
       "      <th></th>\n",
       "    </tr>\n",
       "  </thead>\n",
       "  <tbody>\n",
       "    <tr>\n",
       "      <th>0</th>\n",
       "      <td>9</td>\n",
       "      <td>0</td>\n",
       "      <td>0</td>\n",
       "      <td>0</td>\n",
       "      <td>0</td>\n",
       "    </tr>\n",
       "    <tr>\n",
       "      <th>1</th>\n",
       "      <td>0</td>\n",
       "      <td>7</td>\n",
       "      <td>1</td>\n",
       "      <td>2</td>\n",
       "      <td>0</td>\n",
       "    </tr>\n",
       "    <tr>\n",
       "      <th>2</th>\n",
       "      <td>0</td>\n",
       "      <td>1</td>\n",
       "      <td>8</td>\n",
       "      <td>0</td>\n",
       "      <td>0</td>\n",
       "    </tr>\n",
       "    <tr>\n",
       "      <th>3</th>\n",
       "      <td>0</td>\n",
       "      <td>0</td>\n",
       "      <td>0</td>\n",
       "      <td>7</td>\n",
       "      <td>2</td>\n",
       "    </tr>\n",
       "    <tr>\n",
       "      <th>4</th>\n",
       "      <td>0</td>\n",
       "      <td>0</td>\n",
       "      <td>1</td>\n",
       "      <td>1</td>\n",
       "      <td>8</td>\n",
       "    </tr>\n",
       "  </tbody>\n",
       "</table>\n",
       "</div>"
      ],
      "text/plain": [
       "Predicted Group  0  1  2  3  4\n",
       "Actual Group                  \n",
       "0                9  0  0  0  0\n",
       "1                0  7  1  2  0\n",
       "2                0  1  8  0  0\n",
       "3                0  0  0  7  2\n",
       "4                0  0  1  1  8"
      ]
     },
     "execution_count": 36,
     "metadata": {},
     "output_type": "execute_result"
    }
   ],
   "source": [
    "\n",
    "y_pred = classifier.predict(X_test)\n",
    "(pd.crosstab(y_test, y_pred, rownames=['Actual Group'], colnames=['Predicted Group']))"
   ]
  },
  {
   "cell_type": "code",
   "execution_count": 37,
   "metadata": {},
   "outputs": [
    {
     "data": {
      "text/plain": [
       "array([1.        , 0.77777778, 0.84210526, 0.73684211, 0.8       ])"
      ]
     },
     "execution_count": 37,
     "metadata": {},
     "output_type": "execute_result"
    }
   ],
   "source": [
    "f1_score(y_test, y_pred, average=None)"
   ]
  },
  {
   "cell_type": "code",
   "execution_count": 38,
   "metadata": {},
   "outputs": [
    {
     "data": {
      "text/plain": [
       "0.8297872340425532"
      ]
     },
     "execution_count": 38,
     "metadata": {},
     "output_type": "execute_result"
    }
   ],
   "source": [
    "accuracy_score(y_test, y_pred)"
   ]
  },
  {
   "cell_type": "code",
   "execution_count": null,
   "metadata": {},
   "outputs": [],
   "source": []
  },
  {
   "cell_type": "code",
   "execution_count": null,
   "metadata": {},
   "outputs": [],
   "source": []
  },
  {
   "cell_type": "markdown",
   "metadata": {},
   "source": [
    "## test data"
   ]
  },
  {
   "cell_type": "code",
   "execution_count": 39,
   "metadata": {},
   "outputs": [],
   "source": [
    "test_fp = '../data/test_data/'"
   ]
  },
  {
   "cell_type": "code",
   "execution_count": 40,
   "metadata": {
    "scrolled": true
   },
   "outputs": [
    {
     "name": "stdout",
     "output_type": "stream",
     "text": [
      "Wall time: 29.5 s\n"
     ]
    }
   ],
   "source": [
    "%%time\n",
    "test_feats_0 = create_features([pd.read_csv(test_fp+'sgs008-109-action-240p-20210202.csv')], 120)\n",
    "test_feats_1 = create_features([pd.read_csv(test_fp+'sgs008-109-action-360p-20210213.csv')], 120)\n",
    "test_feats_2 = create_features([pd.read_csv(test_fp+'sgs008-109-action-480p-20210202.csv')], 120)\n",
    "test_feats_3 = create_features([pd.read_csv(test_fp+'sgs008-109-action-720p-20210213.csv')], 120)\n",
    "test_feats_4 = create_features([pd.read_csv(test_fp+'sgs008-109-action-1080p-20210202.csv')], 120)\n",
    "\n",
    "# y_pred = classifier.predict(test_low)\n",
    "# y_pred"
   ]
  },
  {
   "cell_type": "code",
   "execution_count": 56,
   "metadata": {},
   "outputs": [],
   "source": [
    "test_feats_0['resolution'] = 0\n",
    "test_feats_1['resolution'] = 1\n",
    "test_feats_2['resolution'] = 2\n",
    "test_feats_3['resolution'] = 3\n",
    "test_feats_4['resolution'] = 4\n",
    "\n",
    "test = pd.concat([test_feats_0,test_feats_1,test_feats_2,test_feats_3,test_feats_4]).reset_index(drop=True)\n",
    "#test=test[selected_columns]"
   ]
  },
  {
   "cell_type": "code",
   "execution_count": 57,
   "metadata": {},
   "outputs": [
    {
     "data": {
      "text/plain": [
       "RandomForestClassifier(bootstrap=True, class_weight=None, criterion='entropy',\n",
       "                       max_depth=None, max_features='auto', max_leaf_nodes=None,\n",
       "                       min_impurity_decrease=0.0, min_impurity_split=None,\n",
       "                       min_samples_leaf=1, min_samples_split=2,\n",
       "                       min_weight_fraction_leaf=0.0, n_estimators=100,\n",
       "                       n_jobs=None, oob_score=False, random_state=42, verbose=0,\n",
       "                       warm_start=False)"
      ]
     },
     "execution_count": 57,
     "metadata": {},
     "output_type": "execute_result"
    }
   ],
   "source": [
    "classifier.fit(X,y)"
   ]
  },
  {
   "cell_type": "code",
   "execution_count": 58,
   "metadata": {},
   "outputs": [],
   "source": [
    "test_feat, test_actual = test.drop(columns=['resolution']), test['resolution']"
   ]
  },
  {
   "cell_type": "code",
   "execution_count": null,
   "metadata": {},
   "outputs": [],
   "source": []
  },
  {
   "cell_type": "code",
   "execution_count": 59,
   "metadata": {},
   "outputs": [],
   "source": [
    "test_pred = classifier.predict(test_feat)"
   ]
  },
  {
   "cell_type": "code",
   "execution_count": 60,
   "metadata": {},
   "outputs": [
    {
     "data": {
      "text/html": [
       "<div>\n",
       "<style scoped>\n",
       "    .dataframe tbody tr th:only-of-type {\n",
       "        vertical-align: middle;\n",
       "    }\n",
       "\n",
       "    .dataframe tbody tr th {\n",
       "        vertical-align: top;\n",
       "    }\n",
       "\n",
       "    .dataframe thead th {\n",
       "        text-align: right;\n",
       "    }\n",
       "</style>\n",
       "<table border=\"1\" class=\"dataframe\">\n",
       "  <thead>\n",
       "    <tr style=\"text-align: right;\">\n",
       "      <th>Predicted Group</th>\n",
       "      <th>0</th>\n",
       "      <th>1</th>\n",
       "      <th>2</th>\n",
       "      <th>3</th>\n",
       "      <th>4</th>\n",
       "    </tr>\n",
       "    <tr>\n",
       "      <th>Actual Group</th>\n",
       "      <th></th>\n",
       "      <th></th>\n",
       "      <th></th>\n",
       "      <th></th>\n",
       "      <th></th>\n",
       "    </tr>\n",
       "  </thead>\n",
       "  <tbody>\n",
       "    <tr>\n",
       "      <th>0</th>\n",
       "      <td>15</td>\n",
       "      <td>1</td>\n",
       "      <td>0</td>\n",
       "      <td>0</td>\n",
       "      <td>0</td>\n",
       "    </tr>\n",
       "    <tr>\n",
       "      <th>1</th>\n",
       "      <td>0</td>\n",
       "      <td>14</td>\n",
       "      <td>1</td>\n",
       "      <td>0</td>\n",
       "      <td>0</td>\n",
       "    </tr>\n",
       "    <tr>\n",
       "      <th>2</th>\n",
       "      <td>0</td>\n",
       "      <td>1</td>\n",
       "      <td>13</td>\n",
       "      <td>1</td>\n",
       "      <td>0</td>\n",
       "    </tr>\n",
       "    <tr>\n",
       "      <th>3</th>\n",
       "      <td>0</td>\n",
       "      <td>0</td>\n",
       "      <td>0</td>\n",
       "      <td>5</td>\n",
       "      <td>10</td>\n",
       "    </tr>\n",
       "    <tr>\n",
       "      <th>4</th>\n",
       "      <td>1</td>\n",
       "      <td>0</td>\n",
       "      <td>0</td>\n",
       "      <td>1</td>\n",
       "      <td>13</td>\n",
       "    </tr>\n",
       "  </tbody>\n",
       "</table>\n",
       "</div>"
      ],
      "text/plain": [
       "Predicted Group   0   1   2  3   4\n",
       "Actual Group                      \n",
       "0                15   1   0  0   0\n",
       "1                 0  14   1  0   0\n",
       "2                 0   1  13  1   0\n",
       "3                 0   0   0  5  10\n",
       "4                 1   0   0  1  13"
      ]
     },
     "execution_count": 60,
     "metadata": {},
     "output_type": "execute_result"
    }
   ],
   "source": [
    "(pd.crosstab(test_actual, test_pred, rownames=['Actual Group'], colnames=['Predicted Group']))"
   ]
  },
  {
   "cell_type": "code",
   "execution_count": 61,
   "metadata": {
    "scrolled": true
   },
   "outputs": [
    {
     "data": {
      "text/plain": [
       "array([0.9375    , 0.90322581, 0.89655172, 0.45454545, 0.68421053])"
      ]
     },
     "execution_count": 61,
     "metadata": {},
     "output_type": "execute_result"
    }
   ],
   "source": [
    "f1_score(test_actual, test_pred, average=None)"
   ]
  },
  {
   "cell_type": "code",
   "execution_count": 62,
   "metadata": {
    "scrolled": true
   },
   "outputs": [
    {
     "data": {
      "text/plain": [
       "0.7894736842105263"
      ]
     },
     "execution_count": 62,
     "metadata": {},
     "output_type": "execute_result"
    }
   ],
   "source": [
    "accuracy_score(test_actual, test_pred)"
   ]
  },
  {
   "cell_type": "code",
   "execution_count": null,
   "metadata": {},
   "outputs": [],
   "source": [
    "seven_two_test = pd.read_csv(test_fp+'sgs008-109-action-720p-20210213.csv')\n",
    "ten_eight_test = pd.read_csv(test_fp+'sgs008-109-action-1080p-20210202.csv')"
   ]
  },
  {
   "cell_type": "code",
   "execution_count": null,
   "metadata": {},
   "outputs": [],
   "source": [
    "y_720 = seven_two_test.groupby('Time')['2->1Bytes'].sum() * (1/125000)\n",
    "y_1080 = ten_eight_test.groupby('Time')['2->1Bytes'].sum() * (1/125000)"
   ]
  },
  {
   "cell_type": "code",
   "execution_count": null,
   "metadata": {
    "scrolled": false
   },
   "outputs": [],
   "source": [
    "sns.set_style('whitegrid')\n",
    "colors = sns.color_palette()\n",
    "plt.figure(figsize=(18,6))\n",
    "\n",
    "fig, axes = plt.subplots(2, 1, figsize=(24, 12), sharex=True, sharey=True)\n",
    "\n",
    "sns.lineplot(y=y_720, x=np.arange(len(y_720)), ax=axes[0], label='720p', color=colors[0])\n",
    "axes[0].set_title(\"Andrew - 720p (Action)\", fontsize=16)\n",
    "\n",
    "sns.lineplot(y=y_1080, x=np.arange(len(y_1080)), ax=axes[1], label='1080p', color=colors[1])\n",
    "axes[1].set_title(\"Andrew - 1080p (Action)\", fontsize=16)\n",
    "\n",
    "plt.suptitle(\"Investigating Failed Cases\", fontsize=24)\n",
    "for ax in axes.flat:\n",
    "    ax.set_xlabel(\"Seconds (from start)\", fontsize=24)\n",
    "    ax.set_ylabel(\"Mbps\", fontsize=24)\n",
    "    ax.label_outer()\n",
    "\n",
    "fig.show();"
   ]
  },
  {
   "cell_type": "code",
   "execution_count": null,
   "metadata": {},
   "outputs": [],
   "source": [
    "preproc_720 = seven_two_test.copy()\n",
    "preproc_720['resolution'] = '720p'\n",
    "\n",
    "preproc_1080 = ten_eight_test.copy()\n",
    "preproc_1080['resolution'] = '1080p'\n",
    "\n",
    "peaks_720 = preprocess_data_peaks([preproc_720], '2->1Bytes')\n",
    "peaks_1080 = preprocess_data_peaks([preproc_1080], '2->1Bytes')\n",
    "\n",
    "combined = pd.concat((peaks_720, peaks_1080))"
   ]
  },
  {
   "cell_type": "code",
   "execution_count": null,
   "metadata": {},
   "outputs": [],
   "source": [
    "plt.figure(figsize=(8, 8))\n",
    "sns.boxplot(data=combined, x=\"resolution\", y=\"Mbps\", linewidth=2)\n",
    "plt.suptitle(\"Peaks - 720p v 1080p\", fontsize=24)"
   ]
  },
  {
   "cell_type": "code",
   "execution_count": null,
   "metadata": {},
   "outputs": [],
   "source": []
  }
 ],
 "metadata": {
  "kernelspec": {
   "display_name": "Python 3",
   "language": "python",
   "name": "python3"
  },
  "language_info": {
   "codemirror_mode": {
    "name": "ipython",
    "version": 3
   },
   "file_extension": ".py",
   "mimetype": "text/x-python",
   "name": "python",
   "nbconvert_exporter": "python",
   "pygments_lexer": "ipython3",
   "version": "3.7.4"
  }
 },
 "nbformat": 4,
 "nbformat_minor": 2
}
