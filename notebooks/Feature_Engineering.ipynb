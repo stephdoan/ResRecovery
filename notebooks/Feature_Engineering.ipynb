{
 "cells": [
  {
   "cell_type": "code",
   "execution_count": 85,
   "metadata": {},
   "outputs": [],
   "source": [
    "import os\n",
    "import sys\n",
    "\n",
    "import numpy as np\n",
    "import pandas as pd\n",
    "import scipy as sp\n",
    "from scipy import signal\n",
    "\n",
    "import matplotlib.pyplot as plt\n",
    "import seaborn as sns\n",
    "\n",
    "import warnings\n",
    "warnings.filterwarnings('ignore')\n",
    "\n",
    "%matplotlib inline"
   ]
  },
  {
   "cell_type": "code",
   "execution_count": 86,
   "metadata": {},
   "outputs": [],
   "source": [
    "sys.path.insert(0, '../src')\n",
    "\n",
    "from utils import *"
   ]
  },
  {
   "cell_type": "code",
   "execution_count": 87,
   "metadata": {},
   "outputs": [],
   "source": [
    "sns.set(rc={'figure.figsize':(20,5)})"
   ]
  },
  {
   "cell_type": "code",
   "execution_count": 89,
   "metadata": {},
   "outputs": [
    {
     "name": "stdout",
     "output_type": "stream",
     "text": [
      "Wall time: 11.2 s\n"
     ]
    }
   ],
   "source": [
    "%%time\n",
    "mbit_rate = 1/125000\n",
    "\n",
    "two_four_fp = '../data/240p/'\n",
    "three_six_fp = '../data/360p/'\n",
    "four_eight_fp = '../data/480p/'\n",
    "seven_two_fp = '../data/720p/'\n",
    "ten_eight_fp = '../data/1080p/'\n",
    "\n",
    "two_four_dir = os.listdir(two_four_fp)\n",
    "three_six_dir = os.listdir(three_six_fp)\n",
    "four_eight_dir = os.listdir(four_eight_fp)\n",
    "seven_two_dir = os.listdir(seven_two_fp)\n",
    "ten_eight_dir = os.listdir(ten_eight_fp)\n",
    "\n",
    "df_240_lst = [add_resolution(two_four_fp + fp, '240p') for fp in two_four_dir]\n",
    "df_360_lst = [add_resolution(three_six_fp + fp, '360p') for fp in three_six_dir]\n",
    "df_480_lst = [add_resolution(four_eight_fp + fp, '480p') for fp in four_eight_dir]\n",
    "df_720_lst = [add_resolution(seven_two_fp + fp, '720p') for fp in seven_two_dir]\n",
    "df_1080_lst = [add_resolution(ten_eight_fp + fp, '1080p') for fp in ten_eight_dir]\n",
    "\n",
    "chunk_240_lst = sum([chunk_data(df) for df in df_240_lst], [])\n",
    "chunk_360_lst = sum([chunk_data(df) for df in df_360_lst], [])\n",
    "chunk_480_lst = sum([chunk_data(df) for df in df_480_lst], [])\n",
    "chunk_720_lst = sum([chunk_data(df) for df in df_720_lst], [])\n",
    "chunk_1080_lst = sum([chunk_data(df) for df in df_1080_lst], [])"
   ]
  },
  {
   "cell_type": "markdown",
   "metadata": {},
   "source": [
    "## Aggregate Features\n",
    "In our EDA, we saw significant differences in aggregate statistics such as the mean and standard deviation. We reconfirm this by taking our chunked data and performing said operations. There seems to be alot of potential colinearity between the bytes and packet stream statistics (strong positive correlation). In our model, we chose to take the aggregate features of just the download stream of bytes. "
   ]
  },
  {
   "cell_type": "code",
   "execution_count": 90,
   "metadata": {},
   "outputs": [],
   "source": [
    "def mean_features_all(df_lst):\n",
    "  mean_feat = [[\n",
    "    np.mean(df['2->1Bytes']) * mbit_rate,\n",
    "    np.mean(df['2->1Pkts']),\n",
    "    np.mean(df['1->2Bytes']) * mbit_rate,\n",
    "    np.mean(df['1->2Pkts'])  \n",
    "  ] for df in df_lst]\n",
    "  return np.array(mean_feat)"
   ]
  },
  {
   "cell_type": "code",
   "execution_count": 91,
   "metadata": {
    "scrolled": true
   },
   "outputs": [
    {
     "data": {
      "text/plain": [
       "array([3.89825950e-01, 3.80672074e+01, 2.78733625e-02, 2.39078095e+01])"
      ]
     },
     "execution_count": 91,
     "metadata": {},
     "output_type": "execute_result"
    }
   ],
   "source": [
    "np.mean(mean_features_all(chunk_240_lst), axis=0)"
   ]
  },
  {
   "cell_type": "code",
   "execution_count": 92,
   "metadata": {},
   "outputs": [
    {
     "data": {
      "text/plain": [
       "array([5.52362413e-01, 5.28773315e+01, 3.28095506e-02, 2.83976855e+01])"
      ]
     },
     "execution_count": 92,
     "metadata": {},
     "output_type": "execute_result"
    }
   ],
   "source": [
    "np.mean(mean_features_all(chunk_360_lst), axis=0)"
   ]
  },
  {
   "cell_type": "code",
   "execution_count": 93,
   "metadata": {},
   "outputs": [
    {
     "data": {
      "text/plain": [
       "array([8.74153650e-01, 8.33877439e+01, 5.12219783e-02, 4.42265797e+01])"
      ]
     },
     "execution_count": 93,
     "metadata": {},
     "output_type": "execute_result"
    }
   ],
   "source": [
    "np.mean(mean_features_all(chunk_480_lst), axis=0)"
   ]
  },
  {
   "cell_type": "code",
   "execution_count": 94,
   "metadata": {},
   "outputs": [
    {
     "data": {
      "text/plain": [
       "array([1.83271415e+00, 1.71450548e+02, 9.99664892e-02, 8.77898717e+01])"
      ]
     },
     "execution_count": 94,
     "metadata": {},
     "output_type": "execute_result"
    }
   ],
   "source": [
    "np.mean(mean_features_all(chunk_720_lst), axis=0)"
   ]
  },
  {
   "cell_type": "code",
   "execution_count": 95,
   "metadata": {},
   "outputs": [
    {
     "data": {
      "text/plain": [
       "array([2.58974997e+00, 2.45753783e+02, 1.40303620e-01, 1.21813593e+02])"
      ]
     },
     "execution_count": 95,
     "metadata": {},
     "output_type": "execute_result"
    }
   ],
   "source": [
    "np.mean(mean_features_all(chunk_1080_lst), axis=0)"
   ]
  },
  {
   "cell_type": "code",
   "execution_count": null,
   "metadata": {},
   "outputs": [],
   "source": []
  },
  {
   "cell_type": "code",
   "execution_count": null,
   "metadata": {},
   "outputs": [],
   "source": []
  },
  {
   "cell_type": "markdown",
   "metadata": {},
   "source": [
    "## Peak Related Aggregate Features\n",
    "Peaks were a strong point of focus in our EDA as there are potential features to be extracted. The term \"peak\" is a bit of a misnomer - a \"peak\" is simply a large data transaction between the 2 IP addresses at a single second. The term large is relative to the scale of internet activity. We experimented with both a relative threshold and a hard threshold to decide what was a peak. We found that using relative threshold did well to preserve much of the data behavior but it did not show us clear distinction between lower resolutions (240p, 360p, 480p). We were wary of using a hard threshold as network conditions can vary from user to user. For example, if a user has a max bandwidth less than our preset threshold, nothing would be considered a peak and the resulting features would not capture any aspect of the data. \n",
    "\n",
    "Knowing how many spikes is very useful but also knowing the time delay between each spikes is useful. We will also apply a signal processing technique of evenly spacing out spikes and then taking the time delay between them. We also experiement with a hard threshold of 5 Mbps as a peak. We realize that this will not be applicable to a wide variety of other users as people's internet speed can wildly vary."
   ]
  },
  {
   "cell_type": "code",
   "execution_count": 310,
   "metadata": {},
   "outputs": [],
   "source": [
    "def get_peak_loc(df, col, invert=False):\n",
    "  'invert arg allows you to get values not considered peaks'\n",
    "  df_avg = df[col].mean()\n",
    "  df_std = df[col].std()\n",
    "  \n",
    "  threshold = df_avg + (.5 * df_std)\n",
    "  if invert:\n",
    "    return np.array(df[col] < threshold)\n",
    "  \n",
    "  else:\n",
    "    return np.array(df[col] > threshold)\n",
    "  \n",
    "def hard_threshold_peaks(df, col, thresh):\n",
    "    x = df[col]\n",
    "    peaks, _ = sp.signal.find_peaks(x, height=thresh)\n",
    "    return peaks\n",
    "  \n",
    "def peak_time_diff(df, col, threshold):\n",
    "  '''\n",
    "  mess around with the different inputs for function. \n",
    "  variance seems to inflate the difference betweent the two the most with litte\n",
    "  to no data manipulation. however, currently trying things like\n",
    "  squaring the data before taking the aggregate function to exaggerate\n",
    "  differences (moderate success??)\n",
    "  '''\n",
    "  \n",
    "  mbps_thresh = threshold * 125000\n",
    "  peaks = df[get_peak_loc(df, col)]\n",
    "  #peaks = df.iloc[hard_threshold_peaks(df, col, mbps_thresh)]\n",
    "  peaks['Time'] = peaks['Time'] - peaks['Time'].min()\n",
    "  time_diff = np.diff(peaks['Time'])\n",
    "  if len(peaks) <= 0:\n",
    "    return [-1, 0, -1]\n",
    "  \n",
    "  return [np.std(peaks)['2->1Bytes'] * mbit_rate, len(peaks), 120 / len(peaks)]"
   ]
  },
  {
   "cell_type": "code",
   "execution_count": 356,
   "metadata": {},
   "outputs": [],
   "source": [
    "test = get_peak_loc(df_360_lst[1], '2->1Bytes')"
   ]
  },
  {
   "cell_type": "code",
   "execution_count": 357,
   "metadata": {},
   "outputs": [],
   "source": [
    "evenly_spaced = np.linspace(0, len(df_360_lst[1]) - 1, len(df_360_lst[1][test]), dtype=int)\n",
    "zeroed = np.zeros(len(df_360_lst[1]) + 1)\n",
    "zeroed[evenly_spaced] = df_360_lst[1][test]['2->1Bytes'].values"
   ]
  },
  {
   "cell_type": "code",
   "execution_count": 379,
   "metadata": {},
   "outputs": [
    {
     "data": {
      "text/plain": [
       "[<matplotlib.lines.Line2D at 0x2be52d9c470>]"
      ]
     },
     "execution_count": 379,
     "metadata": {},
     "output_type": "execute_result"
    },
    {
     "data": {
      "image/png": "[encoded data removed]",
      "text/plain": [
       "<Figure size 1440x360 with 1 Axes>"
      ]
     },
     "metadata": {},
     "output_type": "display_data"
    }
   ],
   "source": [
    "f, Pxx = sp.signal.welch(zeroed[:120], fs = .5)\n",
    "plt.plot(f, Pxx)"
   ]
  },
  {
   "cell_type": "code",
   "execution_count": null,
   "metadata": {},
   "outputs": [],
   "source": []
  },
  {
   "cell_type": "code",
   "execution_count": null,
   "metadata": {},
   "outputs": [],
   "source": []
  },
  {
   "cell_type": "code",
   "execution_count": null,
   "metadata": {},
   "outputs": [],
   "source": []
  },
  {
   "cell_type": "code",
   "execution_count": 311,
   "metadata": {},
   "outputs": [
    {
     "name": "stdout",
     "output_type": "stream",
     "text": [
      "Wall time: 3.14 s\n"
     ]
    }
   ],
   "source": [
    "%%time\n",
    "mbps = 5\n",
    "peaks_240 = [peak_time_diff(df, '2->1Bytes', mbps) for df in chunk_240_lst]\n",
    "peaks_360 = [peak_time_diff(df, '2->1Bytes', mbps) for df in chunk_360_lst]\n",
    "peaks_480 = [peak_time_diff(df, '2->1Bytes', mbps) for df in chunk_480_lst]\n",
    "peaks_720 = [peak_time_diff(df, '2->1Bytes', mbps) for df in chunk_720_lst]\n",
    "peaks_1080 = [peak_time_diff(df, '2->1Bytes', mbps) for df in chunk_1080_lst]"
   ]
  },
  {
   "cell_type": "code",
   "execution_count": 312,
   "metadata": {},
   "outputs": [
    {
     "data": {
      "text/plain": [
       "array([ 1.92634416,  7.70547945, 17.93057994])"
      ]
     },
     "execution_count": 312,
     "metadata": {},
     "output_type": "execute_result"
    }
   ],
   "source": [
    "np.mean(peaks_240, axis=0)"
   ]
  },
  {
   "cell_type": "code",
   "execution_count": 313,
   "metadata": {},
   "outputs": [
    {
     "data": {
      "text/plain": [
       "array([ 3.90822763,  7.54421769, 19.37638397])"
      ]
     },
     "execution_count": 313,
     "metadata": {},
     "output_type": "execute_result"
    }
   ],
   "source": [
    "np.mean(peaks_360, axis=0)"
   ]
  },
  {
   "cell_type": "code",
   "execution_count": 314,
   "metadata": {
    "scrolled": true
   },
   "outputs": [
    {
     "data": {
      "text/plain": [
       "array([ 4.51699202,  9.41496599, 15.3824159 ])"
      ]
     },
     "execution_count": 314,
     "metadata": {},
     "output_type": "execute_result"
    }
   ],
   "source": [
    "np.mean(peaks_480, axis=0)"
   ]
  },
  {
   "cell_type": "code",
   "execution_count": 315,
   "metadata": {
    "scrolled": true
   },
   "outputs": [
    {
     "data": {
      "text/plain": [
       "array([ 3.76547409, 13.42068966, 11.75154071])"
      ]
     },
     "execution_count": 315,
     "metadata": {},
     "output_type": "execute_result"
    }
   ],
   "source": [
    "np.mean(np.nan_to_num(peaks_720), axis=0)"
   ]
  },
  {
   "cell_type": "code",
   "execution_count": 316,
   "metadata": {},
   "outputs": [
    {
     "data": {
      "text/plain": [
       "array([ 4.00724229, 20.64383562,  7.33266208])"
      ]
     },
     "execution_count": 316,
     "metadata": {},
     "output_type": "execute_result"
    }
   ],
   "source": [
    "np.mean(peaks_1080, axis=0)"
   ]
  },
  {
   "cell_type": "markdown",
   "metadata": {},
   "source": [
    "## Spectral Features"
   ]
  },
  {
   "cell_type": "code",
   "execution_count": 103,
   "metadata": {},
   "outputs": [],
   "source": [
    "def explode_extended(df):\n",
    "    \"\"\"\n",
    "    takes in a network-stats df and explodes the extended columns.\n",
    "    time is converted from seconds to milliseconds.\n",
    "    drop the ip address columns and the aggregate columns.\n",
    "    \"\"\"\n",
    "    ext_col = ['packet_times', 'packet_sizes', 'packet_dirs']\n",
    "    \n",
    "    pre_explode = df[ext_col].apply(lambda x: x.str.split(';').str[:-1])\n",
    "    \n",
    "    exploded = pre_explode[ext_col].apply(lambda x: x.explode(ignore_index=True).astype(np.int64))\n",
    "    exploded.columns = ['Time', 'pkt_size', 'pkt_dir']\n",
    "\n",
    "    _sorted = exploded.sort_values('Time')\n",
    "    _sorted['Time'] = pd.to_datetime(_sorted['Time'], unit='ms')\n",
    "\n",
    "    return _sorted\n",
    "  \n",
    "def spectral_features(df, col):\n",
    "    \"\"\"\n",
    "    welch implemention of spectral features\n",
    "    resample the data before inputting (might change prereq depending on\n",
    "    resource allocation)\n",
    "    \"\"\"\n",
    "\n",
    "    f, Pxx_den = sp.signal.welch(df[col], fs=2)\n",
    "    Pxx_den = np.sqrt(Pxx_den)\n",
    "\n",
    "    peaks = sp.signal.find_peaks(Pxx_den)[0]\n",
    "    prominences = sp.signal.peak_prominences(Pxx_den, peaks)[0]\n",
    "\n",
    "    idx_max = prominences.argmax()\n",
    "    loc_max = peaks[idx_max]\n",
    "\n",
    "    return [f[loc_max], Pxx_den[loc_max], prominences[idx_max]]\n",
    "  \n",
    "def power_density(df, bins):\n",
    "  \n",
    "  f_temp, Pxx_temp = sp.signal.welch(df['pkt_size'], fs=.5) \n",
    "  Pxx_temp = np.sqrt(Pxx_temp)\n",
    "  freq = np.linspace(0, np.max(f_temp) + .01, num=bins) - .001\n",
    "  total = np.trapz(y=Pxx_temp, x=f_temp)\n",
    "  temp_lst = []\n",
    "  \n",
    "  for i in np.arange(len(freq) - 1):\n",
    "\n",
    "    f_lower = np.where(f_temp >= freq[i])\n",
    "    f_upper = np.where(f_temp < freq[i+1] )\n",
    "    selected_range = np.intersect1d(f_lower, f_upper)\n",
    "\n",
    "    pxx_den = np.trapz(y=Pxx_temp[selected_range], x=f_temp[selected_range]) / total\n",
    "    temp_lst.append(pxx_den)\n",
    "\n",
    "  return temp_lst\n",
    "\n",
    "def temp_name(df):\n",
    "  f_temp, Pxx_temp = sp.signal.welch(df['pkt_size'], fs=2) \n",
    "  return np.sum((Pxx_temp/np.sum(Pxx_temp)) * f_temp)"
   ]
  },
  {
   "cell_type": "code",
   "execution_count": 104,
   "metadata": {},
   "outputs": [
    {
     "name": "stdout",
     "output_type": "stream",
     "text": [
      "Wall time: 38 s\n"
     ]
    }
   ],
   "source": [
    "%%time\n",
    "size='500ms'\n",
    "resample_240 = [explode_extended(df).resample(size, on='Time').sum() for df in chunk_240_lst]\n",
    "resample_360 = [explode_extended(df).resample(size, on='Time').sum() for df in chunk_360_lst]\n",
    "resample_480 = [explode_extended(df).resample(size, on='Time').sum() for df in chunk_480_lst]\n",
    "resample_720 = [explode_extended(df).resample(size, on='Time').sum() for df in chunk_720_lst]\n",
    "resample_1080 = [explode_extended(df).resample(size, on='Time').sum() for df in chunk_1080_lst]"
   ]
  },
  {
   "cell_type": "code",
   "execution_count": 105,
   "metadata": {},
   "outputs": [
    {
     "name": "stdout",
     "output_type": "stream",
     "text": [
      "Wall time: 39 s\n"
     ]
    }
   ],
   "source": [
    "%%time\n",
    "size='2000ms'\n",
    "\n",
    "resample_240 = [explode_extended(df).resample(size, on='Time').sum() for df in chunk_240_lst]\n",
    "resample_360 = [explode_extended(df).resample(size, on='Time').sum() for df in chunk_360_lst]\n",
    "resample_480 = [explode_extended(df).resample(size, on='Time').sum() for df in chunk_480_lst]\n",
    "resample_720 = [explode_extended(df).resample(size, on='Time').sum() for df in chunk_720_lst]\n",
    "resample_1080 = [explode_extended(df).resample(size, on='Time').sum() for df in chunk_1080_lst]"
   ]
  },
  {
   "cell_type": "code",
   "execution_count": 260,
   "metadata": {},
   "outputs": [],
   "source": [
    "## area under the curve for a periodogram"
   ]
  },
  {
   "cell_type": "code",
   "execution_count": 164,
   "metadata": {},
   "outputs": [
    {
     "data": {
      "text/html": [
       "<div>\n",
       "<style scoped>\n",
       "    .dataframe tbody tr th:only-of-type {\n",
       "        vertical-align: middle;\n",
       "    }\n",
       "\n",
       "    .dataframe tbody tr th {\n",
       "        vertical-align: top;\n",
       "    }\n",
       "\n",
       "    .dataframe thead th {\n",
       "        text-align: right;\n",
       "    }\n",
       "</style>\n",
       "<table border=\"1\" class=\"dataframe\">\n",
       "  <thead>\n",
       "    <tr style=\"text-align: right;\">\n",
       "      <th></th>\n",
       "      <th>0</th>\n",
       "      <th>1</th>\n",
       "      <th>St_dev</th>\n",
       "    </tr>\n",
       "  </thead>\n",
       "  <tbody>\n",
       "    <tr>\n",
       "      <th>240p</th>\n",
       "      <td>0.480977</td>\n",
       "      <td>0.481742</td>\n",
       "      <td>0.041264</td>\n",
       "    </tr>\n",
       "    <tr>\n",
       "      <th>360p</th>\n",
       "      <td>0.488182</td>\n",
       "      <td>0.476091</td>\n",
       "      <td>0.035443</td>\n",
       "    </tr>\n",
       "    <tr>\n",
       "      <th>480p</th>\n",
       "      <td>0.483043</td>\n",
       "      <td>0.481190</td>\n",
       "      <td>0.041447</td>\n",
       "    </tr>\n",
       "    <tr>\n",
       "      <th>720p</th>\n",
       "      <td>0.450948</td>\n",
       "      <td>0.516071</td>\n",
       "      <td>0.057571</td>\n",
       "    </tr>\n",
       "    <tr>\n",
       "      <th>1080p</th>\n",
       "      <td>0.406425</td>\n",
       "      <td>0.558447</td>\n",
       "      <td>0.114911</td>\n",
       "    </tr>\n",
       "  </tbody>\n",
       "</table>\n",
       "</div>"
      ],
      "text/plain": [
       "              0         1    St_dev\n",
       "240p   0.480977  0.481742  0.041264\n",
       "360p   0.488182  0.476091  0.035443\n",
       "480p   0.483043  0.481190  0.041447\n",
       "720p   0.450948  0.516071  0.057571\n",
       "1080p  0.406425  0.558447  0.114911"
      ]
     },
     "execution_count": 164,
     "metadata": {},
     "output_type": "execute_result"
    }
   ],
   "source": [
    "bins = 3\n",
    "pxx_den_240 = [power_density(df, bins) for df in resample_240]\n",
    "pxx_den_360 = [power_density(df, bins) for df in resample_360]\n",
    "pxx_den_480 = [power_density(df, bins) for df in resample_480]\n",
    "pxx_den_720 = [power_density(df, bins) for df in resample_720]\n",
    "pxx_den_1080 = [power_density(df, bins) for df in resample_1080]\n",
    "\n",
    "pxx_den_df = pd.DataFrame({\n",
    "  \"240p\": np.mean(pxx_den_240, axis=0),\n",
    "  \"360p\": np.mean(pxx_den_360, axis=0),\n",
    "  \"480p\": np.mean(pxx_den_480, axis=0),\n",
    "  \"720p\": np.mean(pxx_den_720, axis=0),\n",
    "  \"1080p\": np.mean(pxx_den_1080, axis=0)\n",
    "}).T\n",
    "\n",
    "#pxx_den_df.columns = ['[-.001, .086)', '[.086, .172)', '[.172, .259)']\n",
    "pxx_den_df['St_dev'] = [\n",
    "  np.mean(np.std(pxx_den_240, axis=1)),\n",
    "  np.mean(np.std(pxx_den_360, axis=1)),\n",
    "  np.mean(np.std(pxx_den_480, axis=1)),\n",
    "  np.mean(np.std(pxx_den_720, axis=1)), \n",
    "  np.mean(np.std(pxx_den_1080, axis=1))]\n",
    "\n",
    "pxx_den_df"
   ]
  },
  {
   "cell_type": "code",
   "execution_count": 110,
   "metadata": {
    "scrolled": true
   },
   "outputs": [
    {
     "data": {
      "text/html": [
       "<div>\n",
       "<style scoped>\n",
       "    .dataframe tbody tr th:only-of-type {\n",
       "        vertical-align: middle;\n",
       "    }\n",
       "\n",
       "    .dataframe tbody tr th {\n",
       "        vertical-align: top;\n",
       "    }\n",
       "\n",
       "    .dataframe thead th {\n",
       "        text-align: right;\n",
       "    }\n",
       "</style>\n",
       "<table border=\"1\" class=\"dataframe\">\n",
       "  <thead>\n",
       "    <tr style=\"text-align: right;\">\n",
       "      <th></th>\n",
       "      <th>0</th>\n",
       "      <th>1</th>\n",
       "      <th>2</th>\n",
       "      <th>St_dev</th>\n",
       "    </tr>\n",
       "  </thead>\n",
       "  <tbody>\n",
       "    <tr>\n",
       "      <th>240p</th>\n",
       "      <td>0.299449</td>\n",
       "      <td>0.334615</td>\n",
       "      <td>0.296464</td>\n",
       "      <td>0.046590</td>\n",
       "    </tr>\n",
       "    <tr>\n",
       "      <th>360p</th>\n",
       "      <td>0.312517</td>\n",
       "      <td>0.320708</td>\n",
       "      <td>0.294801</td>\n",
       "      <td>0.038955</td>\n",
       "    </tr>\n",
       "    <tr>\n",
       "      <th>480p</th>\n",
       "      <td>0.300467</td>\n",
       "      <td>0.334170</td>\n",
       "      <td>0.292896</td>\n",
       "      <td>0.041988</td>\n",
       "    </tr>\n",
       "    <tr>\n",
       "      <th>720p</th>\n",
       "      <td>0.218569</td>\n",
       "      <td>0.364955</td>\n",
       "      <td>0.349525</td>\n",
       "      <td>0.088527</td>\n",
       "    </tr>\n",
       "    <tr>\n",
       "      <th>1080p</th>\n",
       "      <td>0.214826</td>\n",
       "      <td>0.338025</td>\n",
       "      <td>0.383048</td>\n",
       "      <td>0.111647</td>\n",
       "    </tr>\n",
       "  </tbody>\n",
       "</table>\n",
       "</div>"
      ],
      "text/plain": [
       "              0         1         2    St_dev\n",
       "240p   0.299449  0.334615  0.296464  0.046590\n",
       "360p   0.312517  0.320708  0.294801  0.038955\n",
       "480p   0.300467  0.334170  0.292896  0.041988\n",
       "720p   0.218569  0.364955  0.349525  0.088527\n",
       "1080p  0.214826  0.338025  0.383048  0.111647"
      ]
     },
     "execution_count": 110,
     "metadata": {},
     "output_type": "execute_result"
    }
   ],
   "source": [
    "bins = 4\n",
    "pxx_den_240 = [power_density(df, bins) for df in resample_240]\n",
    "pxx_den_360 = [power_density(df, bins) for df in resample_360]\n",
    "pxx_den_480 = [power_density(df, bins) for df in resample_480]\n",
    "pxx_den_720 = [power_density(df, bins) for df in resample_720]\n",
    "pxx_den_1080 = [power_density(df, bins) for df in resample_1080]\n",
    "\n",
    "pxx_den_df = pd.DataFrame({\n",
    "  \"240p\": np.mean(pxx_den_240, axis=0),\n",
    "  \"360p\": np.mean(pxx_den_360, axis=0),\n",
    "  \"480p\": np.mean(pxx_den_480, axis=0),\n",
    "  \"720p\": np.mean(pxx_den_720, axis=0),\n",
    "  \"1080p\": np.mean(pxx_den_1080, axis=0)\n",
    "}).T\n",
    "\n",
    "#pxx_den_df.columns = ['[-.001, .086)', '[.086, .172)', '[.172, .259)']\n",
    "pxx_den_df['St_dev'] = [\n",
    "  np.mean(np.std(pxx_den_240, axis=1)),\n",
    "  np.mean(np.std(pxx_den_360, axis=1)),\n",
    "  np.mean(np.std(pxx_den_480, axis=1)),\n",
    "  np.mean(np.std(pxx_den_720, axis=1)), \n",
    "  np.mean(np.std(pxx_den_1080, axis=1))]\n",
    "\n",
    "pxx_den_df"
   ]
  },
  {
   "cell_type": "markdown",
   "metadata": {},
   "source": [
    "## Rolling Windows"
   ]
  },
  {
   "cell_type": "code",
   "execution_count": null,
   "metadata": {},
   "outputs": [],
   "source": []
  },
  {
   "cell_type": "code",
   "execution_count": 261,
   "metadata": {},
   "outputs": [],
   "source": [
    "def rolling(df, sample_size):\n",
    "  \n",
    "  return df.rolling(sample_size).mean()"
   ]
  },
  {
   "cell_type": "code",
   "execution_count": 253,
   "metadata": {},
   "outputs": [],
   "source": [
    "def rolling_normalized_std(df, sample_size):\n",
    "    \n",
    "    df_roll = df.rolling(sample_size).mean()\n",
    "    \n",
    "    roll_mean = df_roll['pkt_size'].mean()\n",
    "    roll_std = df_roll['pkt_size'].std()\n",
    "\n",
    "    normalized_std = roll_std / roll_mean\n",
    "\n",
    "    return [normalized_std, roll_mean * mbit_rate, roll_std * mbit_rate]"
   ]
  },
  {
   "cell_type": "code",
   "execution_count": 287,
   "metadata": {},
   "outputs": [],
   "source": [
    "window = 4\n",
    "normalized_std_240 = [rolling_normalized_std(df, window) for df in resample_240]\n",
    "normalized_std_360 = [rolling_normalized_std(df, window) for df in resample_360]\n",
    "normalized_std_480 = [rolling_normalized_std(df, window) for df in resample_480]\n",
    "normalized_std_720 = [rolling_normalized_std(df, window) for df in resample_720]\n",
    "normalized_std_1080 = [rolling_normalized_std(df, window) for df in resample_1080]"
   ]
  },
  {
   "cell_type": "markdown",
   "metadata": {},
   "source": [
    "CoV on a rolling window average"
   ]
  },
  {
   "cell_type": "code",
   "execution_count": 255,
   "metadata": {},
   "outputs": [
    {
     "data": {
      "text/plain": [
       "array([0.72894597, 0.72543243, 0.52756132])"
      ]
     },
     "execution_count": 255,
     "metadata": {},
     "output_type": "execute_result"
    }
   ],
   "source": [
    "np.mean(normalized_std_240, axis=0)"
   ]
  },
  {
   "cell_type": "code",
   "execution_count": 256,
   "metadata": {},
   "outputs": [
    {
     "data": {
      "text/plain": [
       "array([0.84751147, 0.97192882, 0.79310161])"
      ]
     },
     "execution_count": 256,
     "metadata": {},
     "output_type": "execute_result"
    }
   ],
   "source": [
    "np.mean(normalized_std_360, axis=0)"
   ]
  },
  {
   "cell_type": "code",
   "execution_count": 257,
   "metadata": {},
   "outputs": [
    {
     "data": {
      "text/plain": [
       "array([0.62664745, 1.45663224, 0.81783882])"
      ]
     },
     "execution_count": 257,
     "metadata": {},
     "output_type": "execute_result"
    }
   ],
   "source": [
    "np.mean(normalized_std_480, axis=0)"
   ]
  },
  {
   "cell_type": "code",
   "execution_count": 258,
   "metadata": {},
   "outputs": [
    {
     "data": {
      "text/plain": [
       "array([0.40209471, 2.81181233, 0.87218488])"
      ]
     },
     "execution_count": 258,
     "metadata": {},
     "output_type": "execute_result"
    }
   ],
   "source": [
    "np.mean(normalized_std_720, axis=0)"
   ]
  },
  {
   "cell_type": "code",
   "execution_count": 259,
   "metadata": {},
   "outputs": [
    {
     "data": {
      "text/plain": [
       "array([0.33518229, 4.7814191 , 1.39700843])"
      ]
     },
     "execution_count": 259,
     "metadata": {},
     "output_type": "execute_result"
    }
   ],
   "source": [
    "np.mean(normalized_std_1080, axis=0)"
   ]
  },
  {
   "cell_type": "code",
   "execution_count": null,
   "metadata": {},
   "outputs": [],
   "source": []
  },
  {
   "cell_type": "code",
   "execution_count": null,
   "metadata": {},
   "outputs": [],
   "source": []
  },
  {
   "cell_type": "code",
   "execution_count": 220,
   "metadata": {},
   "outputs": [],
   "source": [
    "def normalized_std(df, col_lst):\n",
    "  df_avg = np.mean(df)\n",
    "  df_std = np.std(df)\n",
    "  \n",
    "  return df_std[col_lst].values / df_avg[col_lst].values"
   ]
  },
  {
   "cell_type": "code",
   "execution_count": 372,
   "metadata": {
    "scrolled": true
   },
   "outputs": [
    {
     "name": "stdout",
     "output_type": "stream",
     "text": [
      "Wall time: 11.9 s\n"
     ]
    }
   ],
   "source": [
    "%%time\n",
    "feat_lst = ['1->2Bytes', '2->1Bytes']\n",
    "\n",
    "normalized_std_240 = [normalized_std(df, feat_lst) for df in chunk_240_lst]\n",
    "normalized_std_360 = [normalized_std(df, feat_lst) for df in chunk_360_lst]\n",
    "normalized_std_480 = [normalized_std(df, feat_lst) for df in chunk_480_lst]\n",
    "normalized_std_720 = [normalized_std(df, feat_lst) for df in chunk_720_lst]\n",
    "normalized_std_1080 = [normalized_std(df, feat_lst) for df in chunk_1080_lst]"
   ]
  },
  {
   "cell_type": "markdown",
   "metadata": {},
   "source": [
    "cofficient of variation - download & upload"
   ]
  },
  {
   "cell_type": "code",
   "execution_count": 373,
   "metadata": {},
   "outputs": [
    {
     "data": {
      "text/plain": [
       "array([3.37829584, 4.53483563])"
      ]
     },
     "execution_count": 373,
     "metadata": {},
     "output_type": "execute_result"
    }
   ],
   "source": [
    "np.mean(normalized_std_240, axis=0)"
   ]
  },
  {
   "cell_type": "code",
   "execution_count": 374,
   "metadata": {},
   "outputs": [
    {
     "data": {
      "text/plain": [
       "array([3.87138975, 4.94411379])"
      ]
     },
     "execution_count": 374,
     "metadata": {},
     "output_type": "execute_result"
    }
   ],
   "source": [
    "np.mean(normalized_std_360, axis=0)"
   ]
  },
  {
   "cell_type": "code",
   "execution_count": 375,
   "metadata": {},
   "outputs": [
    {
     "data": {
      "text/plain": [
       "array([3.17790788, 3.8543255 ])"
      ]
     },
     "execution_count": 375,
     "metadata": {},
     "output_type": "execute_result"
    }
   ],
   "source": [
    "np.mean(normalized_std_480, axis=0)"
   ]
  },
  {
   "cell_type": "code",
   "execution_count": 376,
   "metadata": {},
   "outputs": [
    {
     "data": {
      "text/plain": [
       "array([2.55817227, 2.86250285])"
      ]
     },
     "execution_count": 376,
     "metadata": {},
     "output_type": "execute_result"
    }
   ],
   "source": [
    "np.mean(normalized_std_720, axis=0)"
   ]
  },
  {
   "cell_type": "code",
   "execution_count": 377,
   "metadata": {},
   "outputs": [
    {
     "data": {
      "text/plain": [
       "array([2.2350202 , 2.37060233])"
      ]
     },
     "execution_count": 377,
     "metadata": {},
     "output_type": "execute_result"
    }
   ],
   "source": [
    "np.mean(normalized_std_1080, axis=0)"
   ]
  },
  {
   "cell_type": "code",
   "execution_count": null,
   "metadata": {},
   "outputs": [],
   "source": []
  },
  {
   "cell_type": "markdown",
   "metadata": {},
   "source": [
    "difference in cofficient of variation between upload and download bytes"
   ]
  },
  {
   "cell_type": "code",
   "execution_count": 250,
   "metadata": {
    "scrolled": true
   },
   "outputs": [
    {
     "data": {
      "text/plain": [
       "-1.156539796518921"
      ]
     },
     "execution_count": 250,
     "metadata": {},
     "output_type": "execute_result"
    }
   ],
   "source": [
    "np.mean(np.array(normalized_std_240)[:, 0] - np.array(normalized_std_240)[:, 1])"
   ]
  },
  {
   "cell_type": "code",
   "execution_count": 248,
   "metadata": {},
   "outputs": [
    {
     "data": {
      "text/plain": [
       "-1.0727240344724294"
      ]
     },
     "execution_count": 248,
     "metadata": {},
     "output_type": "execute_result"
    }
   ],
   "source": [
    "np.mean(np.array(normalized_std_360)[:, 0] - np.array(normalized_std_360)[:, 1])"
   ]
  },
  {
   "cell_type": "code",
   "execution_count": 247,
   "metadata": {},
   "outputs": [
    {
     "data": {
      "text/plain": [
       "-0.6764176194435648"
      ]
     },
     "execution_count": 247,
     "metadata": {},
     "output_type": "execute_result"
    }
   ],
   "source": [
    "np.mean(np.array(normalized_std_480)[:, 0] - np.array(normalized_std_480)[:, 1])"
   ]
  },
  {
   "cell_type": "code",
   "execution_count": 251,
   "metadata": {},
   "outputs": [
    {
     "data": {
      "text/plain": [
       "-0.30433057755664644"
      ]
     },
     "execution_count": 251,
     "metadata": {},
     "output_type": "execute_result"
    }
   ],
   "source": [
    "np.mean(np.array(normalized_std_720)[:, 0] - np.array(normalized_std_720)[:, 1])"
   ]
  },
  {
   "cell_type": "code",
   "execution_count": 252,
   "metadata": {},
   "outputs": [
    {
     "data": {
      "text/plain": [
       "-0.13558213018297424"
      ]
     },
     "execution_count": 252,
     "metadata": {},
     "output_type": "execute_result"
    }
   ],
   "source": [
    "np.mean(np.array(normalized_std_1080)[:, 0] - np.array(normalized_std_1080)[:, 1])"
   ]
  },
  {
   "cell_type": "code",
   "execution_count": 90,
   "metadata": {},
   "outputs": [
    {
     "name": "stdout",
     "output_type": "stream",
     "text": [
      "Wall time: 28.8 s\n"
     ]
    }
   ],
   "source": [
    "%%time\n",
    "size='500ms'\n",
    "resample_240 = [explode_extended(df) for df in chunk_240_lst]\n",
    "resample_360 = [explode_extended(df) for df in chunk_360_lst]\n",
    "resample_480 = [explode_extended(df) for df in chunk_480_lst]\n",
    "resample_720 = [explode_extended(df) for df in chunk_720_lst]\n",
    "resample_1080 = [explode_extended(df) for df in chunk_1080_lst]"
   ]
  },
  {
   "cell_type": "markdown",
   "metadata": {},
   "source": [
    "## Chunking & Feature creation"
   ]
  },
  {
   "cell_type": "code",
   "execution_count": null,
   "metadata": {},
   "outputs": [],
   "source": [
    "def create_features(path, interval)"
   ]
  },
  {
   "cell_type": "code",
   "execution_count": null,
   "metadata": {},
   "outputs": [],
   "source": []
  },
  {
   "cell_type": "code",
   "execution_count": null,
   "metadata": {},
   "outputs": [],
   "source": []
  },
  {
   "cell_type": "code",
   "execution_count": null,
   "metadata": {},
   "outputs": [],
   "source": []
  },
  {
   "cell_type": "code",
   "execution_count": 378,
   "metadata": {},
   "outputs": [],
   "source": [
    "## wip; need to decide chunk size eventually\n",
    "## should we also make this chunking feature be our feature creation?\n",
    "\n",
    "def chunk_data(df, interval=120):\n",
    "\n",
    "    \"\"\"\n",
    "    takes in a filepath to the data you want to chunk and feature engineer\n",
    "    chunks our data into a specified time interval\n",
    "    each chunk is then turned into an observation to be fed into our classifier\n",
    "    \"\"\"\n",
    "\n",
    "    df_list = []\n",
    "    \n",
    "    df['Time'] = df['Time'] - df['Time'].min()\n",
    "    \n",
    "    total_chunks = np.floor(df['Time'].max() / interval).astype(int)\n",
    "\n",
    "    for chunk in np.arange(total_chunks):\n",
    "      \n",
    "        start = chunk * interval\n",
    "        end = (chunk+1) * interval\n",
    "\n",
    "        temp_df = (df[(df['Time'] >= start) & (df['Time'] < end)])\n",
    "        \n",
    "        df_list.append(temp_df)\n",
    "        \n",
    "    return df_list"
   ]
  },
  {
   "cell_type": "code",
   "execution_count": null,
   "metadata": {},
   "outputs": [],
   "source": [
    "def create_features(df, interval=60):\n",
    "\n",
    "  features = [\n",
    "    'dwl_peak_freq',\n",
    "    'dwl_peak_prom',\n",
    "    'dwl_max_psd',\n",
    "    'dwl_bytes_avg',\n",
    "    'dwl_bytes_std',\n",
    "    'dwl_peak_avg',\n",
    "    'dwl_peak_var',\n",
    "    'dwl_peak_std',\n",
    "    'upl_peak_freq',\n",
    "    'upl_peak_prom',\n",
    "    'upl_max_psd',\n",
    "    'upl_bytes_avg',\n",
    "    'upl_bytes_std',\n",
    "    'upl_peak_avg',\n",
    "    'upl_peak_var',\n",
    "    'upl_peak_std',\n",
    "    'IMAN_dwn_time_peak',#'IMAN_up_time_peak',\n",
    "    'IMAN_dwn_num_peak'#,'IMAN_up_num_peak'\n",
    "  ]  \n",
    "\n",
    "  vals = []\n",
    "\n",
    "  df_chunks = chunk_data(df, interval)\n",
    "\n",
    "  for chunk in df_chunks:\n",
    "\n",
    "    preproc = convert_ms_df(chunk, True)\n",
    "    upl_bytes = preproc[preproc['pkt_src'] == '1'].resample('500ms', on='Time').sum()\n",
    "    dwl_bytes = preproc[preproc['pkt_src'] == '2'].resample('500ms', on='Time').sum()\n",
    "\n",
    "    ## spectral features\n",
    "    dwl_spectral = spectral_features(dwl_bytes, 'pkt_size')\n",
    "    upl_spectral = spectral_features(upl_bytes, 'pkt_size')\n",
    "    \n",
    "    ## aggregate features\n",
    "    dwl_agg = agg_feat(chunk, '2->1Bytes')\n",
    "    upl_agg = agg_feat(chunk, '1->2Bytes')\n",
    "    \n",
    "    ## peak features\n",
    "    dwl_peak = peak_time_diff(chunk, '2->1Bytes')\n",
    "    upl_peak = peak_time_diff(chunk, '1->2Bytes')\n",
    "    \n",
    "    ## iman's time between peak \n",
    "    iman_dwn_time_peak = np.mean(peak_times(chunk,'2->1Bytes',1000000))\n",
    "    #iman_up_time_peak = np.mean(peak_times(chunk,'1->2Bytes',50000))\n",
    "\n",
    "    ## iman's num peak\n",
    "    iman_dwn_num_peak = num_peaks(chunk,'2->1Bytes',1000000)\n",
    "    #iman_up_num_peak = num_peaks(chunk,'1->2Bytes',50000)\n",
    "\n",
    "    feat_val = np.hstack((\n",
    "      dwl_spectral,\n",
    "      dwl_agg,\n",
    "      dwl_peak,\n",
    "      upl_spectral,\n",
    "      upl_agg,\n",
    "      upl_peak,\n",
    "      iman_dwn_time_peak,\n",
    "      #iman_up_time_peak,\n",
    "      iman_dwn_num_peak,\n",
    "      #iman_up_num_peak\n",
    "    ))\n",
    "    \n",
    "    vals.append(feat_val)\n",
    "    \n",
    "  return pd.DataFrame(columns=features, data=vals).fillna(0)"
   ]
  },
  {
   "cell_type": "code",
   "execution_count": null,
   "metadata": {},
   "outputs": [],
   "source": [
    "def create_features_no_split(df, interval=60):\n",
    "\n",
    "  features = [\n",
    "    'peak_freq',\n",
    "    'peak_prom',\n",
    "    'max_psd',\n",
    "    'bytes_avg',\n",
    "    'bytes_std',\n",
    "    'peak_avg',\n",
    "    'peak_var',\n",
    "    'peak_std',\n",
    "  ]  \n",
    "\n",
    "  vals = []\n",
    "\n",
    "  df_chunks = chunk_data(df, interval)\n",
    "\n",
    "  for chunk in df_chunks:\n",
    "\n",
    "    preproc = convert_ms_df(chunk, True)\n",
    "\n",
    "    ## spectral features\n",
    "    spectral_feat = spectral_features(preproc, 'pkt_size')\n",
    "    \n",
    "    ## aggregate features\n",
    "    aggr_feat = agg_feat(chunk, '2->1Bytes')\n",
    "    \n",
    "    ## peak features\n",
    "    peak_feat = peak_time_diff(chunk, '2->1Bytes')\n",
    "    \n",
    "    feat_val = np.hstack((\n",
    "      spectral_feat,\n",
    "      aggr_feat,\n",
    "      peak_feat\n",
    "    ))\n",
    "    \n",
    "    vals.append(feat_val)\n",
    "    \n",
    "  return pd.DataFrame(columns=features, data=vals).fillna(0)"
   ]
  },
  {
   "cell_type": "code",
   "execution_count": null,
   "metadata": {},
   "outputs": [],
   "source": [
    "low_feat_no_split = create_features_no_split(stdoan_low, 100)"
   ]
  },
  {
   "cell_type": "code",
   "execution_count": null,
   "metadata": {},
   "outputs": [],
   "source": []
  },
  {
   "cell_type": "code",
   "execution_count": null,
   "metadata": {},
   "outputs": [],
   "source": []
  },
  {
   "cell_type": "markdown",
   "metadata": {},
   "source": [
    "## Dev Playground"
   ]
  },
  {
   "cell_type": "code",
   "execution_count": null,
   "metadata": {},
   "outputs": [],
   "source": [
    "from sklearn.model_selection import train_test_split\n",
    "from sklearn.preprocessing import StandardScaler\n",
    "from sklearn.ensemble import RandomForestClassifier\n",
    "from sklearn.metrics import confusion_matrix, f1_score, accuracy_score"
   ]
  },
  {
   "cell_type": "code",
   "execution_count": null,
   "metadata": {},
   "outputs": [],
   "source": [
    "%%time\n",
    "low_feat = pd.concat([create_features(df, 100) for df in low_dfs])\n",
    "med_feat = pd.concat([create_features(df, 100) for df in med_dfs])\n",
    "high_feat = pd.concat([create_features(df, 100) for df in high_dfs])"
   ]
  },
  {
   "cell_type": "code",
   "execution_count": null,
   "metadata": {},
   "outputs": [],
   "source": [
    "low_feat['resolution'] = np.zeros(len(low_feat))\n",
    "med_feat['resolution'] = np.zeros(len(med_feat)) + 1\n",
    "high_feat['resolution'] = np.zeros(len(high_feat)) + 2"
   ]
  },
  {
   "cell_type": "code",
   "execution_count": null,
   "metadata": {},
   "outputs": [],
   "source": [
    "training_split = pd.concat([low_feat, med_feat, high_feat])"
   ]
  },
  {
   "cell_type": "code",
   "execution_count": null,
   "metadata": {},
   "outputs": [],
   "source": [
    "X, y = training_split.drop(columns=['resolution']), training_split['resolution']\n",
    "X_train, X_test, y_train, y_test = train_test_split(X, y, test_size = 0.3, random_state = 8)"
   ]
  },
  {
   "cell_type": "code",
   "execution_count": null,
   "metadata": {},
   "outputs": [],
   "source": [
    "clf_split = RandomForestClassifier(n_estimators = 5, max_depth = 2, criterion = 'entropy', random_state = 42)\n",
    "clf_split.fit(X_train, y_train)"
   ]
  },
  {
   "cell_type": "code",
   "execution_count": null,
   "metadata": {},
   "outputs": [],
   "source": [
    "y_pred = clf_split.predict(X_test)"
   ]
  },
  {
   "cell_type": "code",
   "execution_count": null,
   "metadata": {},
   "outputs": [],
   "source": [
    "np.abs(training_split.corr()['resolution']).sort_values(ascending=False)"
   ]
  },
  {
   "cell_type": "code",
   "execution_count": null,
   "metadata": {},
   "outputs": [],
   "source": [
    "(pd.crosstab(y_test, y_pred, rownames=['Actual Resolution'], colnames=['Predicted Resolution']))"
   ]
  },
  {
   "cell_type": "code",
   "execution_count": null,
   "metadata": {},
   "outputs": [],
   "source": [
    "f1_score(y_test, y_pred, average=None)"
   ]
  },
  {
   "cell_type": "code",
   "execution_count": null,
   "metadata": {},
   "outputs": [],
   "source": [
    "accuracy_score(y_test, y_pred)"
   ]
  },
  {
   "cell_type": "code",
   "execution_count": null,
   "metadata": {},
   "outputs": [],
   "source": [
    "features = [\n",
    "  'dwl_peak_freq',\n",
    "  'dwl_peak_prom',\n",
    "  'dwl_max_psd',\n",
    "  'dwl_bytes_avg',\n",
    "  'dwl_bytes_std',\n",
    "  'dwl_peak_avg',\n",
    "  'dwl_peak_var',\n",
    "  'dwl_peak_std',\n",
    "  'upl_peak_freq',\n",
    "  'upl_peak_prom',\n",
    "  'upl_max_psd',\n",
    "  'upl_bytes_avg',\n",
    "  'upl_bytes_std',\n",
    "  'upl_peak_avg',\n",
    "  'upl_peak_var',\n",
    "  'upl_peak_std',\n",
    "  'IMAN_dwn_time_peak',#'IMAN_up_time_peak'\n",
    "            'IMAN_dwn_num_peak']#,'IMAN_up_num_peak']\n",
    "importances = clf_split.feature_importances_\n",
    "indices = np.argsort(importances)[::-1]\n",
    "for i in indices:\n",
    "    print(features[i],': ',importances[i])\n",
    "    "
   ]
  },
  {
   "cell_type": "code",
   "execution_count": null,
   "metadata": {},
   "outputs": [],
   "source": [
    "import dill"
   ]
  },
  {
   "cell_type": "code",
   "execution_count": null,
   "metadata": {},
   "outputs": [],
   "source": [
    "dill.dump(clf_split, open(\"randomforest_chkpt2.obj\", \"wb\"))"
   ]
  },
  {
   "cell_type": "code",
   "execution_count": null,
   "metadata": {
    "scrolled": true
   },
   "outputs": [],
   "source": [
    "dill.load(open(\"randomforest_chkpt2.obj\", \"rb\"))"
   ]
  },
  {
   "cell_type": "code",
   "execution_count": null,
   "metadata": {},
   "outputs": [],
   "source": [
    "pip install scikit-learn"
   ]
  },
  {
   "cell_type": "markdown",
   "metadata": {},
   "source": [
    "## no split (download focus)"
   ]
  },
  {
   "cell_type": "code",
   "execution_count": null,
   "metadata": {},
   "outputs": [],
   "source": [
    "%%time\n",
    "low_feat_no_split = create_features_no_split(stdoan_low, 100)\n",
    "med_feat_no_split = create_features_no_split(stdoan_med, 100)\n",
    "high_feat_no_split = create_features_no_split(stdoan_high, 100)"
   ]
  },
  {
   "cell_type": "code",
   "execution_count": null,
   "metadata": {},
   "outputs": [],
   "source": [
    "low_feat_no_split['resolution'] = np.zeros(len(low_feat))\n",
    "med_feat_no_split['resolution'] = np.zeros(len(med_feat)) + 1\n",
    "high_feat_no_split['resolution'] = np.zeros(len(high_feat)) + 2"
   ]
  },
  {
   "cell_type": "code",
   "execution_count": null,
   "metadata": {},
   "outputs": [],
   "source": [
    "training_no_split = pd.concat([low_feat_no_split, med_feat_no_split, high_feat_no_split])"
   ]
  },
  {
   "cell_type": "code",
   "execution_count": null,
   "metadata": {},
   "outputs": [],
   "source": [
    "X, y = training_no_split.drop(columns=['resolution']), training_no_split['resolution']\n",
    "X_train, X_test, y_train, y_test = train_test_split(X, y, test_size = 0.3, random_state = 8)"
   ]
  },
  {
   "cell_type": "code",
   "execution_count": null,
   "metadata": {},
   "outputs": [],
   "source": [
    "clf_no_split = RandomForestClassifier(n_estimators = 2, max_depth = 2, criterion = 'entropy', random_state = 42)\n",
    "clf_no_split.fit(X_train, y_train)"
   ]
  },
  {
   "cell_type": "code",
   "execution_count": null,
   "metadata": {},
   "outputs": [],
   "source": [
    "y_pred = clf_no_split.predict(X_test)"
   ]
  },
  {
   "cell_type": "code",
   "execution_count": null,
   "metadata": {},
   "outputs": [],
   "source": [
    "np.abs(training_no_split.corr()['resolution']).sort_values(ascending=False)"
   ]
  },
  {
   "cell_type": "code",
   "execution_count": null,
   "metadata": {},
   "outputs": [],
   "source": [
    "(pd.crosstab(y_test, y_pred, rownames=['Actual Resolution'], colnames=['Predicted Resolution']))"
   ]
  },
  {
   "cell_type": "code",
   "execution_count": null,
   "metadata": {},
   "outputs": [],
   "source": [
    "f1_score(y_test, y_pred, average=None)"
   ]
  },
  {
   "cell_type": "code",
   "execution_count": null,
   "metadata": {},
   "outputs": [],
   "source": []
  },
  {
   "cell_type": "code",
   "execution_count": null,
   "metadata": {},
   "outputs": [],
   "source": []
  }
 ],
 "metadata": {
  "kernelspec": {
   "display_name": "Python 3",
   "language": "python",
   "name": "python3"
  },
  "language_info": {
   "codemirror_mode": {
    "name": "ipython",
    "version": 3
   },
   "file_extension": ".py",
   "mimetype": "text/x-python",
   "name": "python",
   "nbconvert_exporter": "python",
   "pygments_lexer": "ipython3",
   "version": "3.7.1"
  }
 },
 "nbformat": 4,
 "nbformat_minor": 2
}
