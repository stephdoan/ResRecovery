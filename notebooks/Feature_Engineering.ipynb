{
 "cells": [
  {
   "cell_type": "code",
   "execution_count": 1,
   "metadata": {},
   "outputs": [],
   "source": [
    "import os\n",
    "import sys\n",
    "\n",
    "import numpy as np\n",
    "import pandas as pd\n",
    "import scipy as sp\n",
    "from scipy import signal\n",
    "\n",
    "import matplotlib.pyplot as plt\n",
    "import seaborn as sns\n",
    "\n",
    "import warnings\n",
    "warnings.filterwarnings('ignore')\n",
    "\n",
    "%matplotlib inline"
   ]
  },
  {
   "cell_type": "code",
   "execution_count": 2,
   "metadata": {},
   "outputs": [],
   "source": [
    "sys.path.insert(0, '../src')\n",
    "\n",
    "from utils import *"
   ]
  },
  {
   "cell_type": "code",
   "execution_count": 3,
   "metadata": {},
   "outputs": [],
   "source": [
    "sns.set(rc={'figure.figsize':(20,5)})"
   ]
  },
  {
   "cell_type": "code",
   "execution_count": 512,
   "metadata": {},
   "outputs": [],
   "source": [
    "def load_data(resolution):\n",
    "  data_filepath = \"../data/\" + resolution + \"/\"\n",
    "  data_dir = os.listdir(data_filepath)\n",
    "  return [add_resolution(data_filepath + fp, resolution) for fp in data_dir]"
   ]
  },
  {
   "cell_type": "code",
   "execution_count": 515,
   "metadata": {},
   "outputs": [
    {
     "name": "stdout",
     "output_type": "stream",
     "text": [
      "Wall time: 9.09 s\n"
     ]
    }
   ],
   "source": [
    "%%time\n",
    "mbit_rate = 1/125000\n",
    "\n",
    "df_240_lst = load_data('240p')\n",
    "df_360_lst = load_data('360p')\n",
    "df_480_lst = load_data('480p')\n",
    "df_720_lst = load_data('720p')\n",
    "df_1080_lst = load_data('1080p')\n",
    "\n",
    "chunk_size = 300\n",
    "chunk_240_lst = sum([chunk_data(df, chunk_size) for df in df_240_lst], [])\n",
    "chunk_360_lst = sum([chunk_data(df, chunk_size) for df in df_360_lst], [])\n",
    "chunk_480_lst = sum([chunk_data(df, chunk_size) for df in df_480_lst], [])\n",
    "chunk_720_lst = sum([chunk_data(df, chunk_size) for df in df_720_lst], [])\n",
    "chunk_1080_lst = sum([chunk_data(df, chunk_size) for df in df_1080_lst], [])"
   ]
  },
  {
   "cell_type": "code",
   "execution_count": 5,
   "metadata": {},
   "outputs": [],
   "source": [
    "two_four_path = [two_four_fp + fp for fp in two_four_dir]\n",
    "three_six_path = [three_six_fp + fp for fp in three_six_dir]\n",
    "four_eight_path = [four_eight_fp + fp for fp in four_eight_dir]\n",
    "seven_two_path = [seven_two_fp + fp for fp in seven_two_dir]\n",
    "ten_eight_path = [ten_eight_fp + fp for fp in ten_eight_dir]"
   ]
  },
  {
   "cell_type": "markdown",
   "metadata": {},
   "source": [
    "## Aggregate Features\n",
    "In our EDA, we saw significant differences in aggregate statistics such as the mean and standard deviation. We reconfirm this by taking our chunked data and performing said operations. There seems to be alot of potential colinearity between the bytes and packet stream statistics (strong positive correlation). In our model, we chose to take the aggregate features of just the download stream of bytes as a way of thresholding bandwidth usage."
   ]
  },
  {
   "cell_type": "code",
   "execution_count": 225,
   "metadata": {},
   "outputs": [],
   "source": [
    "def mean_features_all(df_lst):\n",
    "  mean_feat = [[\n",
    "    np.mean(df['2->1Bytes']) * mbit_rate,\n",
    "    np.mean(df['1->2Bytes']) * mbit_rate,\n",
    "    np.mean(df['2->1Pkts']) - np.mean(df['1->2Pkts'])  \n",
    "  ] for df in df_lst]\n",
    "  return np.array(mean_feat)"
   ]
  },
  {
   "cell_type": "code",
   "execution_count": 226,
   "metadata": {
    "scrolled": true
   },
   "outputs": [
    {
     "data": {
      "text/plain": [
       "array([ 0.37565767,  0.02723766, 13.43988948])"
      ]
     },
     "execution_count": 226,
     "metadata": {},
     "output_type": "execute_result"
    }
   ],
   "source": [
    "np.mean(mean_features_all(chunk_240_lst), axis=0)"
   ]
  },
  {
   "cell_type": "code",
   "execution_count": 227,
   "metadata": {},
   "outputs": [
    {
     "data": {
      "text/plain": [
       "array([ 0.53998999,  0.03209415, 23.82566986])"
      ]
     },
     "execution_count": 227,
     "metadata": {},
     "output_type": "execute_result"
    }
   ],
   "source": [
    "np.mean(mean_features_all(chunk_360_lst), axis=0)"
   ]
  },
  {
   "cell_type": "code",
   "execution_count": 228,
   "metadata": {},
   "outputs": [
    {
     "data": {
      "text/plain": [
       "array([ 0.86681878,  0.05107904, 38.71039267])"
      ]
     },
     "execution_count": 228,
     "metadata": {},
     "output_type": "execute_result"
    }
   ],
   "source": [
    "np.mean(mean_features_all(chunk_480_lst), axis=0)"
   ]
  },
  {
   "cell_type": "code",
   "execution_count": 229,
   "metadata": {},
   "outputs": [
    {
     "data": {
      "text/plain": [
       "array([ 1.83049986,  0.10007563, 83.5624977 ])"
      ]
     },
     "execution_count": 229,
     "metadata": {},
     "output_type": "execute_result"
    }
   ],
   "source": [
    "np.mean(mean_features_all(chunk_720_lst), axis=0)"
   ]
  },
  {
   "cell_type": "code",
   "execution_count": 230,
   "metadata": {},
   "outputs": [
    {
     "data": {
      "text/plain": [
       "array([  2.61364869,   0.14168959, 125.2904816 ])"
      ]
     },
     "execution_count": 230,
     "metadata": {},
     "output_type": "execute_result"
    }
   ],
   "source": [
    "np.mean(mean_features_all(chunk_1080_lst), axis=0)"
   ]
  },
  {
   "cell_type": "code",
   "execution_count": null,
   "metadata": {},
   "outputs": [],
   "source": []
  },
  {
   "cell_type": "code",
   "execution_count": null,
   "metadata": {},
   "outputs": [],
   "source": []
  },
  {
   "cell_type": "markdown",
   "metadata": {},
   "source": [
    "## Peak Related Aggregate Features\n",
    "Peaks were a strong point of focus in our EDA as there are potential features to be extracted. The term \"peak\" is a bit of a misnomer - a \"peak\" is simply a large data transaction between the 2 IP addresses at a single second. The term large is relative to the scale of internet activity. We experimented with both a relative threshold and a hard threshold to decide what was a peak. We found that using relative threshold did well to preserve much of the data behavior but it did not show us clear distinction between lower resolutions (240p, 360p, 480p). We were wary of using a hard threshold as network conditions can vary from user to user. For example, if a user has a max bandwidth less than our preset threshold, nothing would be considered a peak and the resulting features would not capture any aspect of the data. \n",
    "\n",
    "Knowing how many spikes is very useful but also knowing the time delay between each spikes is useful. We will also apply a signal processing technique of evenly spacing out spikes and then taking the time delay between them. We also experiement with a hard threshold of 5 Mbps as a peak. We realize that this will not be applicable to a wide variety of other users as people's internet speed can wildly vary."
   ]
  },
  {
   "cell_type": "code",
   "execution_count": 471,
   "metadata": {},
   "outputs": [],
   "source": [
    "def get_peak_loc(df, col, invert=False):\n",
    "  \"\"\"\n",
    "  invert arg allows you to get values not considered peaks\n",
    "  \"\"\"\n",
    "  df_avg = df[col].mean()\n",
    "  df_std = df[col].std()\n",
    "  \n",
    "  threshold = df_avg + (.5 * df_std)\n",
    "  if invert:\n",
    "    return np.array(df[col] < threshold)\n",
    "  \n",
    "  else:\n",
    "    return np.array(df[col] > threshold)\n",
    "  \n",
    "def hard_threshold_peaks(df, col, thresh):\n",
    "    x = df[col]\n",
    "    peaks, _ = sp.signal.find_peaks(x, height=thresh)\n",
    "    return peaks\n",
    "  \n",
    "def peak_features(df, col, threshold):\n",
    "  \"\"\"\n",
    "  threshold is a megabit value that is converted to bytes\n",
    "  \"\"\"\n",
    "  mbps_thresh = threshold * 125000\n",
    "  #peaks = df[get_peak_loc(df, col)]\n",
    "  peaks = df.iloc[hard_threshold_peaks(df, col, mbps_thresh)]\n",
    "  peaks['Time'] = peaks['Time'] - peaks['Time'].min()\n",
    "  time_diff = np.diff(peaks['Time'])\n",
    "  if len(peaks) <= 0:\n",
    "    return [-1, -1, 0, -1]\n",
    "  \n",
    "  return [np.mean(peaks)[col] * mbit_rate, np.std(peaks)[col] * mbit_rate, len(peaks), 120 / len(peaks)]"
   ]
  },
  {
   "cell_type": "code",
   "execution_count": 473,
   "metadata": {},
   "outputs": [
    {
     "name": "stdout",
     "output_type": "stream",
     "text": [
      "Wall time: 10.9 s\n"
     ]
    }
   ],
   "source": [
    "%%time\n",
    "mbps = 5\n",
    "peaks_240 = [peak_features(df, '2->1Bytes', mbps) for df in chunk_240_lst]\n",
    "peaks_360 = [peak_features(df, '2->1Bytes', mbps) for df in chunk_360_lst]\n",
    "peaks_480 = [peak_features(df, '2->1Bytes', mbps) for df in chunk_480_lst]\n",
    "peaks_720 = [peak_features(df, '2->1Bytes', mbps) for df in chunk_720_lst]\n",
    "peaks_1080 = [peak_features(df, '2->1Bytes', mbps) for df in chunk_1080_lst]"
   ]
  },
  {
   "cell_type": "code",
   "execution_count": 476,
   "metadata": {},
   "outputs": [
    {
     "data": {
      "text/plain": [
       "(array([ 2.,  2.,  6., 14., 21.,  8.,  3.,  1.,  0.,  1.]),\n",
       " array([ 0.,  2.,  4.,  6.,  8., 10., 12., 14., 16., 18., 20.]),\n",
       " <BarContainer object of 10 artists>)"
      ]
     },
     "execution_count": 476,
     "metadata": {},
     "output_type": "execute_result"
    },
    {
     "data": {
      "image/png": "[encoded data removed]",
      "text/plain": [
       "<Figure size 1440x360 with 1 Axes>"
      ]
     },
     "metadata": {},
     "output_type": "display_data"
    }
   ],
   "source": [
    "plt.hist(np.array(peaks_240)[:, 2])"
   ]
  },
  {
   "cell_type": "code",
   "execution_count": 477,
   "metadata": {},
   "outputs": [
    {
     "data": {
      "text/plain": [
       "(array([ 3.,  2.,  7., 10., 13.,  9.,  4.,  5.,  2.,  2.]),\n",
       " array([ 2. ,  3.4,  4.8,  6.2,  7.6,  9. , 10.4, 11.8, 13.2, 14.6, 16. ]),\n",
       " <BarContainer object of 10 artists>)"
      ]
     },
     "execution_count": 477,
     "metadata": {},
     "output_type": "execute_result"
    },
    {
     "data": {
      "image/png": "[encoded data removed]",
      "text/plain": [
       "<Figure size 1440x360 with 1 Axes>"
      ]
     },
     "metadata": {},
     "output_type": "display_data"
    }
   ],
   "source": [
    "plt.hist(np.array(peaks_360)[:, 2])"
   ]
  },
  {
   "cell_type": "code",
   "execution_count": 479,
   "metadata": {
    "scrolled": true
   },
   "outputs": [
    {
     "data": {
      "text/plain": [
       "(array([ 3.,  4.,  2., 14., 11., 12.,  6.,  4.,  0.,  2.]),\n",
       " array([ 4. ,  5.8,  7.6,  9.4, 11.2, 13. , 14.8, 16.6, 18.4, 20.2, 22. ]),\n",
       " <BarContainer object of 10 artists>)"
      ]
     },
     "execution_count": 479,
     "metadata": {},
     "output_type": "execute_result"
    },
    {
     "data": {
      "image/png": "[encoded data removed]",
      "text/plain": [
       "<Figure size 1440x360 with 1 Axes>"
      ]
     },
     "metadata": {},
     "output_type": "display_data"
    }
   ],
   "source": [
    "plt.hist(np.array(peaks_480)[:, 2])"
   ]
  },
  {
   "cell_type": "code",
   "execution_count": 480,
   "metadata": {
    "scrolled": true
   },
   "outputs": [
    {
     "data": {
      "text/plain": [
       "(array([ 8., 10., 17., 14.,  6.,  0.,  1.,  0.,  0.,  1.]),\n",
       " array([ 8. , 14.4, 20.8, 27.2, 33.6, 40. , 46.4, 52.8, 59.2, 65.6, 72. ]),\n",
       " <BarContainer object of 10 artists>)"
      ]
     },
     "execution_count": 480,
     "metadata": {},
     "output_type": "execute_result"
    },
    {
     "data": {
      "image/png": "[encoded data removed]",
      "text/plain": [
       "<Figure size 1440x360 with 1 Axes>"
      ]
     },
     "metadata": {},
     "output_type": "display_data"
    }
   ],
   "source": [
    "plt.hist(np.array(peaks_720)[:, 2])"
   ]
  },
  {
   "cell_type": "code",
   "execution_count": 482,
   "metadata": {},
   "outputs": [
    {
     "data": {
      "text/plain": [
       "(array([ 5., 11., 18.,  9., 10.,  2.,  0.,  1.,  0.,  1.]),\n",
       " array([ 11. ,  20.3,  29.6,  38.9,  48.2,  57.5,  66.8,  76.1,  85.4,\n",
       "         94.7, 104. ]),\n",
       " <BarContainer object of 10 artists>)"
      ]
     },
     "execution_count": 482,
     "metadata": {},
     "output_type": "execute_result"
    },
    {
     "data": {
      "image/png": "[encoded data removed]",
      "text/plain": [
       "<Figure size 1440x360 with 1 Axes>"
      ]
     },
     "metadata": {},
     "output_type": "display_data"
    }
   ],
   "source": [
    "plt.hist(np.array(peaks_1080)[:, 2])"
   ]
  },
  {
   "cell_type": "markdown",
   "metadata": {},
   "source": [
    "## Spectral Features"
   ]
  },
  {
   "cell_type": "code",
   "execution_count": 238,
   "metadata": {},
   "outputs": [],
   "source": [
    "def explode_extended(df):\n",
    "    \"\"\"\n",
    "    takes in a network-stats df and explodes the extended columns.\n",
    "    time is converted from seconds to milliseconds.\n",
    "    drop the ip address columns and the aggregate columns.\n",
    "    \"\"\"\n",
    "    ext_col = ['packet_times', 'packet_sizes', 'packet_dirs']\n",
    "    \n",
    "    pre_explode = df[ext_col].apply(lambda x: x.str.split(';').str[:-1])\n",
    "    \n",
    "    exploded = pre_explode[ext_col].apply(lambda x: x.explode(ignore_index=True).astype(np.int64))\n",
    "    exploded.columns = ['Time', 'pkt_size', 'pkt_dir']\n",
    "\n",
    "    _sorted = exploded.sort_values('Time')\n",
    "    _sorted['Time'] = pd.to_datetime(_sorted['Time'], unit='ms')\n",
    "\n",
    "    return _sorted\n",
    "  \n",
    "def power_density(df, bins):\n",
    "  \n",
    "  f, Pxx = sp.signal.welch(df['pkt_size'], fs=2) \n",
    "  Pxx = np.sqrt(Pxx)\n",
    "  freq = np.linspace(0, np.max(f) + .01, num=bins) - .001\n",
    "  total = np.trapz(y=Pxx, x=f)\n",
    "  temp_lst = []\n",
    "  \n",
    "  for i in np.arange(len(freq) - 1):\n",
    "\n",
    "    f_lower = np.where(f >= freq[i])\n",
    "    f_upper = np.where(f < freq[i+1] )\n",
    "    selected_range = np.intersect1d(f_lower, f_upper)\n",
    "\n",
    "    pxx_den = np.trapz(y=Pxx[selected_range], x=f[selected_range]) \n",
    "    pxx_max = np.max(Pxx[selected_range]) / np.sum(Pxx[selected_range])\n",
    "    temp_lst.append(pxx_max)\n",
    "\n",
    "  return temp_lst"
   ]
  },
  {
   "cell_type": "code",
   "execution_count": null,
   "metadata": {},
   "outputs": [],
   "source": [
    "%%time\n",
    "size='500ms'\n",
    "resample_240 = [explode_extended(df).resample(size, on='Time').sum() for df in chunk_240_lst]\n",
    "resample_360 = [explode_extended(df).resample(size, on='Time').sum() for df in chunk_360_lst]\n",
    "resample_480 = [explode_extended(df).resample(size, on='Time').sum() for df in chunk_480_lst]\n",
    "resample_720 = [explode_extended(df).resample(size, on='Time').sum() for df in chunk_720_lst]\n",
    "resample_1080 = [explode_extended(df).resample(size, on='Time').sum() for df in chunk_1080_lst]"
   ]
  },
  {
   "cell_type": "code",
   "execution_count": 232,
   "metadata": {},
   "outputs": [
    {
     "name": "stdout",
     "output_type": "stream",
     "text": [
      "Wall time: 23.4 s\n"
     ]
    }
   ],
   "source": [
    "%%time\n",
    "size='2000ms'\n",
    "\n",
    "resample_240 = [explode_extended(df).resample(size, on='Time').sum() for df in chunk_240_lst]\n",
    "resample_360 = [explode_extended(df).resample(size, on='Time').sum() for df in chunk_360_lst]\n",
    "resample_480 = [explode_extended(df).resample(size, on='Time').sum() for df in chunk_480_lst]\n",
    "resample_720 = [explode_extended(df).resample(size, on='Time').sum() for df in chunk_720_lst]\n",
    "resample_1080 = [explode_extended(df).resample(size, on='Time').sum() for df in chunk_1080_lst]"
   ]
  },
  {
   "cell_type": "code",
   "execution_count": null,
   "metadata": {},
   "outputs": [],
   "source": []
  },
  {
   "cell_type": "code",
   "execution_count": null,
   "metadata": {},
   "outputs": [],
   "source": [
    "## area under the curve for a periodogram"
   ]
  },
  {
   "cell_type": "code",
   "execution_count": 239,
   "metadata": {},
   "outputs": [
    {
     "data": {
      "text/html": [
       "<div>\n",
       "<style scoped>\n",
       "    .dataframe tbody tr th:only-of-type {\n",
       "        vertical-align: middle;\n",
       "    }\n",
       "\n",
       "    .dataframe tbody tr th {\n",
       "        vertical-align: top;\n",
       "    }\n",
       "\n",
       "    .dataframe thead th {\n",
       "        text-align: right;\n",
       "    }\n",
       "</style>\n",
       "<table border=\"1\" class=\"dataframe\">\n",
       "  <thead>\n",
       "    <tr style=\"text-align: right;\">\n",
       "      <th></th>\n",
       "      <th>0</th>\n",
       "      <th>1</th>\n",
       "      <th>St_dev</th>\n",
       "    </tr>\n",
       "  </thead>\n",
       "  <tbody>\n",
       "    <tr>\n",
       "      <th>240p</th>\n",
       "      <td>0.071342</td>\n",
       "      <td>0.059827</td>\n",
       "      <td>0.007103</td>\n",
       "    </tr>\n",
       "    <tr>\n",
       "      <th>360p</th>\n",
       "      <td>0.065298</td>\n",
       "      <td>0.056578</td>\n",
       "      <td>0.006932</td>\n",
       "    </tr>\n",
       "    <tr>\n",
       "      <th>480p</th>\n",
       "      <td>0.078809</td>\n",
       "      <td>0.061861</td>\n",
       "      <td>0.010060</td>\n",
       "    </tr>\n",
       "    <tr>\n",
       "      <th>720p</th>\n",
       "      <td>0.107265</td>\n",
       "      <td>0.080222</td>\n",
       "      <td>0.016865</td>\n",
       "    </tr>\n",
       "    <tr>\n",
       "      <th>1080p</th>\n",
       "      <td>0.097572</td>\n",
       "      <td>0.081536</td>\n",
       "      <td>0.020121</td>\n",
       "    </tr>\n",
       "  </tbody>\n",
       "</table>\n",
       "</div>"
      ],
      "text/plain": [
       "              0         1    St_dev\n",
       "240p   0.071342  0.059827  0.007103\n",
       "360p   0.065298  0.056578  0.006932\n",
       "480p   0.078809  0.061861  0.010060\n",
       "720p   0.107265  0.080222  0.016865\n",
       "1080p  0.097572  0.081536  0.020121"
      ]
     },
     "execution_count": 239,
     "metadata": {},
     "output_type": "execute_result"
    }
   ],
   "source": [
    "bins = 3\n",
    "pxx_den_240 = [power_density(df, bins) for df in resample_240]\n",
    "pxx_den_360 = [power_density(df, bins) for df in resample_360]\n",
    "pxx_den_480 = [power_density(df, bins) for df in resample_480]\n",
    "pxx_den_720 = [power_density(df, bins) for df in resample_720]\n",
    "pxx_den_1080 = [power_density(df, bins) for df in resample_1080]\n",
    "\n",
    "pxx_den_df = pd.DataFrame({\n",
    "  \"240p\": np.mean(pxx_den_240, axis=0),\n",
    "  \"360p\": np.mean(pxx_den_360, axis=0),\n",
    "  \"480p\": np.mean(pxx_den_480, axis=0),\n",
    "  \"720p\": np.mean(pxx_den_720, axis=0),\n",
    "  \"1080p\": np.mean(pxx_den_1080, axis=0)\n",
    "}).T\n",
    "\n",
    "#pxx_den_df.columns = ['[-.001, .086)', '[.086, .172)', '[.172, .259)']\n",
    "pxx_den_df['St_dev'] = [\n",
    "  np.mean(np.std(pxx_den_240, axis=1)),\n",
    "  np.mean(np.std(pxx_den_360, axis=1)),\n",
    "  np.mean(np.std(pxx_den_480, axis=1)),\n",
    "  np.mean(np.std(pxx_den_720, axis=1)), \n",
    "  np.mean(np.std(pxx_den_1080, axis=1))]\n",
    "\n",
    "pxx_den_df"
   ]
  },
  {
   "cell_type": "code",
   "execution_count": 240,
   "metadata": {
    "scrolled": true
   },
   "outputs": [
    {
     "data": {
      "text/html": [
       "<div>\n",
       "<style scoped>\n",
       "    .dataframe tbody tr th:only-of-type {\n",
       "        vertical-align: middle;\n",
       "    }\n",
       "\n",
       "    .dataframe tbody tr th {\n",
       "        vertical-align: top;\n",
       "    }\n",
       "\n",
       "    .dataframe thead th {\n",
       "        text-align: right;\n",
       "    }\n",
       "</style>\n",
       "<table border=\"1\" class=\"dataframe\">\n",
       "  <thead>\n",
       "    <tr style=\"text-align: right;\">\n",
       "      <th></th>\n",
       "      <th>0</th>\n",
       "      <th>1</th>\n",
       "      <th>2</th>\n",
       "      <th>St_dev</th>\n",
       "    </tr>\n",
       "  </thead>\n",
       "  <tbody>\n",
       "    <tr>\n",
       "      <th>240p</th>\n",
       "      <td>0.105377</td>\n",
       "      <td>0.087410</td>\n",
       "      <td>0.086343</td>\n",
       "      <td>0.013373</td>\n",
       "    </tr>\n",
       "    <tr>\n",
       "      <th>360p</th>\n",
       "      <td>0.099245</td>\n",
       "      <td>0.079751</td>\n",
       "      <td>0.083677</td>\n",
       "      <td>0.013346</td>\n",
       "    </tr>\n",
       "    <tr>\n",
       "      <th>480p</th>\n",
       "      <td>0.125457</td>\n",
       "      <td>0.089805</td>\n",
       "      <td>0.089417</td>\n",
       "      <td>0.019731</td>\n",
       "    </tr>\n",
       "    <tr>\n",
       "      <th>720p</th>\n",
       "      <td>0.112274</td>\n",
       "      <td>0.115426</td>\n",
       "      <td>0.112140</td>\n",
       "      <td>0.025198</td>\n",
       "    </tr>\n",
       "    <tr>\n",
       "      <th>1080p</th>\n",
       "      <td>0.103900</td>\n",
       "      <td>0.105861</td>\n",
       "      <td>0.113787</td>\n",
       "      <td>0.024082</td>\n",
       "    </tr>\n",
       "  </tbody>\n",
       "</table>\n",
       "</div>"
      ],
      "text/plain": [
       "              0         1         2    St_dev\n",
       "240p   0.105377  0.087410  0.086343  0.013373\n",
       "360p   0.099245  0.079751  0.083677  0.013346\n",
       "480p   0.125457  0.089805  0.089417  0.019731\n",
       "720p   0.112274  0.115426  0.112140  0.025198\n",
       "1080p  0.103900  0.105861  0.113787  0.024082"
      ]
     },
     "execution_count": 240,
     "metadata": {},
     "output_type": "execute_result"
    }
   ],
   "source": [
    "bins = 4\n",
    "pxx_den_240 = [power_density(df, bins) for df in resample_240]\n",
    "pxx_den_360 = [power_density(df, bins) for df in resample_360]\n",
    "pxx_den_480 = [power_density(df, bins) for df in resample_480]\n",
    "pxx_den_720 = [power_density(df, bins) for df in resample_720]\n",
    "pxx_den_1080 = [power_density(df, bins) for df in resample_1080]\n",
    "\n",
    "pxx_den_df = pd.DataFrame({\n",
    "  \"240p\": np.mean(pxx_den_240, axis=0),\n",
    "  \"360p\": np.mean(pxx_den_360, axis=0),\n",
    "  \"480p\": np.mean(pxx_den_480, axis=0),\n",
    "  \"720p\": np.mean(pxx_den_720, axis=0),\n",
    "  \"1080p\": np.mean(pxx_den_1080, axis=0)\n",
    "}).T\n",
    "\n",
    "#pxx_den_df.columns = ['[-.001, .086)', '[.086, .172)', '[.172, .259)']\n",
    "pxx_den_df['St_dev'] = [\n",
    "  np.mean(np.std(pxx_den_240, axis=1)),\n",
    "  np.mean(np.std(pxx_den_360, axis=1)),\n",
    "  np.mean(np.std(pxx_den_480, axis=1)),\n",
    "  np.mean(np.std(pxx_den_720, axis=1)), \n",
    "  np.mean(np.std(pxx_den_1080, axis=1))]\n",
    "\n",
    "pxx_den_df"
   ]
  },
  {
   "cell_type": "markdown",
   "metadata": {},
   "source": [
    "## Rolling Windows"
   ]
  },
  {
   "cell_type": "code",
   "execution_count": 492,
   "metadata": {},
   "outputs": [],
   "source": [
    "size='2000ms'\n",
    "resample_240 = [explode_extended(df).resample(size, on='Time').sum() for df in chunk_240_lst]\n",
    "resample_360 = [explode_extended(df).resample(size, on='Time').sum() for df in chunk_360_lst]\n",
    "resample_480 = [explode_extended(df).resample(size, on='Time').sum() for df in chunk_480_lst]\n",
    "resample_720 = [explode_extended(df).resample(size, on='Time').sum() for df in chunk_720_lst]\n",
    "resample_1080 = [explode_extended(df).resample(size, on='Time').sum() for df in chunk_1080_lst]"
   ]
  },
  {
   "cell_type": "code",
   "execution_count": 485,
   "metadata": {},
   "outputs": [],
   "source": [
    "def rolling(df, sample_size):\n",
    "  \n",
    "  return df.rolling(sample_size).mean()"
   ]
  },
  {
   "cell_type": "code",
   "execution_count": null,
   "metadata": {},
   "outputs": [],
   "source": [
    "def rolling_normalized_std(df, sample_size):\n",
    "    \n",
    "    df_roll = df.rolling(sample_size).std()\n",
    "    \n",
    "    roll_mean = df_roll['pkt_size'].mean()\n",
    "    roll_std = df_roll['pkt_size'].std()\n",
    "\n",
    "    normalized_std = roll_std / roll_mean\n",
    "\n",
    "    return [normalized_std]#, roll_mean * mbit_rate, roll_std * mbit_rate]"
   ]
  },
  {
   "cell_type": "code",
   "execution_count": 484,
   "metadata": {},
   "outputs": [],
   "source": [
    "window = 8\n",
    "normalized_std_240 = [rolling_normalized_std(df, window) for df in resample_240]\n",
    "normalized_std_360 = [rolling_normalized_std(df, window) for df in resample_360]\n",
    "normalized_std_480 = [rolling_normalized_std(df, window) for df in resample_480]\n",
    "normalized_std_720 = [rolling_normalized_std(df, window) for df in resample_720]\n",
    "normalized_std_1080 = [rolling_normalized_std(df, window) for df in resample_1080]"
   ]
  },
  {
   "cell_type": "code",
   "execution_count": 506,
   "metadata": {},
   "outputs": [],
   "source": [
    "rolling_240 = [rolling(df, 15)[15:] for df in resample_240]\n",
    "rolling_360 = [rolling(df, 15)[15:] for df in resample_360]\n",
    "rolling_480 = [rolling(df, 15)[15:] for df in resample_480]\n",
    "rolling_720 = [rolling(df, 15)[15:] for df in resample_720]\n",
    "rolling_1080 = [rolling(df, 15)[15:] for df in resample_1080]\n"
   ]
  },
  {
   "cell_type": "code",
   "execution_count": 507,
   "metadata": {},
   "outputs": [
    {
     "data": {
      "text/html": [
       "<div>\n",
       "<style scoped>\n",
       "    .dataframe tbody tr th:only-of-type {\n",
       "        vertical-align: middle;\n",
       "    }\n",
       "\n",
       "    .dataframe tbody tr th {\n",
       "        vertical-align: top;\n",
       "    }\n",
       "\n",
       "    .dataframe thead th {\n",
       "        text-align: right;\n",
       "    }\n",
       "</style>\n",
       "<table border=\"1\" class=\"dataframe\">\n",
       "  <thead>\n",
       "    <tr style=\"text-align: right;\">\n",
       "      <th></th>\n",
       "      <th>0</th>\n",
       "      <th>1</th>\n",
       "      <th>2</th>\n",
       "    </tr>\n",
       "  </thead>\n",
       "  <tbody>\n",
       "    <tr>\n",
       "      <th>240p</th>\n",
       "      <td>0.647366</td>\n",
       "      <td>0.195453</td>\n",
       "      <td>0.132967</td>\n",
       "    </tr>\n",
       "    <tr>\n",
       "      <th>360p</th>\n",
       "      <td>0.651172</td>\n",
       "      <td>0.195862</td>\n",
       "      <td>0.126516</td>\n",
       "    </tr>\n",
       "    <tr>\n",
       "      <th>480p</th>\n",
       "      <td>0.612207</td>\n",
       "      <td>0.222393</td>\n",
       "      <td>0.140349</td>\n",
       "    </tr>\n",
       "    <tr>\n",
       "      <th>720p</th>\n",
       "      <td>0.566269</td>\n",
       "      <td>0.241561</td>\n",
       "      <td>0.167288</td>\n",
       "    </tr>\n",
       "    <tr>\n",
       "      <th>1080p</th>\n",
       "      <td>0.579926</td>\n",
       "      <td>0.218942</td>\n",
       "      <td>0.178621</td>\n",
       "    </tr>\n",
       "  </tbody>\n",
       "</table>\n",
       "</div>"
      ],
      "text/plain": [
       "              0         1         2\n",
       "240p   0.647366  0.195453  0.132967\n",
       "360p   0.651172  0.195862  0.126516\n",
       "480p   0.612207  0.222393  0.140349\n",
       "720p   0.566269  0.241561  0.167288\n",
       "1080p  0.579926  0.218942  0.178621"
      ]
     },
     "execution_count": 507,
     "metadata": {},
     "output_type": "execute_result"
    }
   ],
   "source": [
    "bins = 4\n",
    "pxx_den_240 = [power_density(df, bins) for df in rolling_240]\n",
    "pxx_den_360 = [power_density(df, bins) for df in rolling_360]\n",
    "pxx_den_480 = [power_density(df, bins) for df in rolling_480]\n",
    "pxx_den_720 = [power_density(df, bins) for df in rolling_720]\n",
    "pxx_den_1080 = [power_density(df, bins) for df in rolling_1080]\n",
    "\n",
    "pxx_den_df = pd.DataFrame({\n",
    "  \"240p\": np.mean(pxx_den_240, axis=0),\n",
    "  \"360p\": np.mean(pxx_den_360, axis=0),\n",
    "  \"480p\": np.mean(pxx_den_480, axis=0),\n",
    "  \"720p\": np.mean(pxx_den_720, axis=0),\n",
    "  \"1080p\": np.mean(pxx_den_1080, axis=0)\n",
    "}).T\n",
    "\n",
    "pxx_den_df"
   ]
  },
  {
   "cell_type": "code",
   "execution_count": null,
   "metadata": {},
   "outputs": [],
   "source": []
  },
  {
   "cell_type": "markdown",
   "metadata": {},
   "source": [
    "CoV on a rolling window average"
   ]
  },
  {
   "cell_type": "code",
   "execution_count": null,
   "metadata": {},
   "outputs": [],
   "source": [
    "np.mean(normalized_std_240, axis=0)"
   ]
  },
  {
   "cell_type": "code",
   "execution_count": null,
   "metadata": {},
   "outputs": [],
   "source": [
    "np.mean(normalized_std_360, axis=0)"
   ]
  },
  {
   "cell_type": "code",
   "execution_count": null,
   "metadata": {},
   "outputs": [],
   "source": [
    "np.mean(normalized_std_480, axis=0)"
   ]
  },
  {
   "cell_type": "code",
   "execution_count": null,
   "metadata": {},
   "outputs": [],
   "source": [
    "np.mean(normalized_std_720, axis=0)"
   ]
  },
  {
   "cell_type": "code",
   "execution_count": null,
   "metadata": {},
   "outputs": [],
   "source": [
    "np.mean(normalized_std_1080, axis=0)"
   ]
  },
  {
   "cell_type": "code",
   "execution_count": 511,
   "metadata": {},
   "outputs": [
    {
     "data": {
      "text/plain": [
       "[<matplotlib.lines.Line2D at 0x2d00015bc50>]"
      ]
     },
     "execution_count": 511,
     "metadata": {},
     "output_type": "execute_result"
    },
    {
     "data": {
      "image/png": "[encoded data removed]",
      "text/plain": [
       "<Figure size 1440x360 with 1 Axes>"
      ]
     },
     "metadata": {},
     "output_type": "display_data"
    }
   ],
   "source": [
    "test = resample_240[0]\n",
    "f_1s, psd_1s = sp.signal.welch(test['pkt_size'], fs=2)\n",
    "plt.plot(f_1s, psd_1s)"
   ]
  },
  {
   "cell_type": "code",
   "execution_count": 505,
   "metadata": {},
   "outputs": [
    {
     "data": {
      "text/plain": [
       "[<matplotlib.lines.Line2D at 0x2d0295bcba8>]"
      ]
     },
     "execution_count": 505,
     "metadata": {},
     "output_type": "execute_result"
    },
    {
     "data": {
      "image/png": "[encoded data removed]",
      "text/plain": [
       "<Figure size 1440x360 with 1 Axes>"
      ]
     },
     "metadata": {},
     "output_type": "display_data"
    }
   ],
   "source": [
    "plt.plot(rolling_1080[5]['pkt_size'])"
   ]
  },
  {
   "cell_type": "code",
   "execution_count": null,
   "metadata": {},
   "outputs": [],
   "source": []
  },
  {
   "cell_type": "code",
   "execution_count": null,
   "metadata": {},
   "outputs": [],
   "source": []
  },
  {
   "cell_type": "code",
   "execution_count": null,
   "metadata": {},
   "outputs": [],
   "source": [
    "def normalized_std(df, col_lst):\n",
    "  df_avg = np.mean(df)\n",
    "  df_std = np.std(df)\n",
    "  \n",
    "  return df_std[col_lst].values / df_avg[col_lst].values"
   ]
  },
  {
   "cell_type": "code",
   "execution_count": null,
   "metadata": {
    "scrolled": true
   },
   "outputs": [],
   "source": [
    "%%time\n",
    "feat_lst = ['1->2Bytes', '2->1Bytes']\n",
    "\n",
    "normalized_std_240 = [normalized_std(df, feat_lst) for df in chunk_240_lst]\n",
    "normalized_std_360 = [normalized_std(df, feat_lst) for df in chunk_360_lst]\n",
    "normalized_std_480 = [normalized_std(df, feat_lst) for df in chunk_480_lst]\n",
    "normalized_std_720 = [normalized_std(df, feat_lst) for df in chunk_720_lst]\n",
    "normalized_std_1080 = [normalized_std(df, feat_lst) for df in chunk_1080_lst]"
   ]
  },
  {
   "cell_type": "markdown",
   "metadata": {},
   "source": [
    "cofficient of variation - download & upload"
   ]
  },
  {
   "cell_type": "code",
   "execution_count": null,
   "metadata": {},
   "outputs": [],
   "source": [
    "np.mean(normalized_std_240, axis=0)"
   ]
  },
  {
   "cell_type": "code",
   "execution_count": null,
   "metadata": {},
   "outputs": [],
   "source": [
    "np.mean(normalized_std_360, axis=0)"
   ]
  },
  {
   "cell_type": "code",
   "execution_count": null,
   "metadata": {},
   "outputs": [],
   "source": [
    "np.mean(normalized_std_480, axis=0)"
   ]
  },
  {
   "cell_type": "code",
   "execution_count": null,
   "metadata": {},
   "outputs": [],
   "source": [
    "np.mean(normalized_std_720, axis=0)"
   ]
  },
  {
   "cell_type": "code",
   "execution_count": null,
   "metadata": {},
   "outputs": [],
   "source": [
    "np.mean(normalized_std_1080, axis=0)"
   ]
  },
  {
   "cell_type": "code",
   "execution_count": null,
   "metadata": {},
   "outputs": [],
   "source": []
  },
  {
   "cell_type": "markdown",
   "metadata": {},
   "source": [
    "difference in cofficient of variation between upload and download bytes"
   ]
  },
  {
   "cell_type": "code",
   "execution_count": null,
   "metadata": {
    "scrolled": true
   },
   "outputs": [],
   "source": [
    "np.mean(np.array(normalized_std_240)[:, 0] - np.array(normalized_std_240)[:, 1])"
   ]
  },
  {
   "cell_type": "code",
   "execution_count": null,
   "metadata": {},
   "outputs": [],
   "source": [
    "np.mean(np.array(normalized_std_360)[:, 0] - np.array(normalized_std_360)[:, 1])"
   ]
  },
  {
   "cell_type": "code",
   "execution_count": null,
   "metadata": {},
   "outputs": [],
   "source": [
    "np.mean(np.array(normalized_std_480)[:, 0] - np.array(normalized_std_480)[:, 1])"
   ]
  },
  {
   "cell_type": "code",
   "execution_count": null,
   "metadata": {},
   "outputs": [],
   "source": [
    "np.mean(np.array(normalized_std_720)[:, 0] - np.array(normalized_std_720)[:, 1])"
   ]
  },
  {
   "cell_type": "code",
   "execution_count": null,
   "metadata": {},
   "outputs": [],
   "source": [
    "np.mean(np.array(normalized_std_1080)[:, 0] - np.array(normalized_std_1080)[:, 1])"
   ]
  },
  {
   "cell_type": "code",
   "execution_count": null,
   "metadata": {},
   "outputs": [],
   "source": [
    "%%time\n",
    "size='1000ms'\n",
    "resample_240 = [explode_extended(df) for df in chunk_240_lst]\n",
    "resample_360 = [explode_extended(df) for df in chunk_360_lst]\n",
    "resample_480 = [explode_extended(df) for df in chunk_480_lst]\n",
    "resample_720 = [explode_extended(df) for df in chunk_720_lst]\n",
    "resample_1080 = [explode_extended(df) for df in chunk_1080_lst]"
   ]
  },
  {
   "cell_type": "code",
   "execution_count": null,
   "metadata": {},
   "outputs": [],
   "source": [
    "rolling_normalized_std(resample_240[3], 8)"
   ]
  },
  {
   "cell_type": "code",
   "execution_count": null,
   "metadata": {},
   "outputs": [],
   "source": []
  },
  {
   "cell_type": "markdown",
   "metadata": {},
   "source": [
    "## Chunking & Feature creation"
   ]
  },
  {
   "cell_type": "code",
   "execution_count": 21,
   "metadata": {},
   "outputs": [],
   "source": [
    "def chunk_data(df, interval=120):\n",
    "\n",
    "    \"\"\"\n",
    "    takes in a filepath to the data you want to chunk and feature engineer\n",
    "    chunks our data into a specified time interval\n",
    "    each chunk is then turned into an observation to be fed into our classifier\n",
    "    \"\"\"\n",
    "\n",
    "    df_list = []\n",
    "    \n",
    "    df['Time'] = df['Time'] - df['Time'].min()\n",
    "    \n",
    "    total_chunks = np.floor(df['Time'].max() / interval).astype(int)\n",
    "\n",
    "    for chunk in np.arange(total_chunks):\n",
    "      \n",
    "        start = chunk * interval\n",
    "        end = (chunk+1) * interval\n",
    "\n",
    "        temp_df = (df[(df['Time'] >= start) & (df['Time'] < end)])\n",
    "        \n",
    "        df_list.append(temp_df)\n",
    "        \n",
    "    return df_list"
   ]
  },
  {
   "cell_type": "code",
   "execution_count": 312,
   "metadata": {},
   "outputs": [],
   "source": [
    "def get_peak_loc(df, col, invert=False):\n",
    "  \"\"\"\n",
    "  invert arg allows you to get values not considered peaks\n",
    "  \"\"\"\n",
    "  df_avg = df[col].mean()\n",
    "  df_std = df[col].std()\n",
    "  \n",
    "  threshold = df_avg + (.5 * df_std)\n",
    "  if invert:\n",
    "    return np.array(df[col] < threshold)\n",
    "  \n",
    "  else:\n",
    "    return np.array(df[col] > threshold)\n",
    "  \n",
    "def hard_threshold_peaks(df, col, thresh):\n",
    "    x = df[col]\n",
    "    peaks, _ = sp.signal.find_peaks(x, height=thresh)\n",
    "    return peaks\n",
    "  \n",
    "def peak_features(df, col, threshold):\n",
    "  \"\"\"\n",
    "  threshold is a megabit value that is converted to bytes\n",
    "  \"\"\"\n",
    "  mbps_thresh = threshold * 125000\n",
    "  #peaks = df[get_peak_loc(df, col)]\n",
    "  peaks = df.iloc[hard_threshold_peaks(df, col, mbps_thresh)]\n",
    "  peaks['Time'] = peaks['Time'] - peaks['Time'].min()\n",
    "  time_diff = np.diff(peaks['Time'])\n",
    "  if len(peaks) <= 0:\n",
    "    return [-1, -1, 0, -1]\n",
    "  \n",
    "  return [np.mean(peaks)[col] * mbit_rate, np.std(peaks)[col] * mbit_rate, len(peaks), 120 / len(peaks)]\n",
    "\n",
    "def explode_extended(df):\n",
    "    \"\"\"\n",
    "    takes in a network-stats df and explodes the extended columns.\n",
    "    time is converted from seconds to milliseconds.\n",
    "    drop the ip address columns and the aggregate columns.\n",
    "    \"\"\"\n",
    "    ext_col = ['packet_times', 'packet_sizes', 'packet_dirs']\n",
    "    \n",
    "    pre_explode = df[ext_col].apply(lambda x: x.str.split(';').str[:-1])\n",
    "    \n",
    "    exploded = pre_explode[ext_col].apply(lambda x: x.explode(ignore_index=True).astype(np.int64))\n",
    "    exploded.columns = ['Time', 'pkt_size', 'pkt_dir']\n",
    "\n",
    "    _sorted = exploded.sort_values('Time')\n",
    "    _sorted['Time'] = pd.to_datetime(_sorted['Time'], unit='ms')\n",
    "\n",
    "    return _sorted\n",
    "  \n",
    "def power_density(df, bins):\n",
    "  \n",
    "  f, psd = sp.signal.welch(df['pkt_size'], fs=.5) \n",
    "  psd = np.sqrt(psd)\n",
    "  freq = np.linspace(0, np.max(f) + .01, num=bins) - .001\n",
    "  total = np.trapz(y=psd, x=f)\n",
    "  psd_den_lst = []\n",
    "  \n",
    "  for i in np.arange(len(freq) - 1):\n",
    "\n",
    "    f_lower = np.where(f >= freq[i])\n",
    "    f_upper = np.where(f < freq[i+1] )\n",
    "    selected_range = np.intersect1d(f_lower, f_upper)\n",
    "\n",
    "    psd_den = np.trapz(y=psd[selected_range], x=f[selected_range]) / total\n",
    "    psd_den_lst.append(psd_den)\n",
    "\n",
    "  return psd_den_lst\n",
    "\n",
    "def rolling_normalized_std(df, sample_size):\n",
    "    \n",
    "    df_roll = df.rolling(sample_size).std()\n",
    "    \n",
    "    roll_mean = df_roll['pkt_size'].mean()\n",
    "    roll_std = df_roll['pkt_size'].std()\n",
    "\n",
    "    normalized_std = roll_std / roll_mean\n",
    "\n",
    "    return [normalized_std]#, roll_mean * mbit_rate, roll_std * mbit_rate]\n",
    "  \n",
    "def normalized_std(df, col):\n",
    "  df_avg = np.mean(df[col])\n",
    "  df_std = np.std(df[col])\n",
    "  \n",
    "  return df_std / df_avg"
   ]
  },
  {
   "cell_type": "code",
   "execution_count": 384,
   "metadata": {},
   "outputs": [],
   "source": [
    "def create_features(path, interval, threshold):\n",
    "  vals = []\n",
    "  \n",
    "  mbit = 125000\n",
    "  \n",
    "  df = pd.read_csv(path)\n",
    "  df_chunks = chunk_data(df, interval)\n",
    "\n",
    "  for chunk in df_chunks:\n",
    "    temp = []\n",
    "\n",
    "    # average amount of bytes/second in a chunk\n",
    "    download_avg = np.mean(chunk['2->1Bytes']) / mbit\n",
    "    download_std = np.std(chunk['2->1Bytes']) / mbit\n",
    "    #upload_avg = np.mean(chunk['1->2'])\n",
    "    diff_pkts = np.std(chunk['2->1Pkts'] - chunk['1->2Pkts'])\n",
    "    \n",
    "    temp.append(download_avg)\n",
    "    temp.append(download_std)\n",
    "    temp.append(diff_pkts)\n",
    "    \n",
    "    # peak - average, # peaks, seconds:peak ratio\n",
    "    peak_feats = peak_features(chunk, '2->1Bytes', threshold)\n",
    "    temp.append(peak_feats)\n",
    "    \n",
    "    # spectral - density, standard deviation of densities \n",
    "    extended = explode_extended(chunk)\n",
    "    resample_2s = extended.resample('2000ms', on='Time').sum()\n",
    "    \n",
    "    psd_density = power_density(resample_2s, 3)\n",
    "    psd_density_stdev = np.std(psd_density)\n",
    "    \n",
    "#     temp.append(psd_density)\n",
    "    temp.append(psd_density_stdev)\n",
    "    \n",
    "#     # coefficient of variation\n",
    "    resample_1s = extended.resample('1000ms', on='Time').sum()\n",
    "    rolling_cv = rolling_normalized_std(resample_1s, 8)\n",
    "    temp.append(rolling_cv)\n",
    "    \n",
    "    diff_cv = normalized_std(chunk, '1->2Bytes') - normalized_std(chunk, '2->1Bytes')\n",
    "    temp.append(diff_cv)\n",
    "    \n",
    "    chunk_feat = np.hstack(temp)\n",
    "    vals.append(chunk_feat)\n",
    "    \n",
    "  return vals"
   ]
  },
  {
   "cell_type": "code",
   "execution_count": 470,
   "metadata": {
    "scrolled": true
   },
   "outputs": [
    {
     "name": "stdout",
     "output_type": "stream",
     "text": [
      "Wall time: 1min 7s\n"
     ]
    }
   ],
   "source": [
    "%%time\n",
    "size = 300\n",
    "feat_240 = np.vstack(([create_features(fp, size, 5) for fp in two_four_path]))\n",
    "feat_360 = np.vstack(([create_features(fp, size, 5) for fp in three_six_path]))\n",
    "feat_480 = np.vstack(([create_features(fp, size, 5) for fp in four_eight_path]))\n",
    "feat_720 = np.vstack(([create_features(fp, size, 5) for fp in seven_two_path]))\n",
    "feat_1080 = np.vstack(([create_features(fp, size, 5) for fp in ten_eight_path]))"
   ]
  },
  {
   "cell_type": "code",
   "execution_count": 438,
   "metadata": {},
   "outputs": [],
   "source": [
    "features = [\n",
    "  \"download_avg\", \n",
    "  \"download_std\",\n",
    "  \"diff_pkts\",\n",
    "  \"peak_avg\",\n",
    "  \"peak_std\",\n",
    "  \"peak_amount\", \n",
    "  \"seconds_per_peak\", \n",
    "#   \"psd_first_half\", \n",
    "#   \"psd_second_half\", \n",
    "  \"psd_std\", \n",
    "  \"rolling_cv\", \n",
    "  \"diff_bytes_cv\"\n",
    "]\n",
    "\n",
    "feat_df_240 = pd.DataFrame(columns=features, data=feat_240)\n",
    "feat_df_240['resolution'] = 1\n",
    "\n",
    "feat_df_360 = pd.DataFrame(columns=features, data=feat_360)\n",
    "feat_df_360['resolution'] = 2\n",
    "\n",
    "feat_df_480 = pd.DataFrame(columns=features, data=feat_480)\n",
    "feat_df_480['resolution'] = 3\n",
    "\n",
    "feat_df_720 = pd.DataFrame(columns=features, data=feat_720)\n",
    "feat_df_720['resolution'] = 4\n",
    "\n",
    "feat_df_1080 = pd.DataFrame(columns=features, data=feat_1080)\n",
    "feat_df_1080['resolution'] = 5"
   ]
  },
  {
   "cell_type": "code",
   "execution_count": 439,
   "metadata": {},
   "outputs": [],
   "source": [
    "training = pd.concat((\n",
    "  feat_df_240,\n",
    "  feat_df_360,\n",
    "  feat_df_480,\n",
    "  feat_df_720,\n",
    "  feat_df_1080\n",
    "))\n"
   ]
  },
  {
   "cell_type": "code",
   "execution_count": 440,
   "metadata": {
    "scrolled": true
   },
   "outputs": [
    {
     "data": {
      "text/plain": [
       "download_avg        0.708073\n",
       "download_std        0.766143\n",
       "diff_pkts           0.737810\n",
       "peak_avg            0.494265\n",
       "peak_std            0.411986\n",
       "peak_amount         0.691184\n",
       "seconds_per_peak   -0.567023\n",
       "psd_std             0.401234\n",
       "rolling_cv         -0.562007\n",
       "diff_bytes_cv       0.404209\n",
       "resolution          1.000000\n",
       "Name: resolution, dtype: float64"
      ]
     },
     "execution_count": 440,
     "metadata": {},
     "output_type": "execute_result"
    }
   ],
   "source": [
    "training.corr()['resolution']"
   ]
  },
  {
   "cell_type": "code",
   "execution_count": 441,
   "metadata": {},
   "outputs": [],
   "source": [
    "from sklearn.ensemble import RandomForestClassifier\n",
    "from sklearn.tree import DecisionTreeClassifier, export_graphviz\n",
    "from sklearn.model_selection import train_test_split, GridSearchCV\n",
    "from sklearn.preprocessing import StandardScaler\n",
    "from sklearn.metrics import confusion_matrix, f1_score, accuracy_score, make_scorer"
   ]
  },
  {
   "cell_type": "code",
   "execution_count": null,
   "metadata": {},
   "outputs": [],
   "source": []
  },
  {
   "cell_type": "code",
   "execution_count": 442,
   "metadata": {},
   "outputs": [],
   "source": [
    "scaler = StandardScaler()\n",
    "for feat in training.columns:\n",
    "    if feat == \"resolution\":\n",
    "        continue\n",
    "    training[feat] = scaler.fit_transform(np.array(training[feat]).reshape(-1, 1))"
   ]
  },
  {
   "cell_type": "code",
   "execution_count": 452,
   "metadata": {},
   "outputs": [],
   "source": [
    "X, y = training.drop(columns=['resolution']), training['resolution']\n",
    "X_train, X_test, y_train, y_test = train_test_split(X, y, test_size = 0.2, random_state = 8,  stratify=training['resolution'])"
   ]
  },
  {
   "cell_type": "code",
   "execution_count": 466,
   "metadata": {},
   "outputs": [
    {
     "data": {
      "text/plain": [
       "RandomForestClassifier(max_depth=15, n_estimators=15, random_state=42)"
      ]
     },
     "execution_count": 466,
     "metadata": {},
     "output_type": "execute_result"
    }
   ],
   "source": [
    "clf = RandomForestClassifier(n_estimators = 15, max_depth = 15, criterion = 'gini', min_samples_split = 2, random_state = 42)\n",
    "clf.fit(X_train, y_train)"
   ]
  },
  {
   "cell_type": "code",
   "execution_count": 467,
   "metadata": {},
   "outputs": [],
   "source": [
    "y_pred = clf.predict(X_test)"
   ]
  },
  {
   "cell_type": "code",
   "execution_count": 468,
   "metadata": {},
   "outputs": [
    {
     "data": {
      "text/html": [
       "<div>\n",
       "<style scoped>\n",
       "    .dataframe tbody tr th:only-of-type {\n",
       "        vertical-align: middle;\n",
       "    }\n",
       "\n",
       "    .dataframe tbody tr th {\n",
       "        vertical-align: top;\n",
       "    }\n",
       "\n",
       "    .dataframe thead th {\n",
       "        text-align: right;\n",
       "    }\n",
       "</style>\n",
       "<table border=\"1\" class=\"dataframe\">\n",
       "  <thead>\n",
       "    <tr style=\"text-align: right;\">\n",
       "      <th>Predicted Resolution</th>\n",
       "      <th>1</th>\n",
       "      <th>2</th>\n",
       "      <th>3</th>\n",
       "      <th>4</th>\n",
       "      <th>5</th>\n",
       "    </tr>\n",
       "    <tr>\n",
       "      <th>Actual Resolution</th>\n",
       "      <th></th>\n",
       "      <th></th>\n",
       "      <th></th>\n",
       "      <th></th>\n",
       "      <th></th>\n",
       "    </tr>\n",
       "  </thead>\n",
       "  <tbody>\n",
       "    <tr>\n",
       "      <th>1</th>\n",
       "      <td>24</td>\n",
       "      <td>4</td>\n",
       "      <td>1</td>\n",
       "      <td>0</td>\n",
       "      <td>0</td>\n",
       "    </tr>\n",
       "    <tr>\n",
       "      <th>2</th>\n",
       "      <td>3</td>\n",
       "      <td>22</td>\n",
       "      <td>5</td>\n",
       "      <td>0</td>\n",
       "      <td>0</td>\n",
       "    </tr>\n",
       "    <tr>\n",
       "      <th>3</th>\n",
       "      <td>0</td>\n",
       "      <td>5</td>\n",
       "      <td>22</td>\n",
       "      <td>3</td>\n",
       "      <td>0</td>\n",
       "    </tr>\n",
       "    <tr>\n",
       "      <th>4</th>\n",
       "      <td>0</td>\n",
       "      <td>1</td>\n",
       "      <td>3</td>\n",
       "      <td>22</td>\n",
       "      <td>3</td>\n",
       "    </tr>\n",
       "    <tr>\n",
       "      <th>5</th>\n",
       "      <td>0</td>\n",
       "      <td>1</td>\n",
       "      <td>2</td>\n",
       "      <td>2</td>\n",
       "      <td>24</td>\n",
       "    </tr>\n",
       "  </tbody>\n",
       "</table>\n",
       "</div>"
      ],
      "text/plain": [
       "Predicted Resolution   1   2   3   4   5\n",
       "Actual Resolution                       \n",
       "1                     24   4   1   0   0\n",
       "2                      3  22   5   0   0\n",
       "3                      0   5  22   3   0\n",
       "4                      0   1   3  22   3\n",
       "5                      0   1   2   2  24"
      ]
     },
     "execution_count": 468,
     "metadata": {},
     "output_type": "execute_result"
    }
   ],
   "source": [
    "(pd.crosstab(y_test, y_pred, rownames=['Actual Resolution'], colnames=['Predicted Resolution']))"
   ]
  },
  {
   "cell_type": "code",
   "execution_count": 469,
   "metadata": {},
   "outputs": [
    {
     "data": {
      "text/plain": [
       "0.7755102040816326"
      ]
     },
     "execution_count": 469,
     "metadata": {},
     "output_type": "execute_result"
    }
   ],
   "source": [
    "accuracy_score(y_test, y_pred)"
   ]
  },
  {
   "cell_type": "code",
   "execution_count": 436,
   "metadata": {
    "scrolled": true
   },
   "outputs": [
    {
     "name": "stdout",
     "output_type": "stream",
     "text": [
      "peak_avg :  0.1709780141934423\n",
      "rolling_cv :  0.12606776866717806\n",
      "download_std :  0.12127064257145087\n",
      "seconds_per_peak :  0.1199981510220573\n",
      "peak_amount :  0.08905715713375068\n",
      "download_avg :  0.08794356670115924\n",
      "psd_std :  0.08072086640134644\n",
      "diff_pkts :  0.07683943841228803\n",
      "peak_std :  0.06941945183534073\n",
      "diff_bytes_cv :  0.05770494306198636\n"
     ]
    }
   ],
   "source": [
    "importances = clf.feature_importances_\n",
    "indices = np.argsort(importances)[::-1]\n",
    "for i in indices:\n",
    "    print(features[i],': ',importances[i])"
   ]
  },
  {
   "cell_type": "code",
   "execution_count": 355,
   "metadata": {},
   "outputs": [],
   "source": [
    "from sklearn.model_selection import train_test_split, GridSearchCV\n",
    "from sklearn.metrics import confusion_matrix, f1_score, accuracy_score, make_scorer"
   ]
  },
  {
   "cell_type": "code",
   "execution_count": 356,
   "metadata": {},
   "outputs": [
    {
     "name": "stdout",
     "output_type": "stream",
     "text": [
      "The Score for Random Forest is: 0.7011494252873564\n",
      "Wall time: 37.2 s\n"
     ]
    }
   ],
   "source": [
    "%%time\n",
    "rf_clf = RandomForestClassifier(random_state=42)\n",
    "parameters_rf = {\"n_estimators\": [4, 5, 6, 7, 8, 9, 10, 15], \"criterion\": [\"entropy\"], \"max_features\": [\"auto\"], \n",
    "                 \"max_depth\": [2, 3, 5, 10], \"min_samples_split\": [2, 3, 5, 10]}\n",
    "\n",
    "grid_rf = GridSearchCV(rf_clf, parameters_rf, scoring=make_scorer(accuracy_score))\n",
    "grid_rf.fit(X_train, y_train)\n",
    "\n",
    "rf_clf = grid_rf.best_estimator_\n",
    "\n",
    "rf_clf.fit(X_train, y_train)\n",
    "pred_rf = rf_clf.predict(X_test)\n",
    "acc_rf = accuracy_score(y_test, pred_rf)\n",
    "\n",
    "print(\"The Score for Random Forest is: \" + str(acc_rf))"
   ]
  },
  {
   "cell_type": "code",
   "execution_count": 89,
   "metadata": {},
   "outputs": [
    {
     "name": "stdout",
     "output_type": "stream",
     "text": [
      "The Score for KNeighbors is: 0.6193181818181818\n"
     ]
    }
   ],
   "source": [
    "from sklearn.neighbors import KNeighborsClassifier\n",
    "knn_clf = KNeighborsClassifier()\n",
    "\n",
    "parameters_knn = {\"n_neighbors\": [3, 5, 10, 15], \"weights\": [\"uniform\", \"distance\"], \"algorithm\": [\"auto\", \"ball_tree\", \"kd_tree\"],\n",
    "                  \"leaf_size\": [20, 30, 50]}\n",
    "\n",
    "grid_knn = GridSearchCV(knn_clf, parameters_knn, scoring=make_scorer(accuracy_score))\n",
    "grid_knn.fit(X_train, y_train)\n",
    "\n",
    "knn_clf = grid_knn.best_estimator_\n",
    "\n",
    "knn_clf.fit(X_train, y_train)\n",
    "pred_knn = knn_clf.predict(X_test)\n",
    "acc_knn = accuracy_score(y_test, pred_knn)\n",
    "\n",
    "print(\"The Score for KNeighbors is: \" + str(acc_knn))"
   ]
  },
  {
   "cell_type": "code",
   "execution_count": 90,
   "metadata": {},
   "outputs": [
    {
     "data": {
      "text/html": [
       "<div>\n",
       "<style scoped>\n",
       "    .dataframe tbody tr th:only-of-type {\n",
       "        vertical-align: middle;\n",
       "    }\n",
       "\n",
       "    .dataframe tbody tr th {\n",
       "        vertical-align: top;\n",
       "    }\n",
       "\n",
       "    .dataframe thead th {\n",
       "        text-align: right;\n",
       "    }\n",
       "</style>\n",
       "<table border=\"1\" class=\"dataframe\">\n",
       "  <thead>\n",
       "    <tr style=\"text-align: right;\">\n",
       "      <th></th>\n",
       "      <th>download_avg</th>\n",
       "      <th>download_std</th>\n",
       "      <th>diff_pkts</th>\n",
       "      <th>peak_avg</th>\n",
       "      <th>peak_std</th>\n",
       "      <th>peak_amount</th>\n",
       "      <th>seconds_per_peak</th>\n",
       "      <th>psd_std</th>\n",
       "      <th>rolling_cv</th>\n",
       "      <th>diff_bytes_cv</th>\n",
       "      <th>resolution</th>\n",
       "    </tr>\n",
       "  </thead>\n",
       "  <tbody>\n",
       "    <tr>\n",
       "      <th>0</th>\n",
       "      <td>0.493287</td>\n",
       "      <td>1.510191</td>\n",
       "      <td>58.821310</td>\n",
       "      <td>4.507905</td>\n",
       "      <td>1.912997</td>\n",
       "      <td>19.0</td>\n",
       "      <td>6.315789</td>\n",
       "      <td>0.015205</td>\n",
       "      <td>0.926742</td>\n",
       "      <td>-0.181823</td>\n",
       "      <td>1</td>\n",
       "    </tr>\n",
       "    <tr>\n",
       "      <th>1</th>\n",
       "      <td>0.302967</td>\n",
       "      <td>1.312258</td>\n",
       "      <td>46.749896</td>\n",
       "      <td>5.294754</td>\n",
       "      <td>2.047092</td>\n",
       "      <td>9.0</td>\n",
       "      <td>13.333333</td>\n",
       "      <td>0.003586</td>\n",
       "      <td>1.278257</td>\n",
       "      <td>-0.682727</td>\n",
       "      <td>1</td>\n",
       "    </tr>\n",
       "    <tr>\n",
       "      <th>2</th>\n",
       "      <td>0.435905</td>\n",
       "      <td>1.664388</td>\n",
       "      <td>78.043282</td>\n",
       "      <td>5.951872</td>\n",
       "      <td>2.296883</td>\n",
       "      <td>8.0</td>\n",
       "      <td>15.000000</td>\n",
       "      <td>0.013245</td>\n",
       "      <td>1.251495</td>\n",
       "      <td>-0.706401</td>\n",
       "      <td>1</td>\n",
       "    </tr>\n",
       "    <tr>\n",
       "      <th>3</th>\n",
       "      <td>0.478153</td>\n",
       "      <td>1.492012</td>\n",
       "      <td>49.934867</td>\n",
       "      <td>4.803225</td>\n",
       "      <td>1.413974</td>\n",
       "      <td>9.0</td>\n",
       "      <td>13.333333</td>\n",
       "      <td>0.078491</td>\n",
       "      <td>1.329746</td>\n",
       "      <td>-0.211040</td>\n",
       "      <td>1</td>\n",
       "    </tr>\n",
       "    <tr>\n",
       "      <th>4</th>\n",
       "      <td>0.363659</td>\n",
       "      <td>1.398493</td>\n",
       "      <td>61.132498</td>\n",
       "      <td>4.834723</td>\n",
       "      <td>2.133572</td>\n",
       "      <td>8.0</td>\n",
       "      <td>15.000000</td>\n",
       "      <td>0.011252</td>\n",
       "      <td>1.328031</td>\n",
       "      <td>-0.623883</td>\n",
       "      <td>1</td>\n",
       "    </tr>\n",
       "    <tr>\n",
       "      <th>...</th>\n",
       "      <td>...</td>\n",
       "      <td>...</td>\n",
       "      <td>...</td>\n",
       "      <td>...</td>\n",
       "      <td>...</td>\n",
       "      <td>...</td>\n",
       "      <td>...</td>\n",
       "      <td>...</td>\n",
       "      <td>...</td>\n",
       "      <td>...</td>\n",
       "      <td>...</td>\n",
       "    </tr>\n",
       "    <tr>\n",
       "      <th>112</th>\n",
       "      <td>2.448724</td>\n",
       "      <td>5.436599</td>\n",
       "      <td>253.678792</td>\n",
       "      <td>14.399371</td>\n",
       "      <td>4.469455</td>\n",
       "      <td>18.0</td>\n",
       "      <td>6.666667</td>\n",
       "      <td>0.023839</td>\n",
       "      <td>0.465408</td>\n",
       "      <td>-0.144615</td>\n",
       "      <td>5</td>\n",
       "    </tr>\n",
       "    <tr>\n",
       "      <th>113</th>\n",
       "      <td>2.247758</td>\n",
       "      <td>4.905930</td>\n",
       "      <td>229.184704</td>\n",
       "      <td>12.422348</td>\n",
       "      <td>4.177222</td>\n",
       "      <td>20.0</td>\n",
       "      <td>6.000000</td>\n",
       "      <td>0.047994</td>\n",
       "      <td>0.521474</td>\n",
       "      <td>-0.157645</td>\n",
       "      <td>5</td>\n",
       "    </tr>\n",
       "    <tr>\n",
       "      <th>114</th>\n",
       "      <td>1.887700</td>\n",
       "      <td>4.319024</td>\n",
       "      <td>202.057002</td>\n",
       "      <td>10.169865</td>\n",
       "      <td>4.214761</td>\n",
       "      <td>21.0</td>\n",
       "      <td>5.714286</td>\n",
       "      <td>0.014442</td>\n",
       "      <td>0.699987</td>\n",
       "      <td>-0.231061</td>\n",
       "      <td>5</td>\n",
       "    </tr>\n",
       "    <tr>\n",
       "      <th>115</th>\n",
       "      <td>1.800994</td>\n",
       "      <td>4.528866</td>\n",
       "      <td>211.316294</td>\n",
       "      <td>11.009549</td>\n",
       "      <td>5.171917</td>\n",
       "      <td>19.0</td>\n",
       "      <td>6.315789</td>\n",
       "      <td>0.002683</td>\n",
       "      <td>0.944510</td>\n",
       "      <td>-0.196947</td>\n",
       "      <td>5</td>\n",
       "    </tr>\n",
       "    <tr>\n",
       "      <th>116</th>\n",
       "      <td>1.741152</td>\n",
       "      <td>4.390486</td>\n",
       "      <td>205.251479</td>\n",
       "      <td>11.173705</td>\n",
       "      <td>4.569260</td>\n",
       "      <td>18.0</td>\n",
       "      <td>6.666667</td>\n",
       "      <td>0.041501</td>\n",
       "      <td>0.713624</td>\n",
       "      <td>-0.217658</td>\n",
       "      <td>5</td>\n",
       "    </tr>\n",
       "  </tbody>\n",
       "</table>\n",
       "<p>586 rows × 11 columns</p>\n",
       "</div>"
      ],
      "text/plain": [
       "     download_avg  download_std   diff_pkts   peak_avg  peak_std  peak_amount  \\\n",
       "0        0.493287      1.510191   58.821310   4.507905  1.912997         19.0   \n",
       "1        0.302967      1.312258   46.749896   5.294754  2.047092          9.0   \n",
       "2        0.435905      1.664388   78.043282   5.951872  2.296883          8.0   \n",
       "3        0.478153      1.492012   49.934867   4.803225  1.413974          9.0   \n",
       "4        0.363659      1.398493   61.132498   4.834723  2.133572          8.0   \n",
       "..            ...           ...         ...        ...       ...          ...   \n",
       "112      2.448724      5.436599  253.678792  14.399371  4.469455         18.0   \n",
       "113      2.247758      4.905930  229.184704  12.422348  4.177222         20.0   \n",
       "114      1.887700      4.319024  202.057002  10.169865  4.214761         21.0   \n",
       "115      1.800994      4.528866  211.316294  11.009549  5.171917         19.0   \n",
       "116      1.741152      4.390486  205.251479  11.173705  4.569260         18.0   \n",
       "\n",
       "     seconds_per_peak   psd_std  rolling_cv  diff_bytes_cv  resolution  \n",
       "0            6.315789  0.015205    0.926742      -0.181823           1  \n",
       "1           13.333333  0.003586    1.278257      -0.682727           1  \n",
       "2           15.000000  0.013245    1.251495      -0.706401           1  \n",
       "3           13.333333  0.078491    1.329746      -0.211040           1  \n",
       "4           15.000000  0.011252    1.328031      -0.623883           1  \n",
       "..                ...       ...         ...            ...         ...  \n",
       "112          6.666667  0.023839    0.465408      -0.144615           5  \n",
       "113          6.000000  0.047994    0.521474      -0.157645           5  \n",
       "114          5.714286  0.014442    0.699987      -0.231061           5  \n",
       "115          6.315789  0.002683    0.944510      -0.196947           5  \n",
       "116          6.666667  0.041501    0.713624      -0.217658           5  \n",
       "\n",
       "[586 rows x 11 columns]"
      ]
     },
     "execution_count": 90,
     "metadata": {},
     "output_type": "execute_result"
    }
   ],
   "source": [
    "training"
   ]
  },
  {
   "cell_type": "code",
   "execution_count": null,
   "metadata": {},
   "outputs": [],
   "source": [
    "## wip; need to decide chunk size eventually\n",
    "## should we also make this chunking feature be our feature creation?\n",
    "\n",
    "def chunk_data(df, interval=120):\n",
    "\n",
    "    \"\"\"\n",
    "    takes in a filepath to the data you want to chunk and feature engineer\n",
    "    chunks our data into a specified time interval\n",
    "    each chunk is then turned into an observation to be fed into our classifier\n",
    "    \"\"\"\n",
    "\n",
    "    df_list = []\n",
    "    \n",
    "    df['Time'] = df['Time'] - df['Time'].min()\n",
    "    \n",
    "    total_chunks = np.floor(df['Time'].max() / interval).astype(int)\n",
    "\n",
    "    for chunk in np.arange(total_chunks):\n",
    "      \n",
    "        start = chunk * interval\n",
    "        end = (chunk+1) * interval\n",
    "\n",
    "        temp_df = (df[(df['Time'] >= start) & (df['Time'] < end)])\n",
    "        \n",
    "        df_list.append(temp_df)\n",
    "        \n",
    "    return df_list"
   ]
  },
  {
   "cell_type": "code",
   "execution_count": null,
   "metadata": {},
   "outputs": [],
   "source": [
    "def create_features(df, interval=60):\n",
    "\n",
    "  features = [\n",
    "    'dwl_peak_freq',\n",
    "    'dwl_peak_prom',\n",
    "    'dwl_max_psd',\n",
    "    'dwl_bytes_avg',\n",
    "    'dwl_bytes_std',\n",
    "    'dwl_peak_avg',\n",
    "    'dwl_peak_var',\n",
    "    'dwl_peak_std',\n",
    "    'upl_peak_freq',\n",
    "    'upl_peak_prom',\n",
    "    'upl_max_psd',\n",
    "    'upl_bytes_avg',\n",
    "    'upl_bytes_std',\n",
    "    'upl_peak_avg',\n",
    "    'upl_peak_var',\n",
    "    'upl_peak_std',\n",
    "    'IMAN_dwn_time_peak',#'IMAN_up_time_peak',\n",
    "    'IMAN_dwn_num_peak'#,'IMAN_up_num_peak'\n",
    "  ]  \n",
    "\n",
    "  vals = []\n",
    "\n",
    "  df_chunks = chunk_data(df, interval)\n",
    "\n",
    "  for chunk in df_chunks:\n",
    "\n",
    "    preproc = convert_ms_df(chunk, True)\n",
    "    upl_bytes = preproc[preproc['pkt_src'] == '1'].resample('500ms', on='Time').sum()\n",
    "    dwl_bytes = preproc[preproc['pkt_src'] == '2'].resample('500ms', on='Time').sum()\n",
    "\n",
    "    ## spectral features\n",
    "    dwl_spectral = spectral_features(dwl_bytes, 'pkt_size')\n",
    "    upl_spectral = spectral_features(upl_bytes, 'pkt_size')\n",
    "    \n",
    "    ## aggregate features\n",
    "    dwl_agg = agg_feat(chunk, '2->1Bytes')\n",
    "    upl_agg = agg_feat(chunk, '1->2Bytes')\n",
    "    \n",
    "    ## peak features\n",
    "    dwl_peak = peak_time_diff(chunk, '2->1Bytes')\n",
    "    upl_peak = peak_time_diff(chunk, '1->2Bytes')\n",
    "    \n",
    "    ## iman's time between peak \n",
    "    iman_dwn_time_peak = np.mean(peak_times(chunk,'2->1Bytes',1000000))\n",
    "    #iman_up_time_peak = np.mean(peak_times(chunk,'1->2Bytes',50000))\n",
    "\n",
    "    ## iman's num peak\n",
    "    iman_dwn_num_peak = num_peaks(chunk,'2->1Bytes',1000000)\n",
    "    #iman_up_num_peak = num_peaks(chunk,'1->2Bytes',50000)\n",
    "\n",
    "    feat_val = np.hstack((\n",
    "      dwl_spectral,\n",
    "      dwl_agg,\n",
    "      dwl_peak,\n",
    "      upl_spectral,\n",
    "      upl_agg,\n",
    "      upl_peak,\n",
    "      iman_dwn_time_peak,\n",
    "      #iman_up_time_peak,\n",
    "      iman_dwn_num_peak,\n",
    "      #iman_up_num_peak\n",
    "    ))\n",
    "    \n",
    "    vals.append(feat_val)\n",
    "    \n",
    "  return pd.DataFrame(columns=features, data=vals).fillna(0)"
   ]
  },
  {
   "cell_type": "code",
   "execution_count": null,
   "metadata": {},
   "outputs": [],
   "source": [
    "def create_features_no_split(df, interval=60):\n",
    "\n",
    "  features = [\n",
    "    'peak_freq',\n",
    "    'peak_prom',\n",
    "    'max_psd',\n",
    "    'bytes_avg',\n",
    "    'bytes_std',\n",
    "    'peak_avg',\n",
    "    'peak_var',\n",
    "    'peak_std',\n",
    "  ]  \n",
    "\n",
    "  vals = []\n",
    "\n",
    "  df_chunks = chunk_data(df, interval)\n",
    "\n",
    "  for chunk in df_chunks:\n",
    "\n",
    "    preproc = convert_ms_df(chunk, True)\n",
    "\n",
    "    ## spectral features\n",
    "    spectral_feat = spectral_features(preproc, 'pkt_size')\n",
    "    \n",
    "    ## aggregate features\n",
    "    aggr_feat = agg_feat(chunk, '2->1Bytes')\n",
    "    \n",
    "    ## peak features\n",
    "    peak_feat = peak_time_diff(chunk, '2->1Bytes')\n",
    "    \n",
    "    feat_val = np.hstack((\n",
    "      spectral_feat,\n",
    "      aggr_feat,\n",
    "      peak_feat\n",
    "    ))\n",
    "    \n",
    "    vals.append(feat_val)\n",
    "    \n",
    "  return pd.DataFrame(columns=features, data=vals).fillna(0)"
   ]
  },
  {
   "cell_type": "code",
   "execution_count": null,
   "metadata": {},
   "outputs": [],
   "source": [
    "low_feat_no_split = create_features_no_split(stdoan_low, 100)"
   ]
  },
  {
   "cell_type": "code",
   "execution_count": null,
   "metadata": {},
   "outputs": [],
   "source": []
  },
  {
   "cell_type": "code",
   "execution_count": null,
   "metadata": {},
   "outputs": [],
   "source": []
  },
  {
   "cell_type": "markdown",
   "metadata": {},
   "source": [
    "## Dev Playground"
   ]
  },
  {
   "cell_type": "code",
   "execution_count": null,
   "metadata": {},
   "outputs": [],
   "source": [
    "from sklearn.model_selection import train_test_split\n",
    "from sklearn.preprocessing import StandardScaler\n",
    "from sklearn.ensemble import RandomForestClassifier\n",
    "from sklearn.metrics import confusion_matrix, f1_score, accuracy_score"
   ]
  },
  {
   "cell_type": "code",
   "execution_count": null,
   "metadata": {},
   "outputs": [],
   "source": [
    "%%time\n",
    "low_feat = pd.concat([create_features(df, 100) for df in low_dfs])\n",
    "med_feat = pd.concat([create_features(df, 100) for df in med_dfs])\n",
    "high_feat = pd.concat([create_features(df, 100) for df in high_dfs])"
   ]
  },
  {
   "cell_type": "code",
   "execution_count": null,
   "metadata": {},
   "outputs": [],
   "source": [
    "low_feat['resolution'] = np.zeros(len(low_feat))\n",
    "med_feat['resolution'] = np.zeros(len(med_feat)) + 1\n",
    "high_feat['resolution'] = np.zeros(len(high_feat)) + 2"
   ]
  },
  {
   "cell_type": "code",
   "execution_count": null,
   "metadata": {},
   "outputs": [],
   "source": [
    "training_split = pd.concat([low_feat, med_feat, high_feat])"
   ]
  },
  {
   "cell_type": "code",
   "execution_count": null,
   "metadata": {},
   "outputs": [],
   "source": [
    "X, y = training_split.drop(columns=['resolution']), training_split['resolution']\n",
    "X_train, X_test, y_train, y_test = train_test_split(X, y, test_size = 0.3, random_state = 8)"
   ]
  },
  {
   "cell_type": "code",
   "execution_count": null,
   "metadata": {},
   "outputs": [],
   "source": [
    "clf_split = RandomForestClassifier(n_estimators = 5, max_depth = 2, criterion = 'entropy', random_state = 42)\n",
    "clf_split.fit(X_train, y_train)"
   ]
  },
  {
   "cell_type": "code",
   "execution_count": null,
   "metadata": {},
   "outputs": [],
   "source": [
    "y_pred = clf_split.predict(X_test)"
   ]
  },
  {
   "cell_type": "code",
   "execution_count": null,
   "metadata": {},
   "outputs": [],
   "source": [
    "np.abs(training_split.corr()['resolution']).sort_values(ascending=False)"
   ]
  },
  {
   "cell_type": "code",
   "execution_count": null,
   "metadata": {},
   "outputs": [],
   "source": [
    "(pd.crosstab(y_test, y_pred, rownames=['Actual Resolution'], colnames=['Predicted Resolution']))"
   ]
  },
  {
   "cell_type": "code",
   "execution_count": null,
   "metadata": {},
   "outputs": [],
   "source": [
    "f1_score(y_test, y_pred, average=None)"
   ]
  },
  {
   "cell_type": "code",
   "execution_count": null,
   "metadata": {},
   "outputs": [],
   "source": [
    "accuracy_score(y_test, y_pred)"
   ]
  },
  {
   "cell_type": "code",
   "execution_count": null,
   "metadata": {},
   "outputs": [],
   "source": [
    "features = [\n",
    "  'dwl_peak_freq',\n",
    "  'dwl_peak_prom',\n",
    "  'dwl_max_psd',\n",
    "  'dwl_bytes_avg',\n",
    "  'dwl_bytes_std',\n",
    "  'dwl_peak_avg',\n",
    "  'dwl_peak_var',\n",
    "  'dwl_peak_std',\n",
    "  'upl_peak_freq',\n",
    "  'upl_peak_prom',\n",
    "  'upl_max_psd',\n",
    "  'upl_bytes_avg',\n",
    "  'upl_bytes_std',\n",
    "  'upl_peak_avg',\n",
    "  'upl_peak_var',\n",
    "  'upl_peak_std',\n",
    "  'IMAN_dwn_time_peak',#'IMAN_up_time_peak'\n",
    "            'IMAN_dwn_num_peak']#,'IMAN_up_num_peak']\n",
    "importances = clf_split.feature_importances_\n",
    "indices = np.argsort(importances)[::-1]\n",
    "for i in indices:\n",
    "    print(features[i],': ',importances[i])\n",
    "    "
   ]
  },
  {
   "cell_type": "code",
   "execution_count": null,
   "metadata": {},
   "outputs": [],
   "source": [
    "import dill"
   ]
  },
  {
   "cell_type": "code",
   "execution_count": null,
   "metadata": {},
   "outputs": [],
   "source": [
    "dill.dump(clf_split, open(\"randomforest_chkpt2.obj\", \"wb\"))"
   ]
  },
  {
   "cell_type": "code",
   "execution_count": null,
   "metadata": {
    "scrolled": true
   },
   "outputs": [],
   "source": [
    "dill.load(open(\"randomforest_chkpt2.obj\", \"rb\"))"
   ]
  },
  {
   "cell_type": "code",
   "execution_count": null,
   "metadata": {},
   "outputs": [],
   "source": [
    "pip install scikit-learn"
   ]
  },
  {
   "cell_type": "markdown",
   "metadata": {},
   "source": [
    "## no split (download focus)"
   ]
  },
  {
   "cell_type": "code",
   "execution_count": null,
   "metadata": {},
   "outputs": [],
   "source": [
    "%%time\n",
    "low_feat_no_split = create_features_no_split(stdoan_low, 100)\n",
    "med_feat_no_split = create_features_no_split(stdoan_med, 100)\n",
    "high_feat_no_split = create_features_no_split(stdoan_high, 100)"
   ]
  },
  {
   "cell_type": "code",
   "execution_count": null,
   "metadata": {},
   "outputs": [],
   "source": [
    "low_feat_no_split['resolution'] = np.zeros(len(low_feat))\n",
    "med_feat_no_split['resolution'] = np.zeros(len(med_feat)) + 1\n",
    "high_feat_no_split['resolution'] = np.zeros(len(high_feat)) + 2"
   ]
  },
  {
   "cell_type": "code",
   "execution_count": null,
   "metadata": {},
   "outputs": [],
   "source": [
    "training_no_split = pd.concat([low_feat_no_split, med_feat_no_split, high_feat_no_split])"
   ]
  },
  {
   "cell_type": "code",
   "execution_count": null,
   "metadata": {},
   "outputs": [],
   "source": [
    "X, y = training_no_split.drop(columns=['resolution']), training_no_split['resolution']\n",
    "X_train, X_test, y_train, y_test = train_test_split(X, y, test_size = 0.3, random_state = 8)"
   ]
  },
  {
   "cell_type": "code",
   "execution_count": null,
   "metadata": {},
   "outputs": [],
   "source": [
    "clf_no_split = RandomForestClassifier(n_estimators = 2, max_depth = 2, criterion = 'entropy', random_state = 42)\n",
    "clf_no_split.fit(X_train, y_train)"
   ]
  },
  {
   "cell_type": "code",
   "execution_count": null,
   "metadata": {},
   "outputs": [],
   "source": [
    "y_pred = clf_no_split.predict(X_test)"
   ]
  },
  {
   "cell_type": "code",
   "execution_count": null,
   "metadata": {},
   "outputs": [],
   "source": [
    "np.abs(training_no_split.corr()['resolution']).sort_values(ascending=False)"
   ]
  },
  {
   "cell_type": "code",
   "execution_count": null,
   "metadata": {},
   "outputs": [],
   "source": [
    "(pd.crosstab(y_test, y_pred, rownames=['Actual Resolution'], colnames=['Predicted Resolution']))"
   ]
  },
  {
   "cell_type": "code",
   "execution_count": null,
   "metadata": {},
   "outputs": [],
   "source": [
    "f1_score(y_test, y_pred, average=None)"
   ]
  },
  {
   "cell_type": "code",
   "execution_count": null,
   "metadata": {},
   "outputs": [],
   "source": []
  },
  {
   "cell_type": "code",
   "execution_count": null,
   "metadata": {},
   "outputs": [],
   "source": []
  }
 ],
 "metadata": {
  "kernelspec": {
   "display_name": "Python 3",
   "language": "python",
   "name": "python3"
  },
  "language_info": {
   "codemirror_mode": {
    "name": "ipython",
    "version": 3
   },
   "file_extension": ".py",
   "mimetype": "text/x-python",
   "name": "python",
   "nbconvert_exporter": "python",
   "pygments_lexer": "ipython3",
   "version": "3.7.1"
  }
 },
 "nbformat": 4,
 "nbformat_minor": 2
}
